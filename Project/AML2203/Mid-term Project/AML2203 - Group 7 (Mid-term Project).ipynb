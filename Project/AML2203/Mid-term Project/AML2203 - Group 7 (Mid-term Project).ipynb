{
 "cells": [
  {
   "attachments": {},
   "cell_type": "markdown",
   "metadata": {},
   "source": [
    "# **Data Analysis and Logistic Regression on Ischaemic Heart Disease**\n",
    "\n",
    "In 2019, the World Health Organization (WHO) declared that Ischaemic Heart Disease is the leading cause of death worldwide, accounting for 16% of all deaths <a href=\"#ref-01\">[1]</a>. They also mentioned that annual deaths among men were around 15% more than women <a href=\"#ref-02\">[2]</a>."
   ]
  },
  {
   "attachments": {},
   "cell_type": "markdown",
   "metadata": {},
   "source": [
    "## Table of Contents\n",
    "\n",
    "1. <a href=\"#toc-01\">Import Dataset and Data Transformation</a>\n",
    "2. <a href=\"#toc-02\">Exploratory Data Analysis</a>\n",
    "3. <a href=\"#toc-03\">Model Creation</a>\n",
    "4. <a href=\"#toc-04\">Model Evaluation</a>\n",
    "5. <a href=\"#toc-05\">Make Test Predications</a>\n",
    "6. <a href=\"#toc-06\">References</a>"
   ]
  },
  {
   "cell_type": "code",
   "execution_count": 59,
   "metadata": {},
   "outputs": [],
   "source": [
    "import numpy as np\n",
    "import pandas as pd\n",
    "import matplotlib.pyplot as plt\n",
    "import seaborn as sb\n",
    "\n",
    "from sklearn.linear_model import LogisticRegression\n",
    "from sklearn.model_selection import train_test_split\n",
    "from sklearn.model_selection import cross_val_predict\n",
    "from sklearn.metrics import classification_report\n",
    "from sklearn.metrics import confusion_matrix\n",
    "from sklearn.metrics import precision_score\n",
    "\n",
    "import warnings\n",
    "warnings.filterwarnings(\"ignore\")"
   ]
  },
  {
   "attachments": {},
   "cell_type": "markdown",
   "metadata": {},
   "source": [
    "## Import Dataset and Data Transformation<a id=\"toc-01\"></a>\n",
    "\n",
    "Dataset for income grouping was taken from <a href=\"https://www.who.int/docs/default-source/gho-documents/global-health-estimates/ghe2019_cod_methods.pdf\">WHO methods and data sources of country-level causes of death (p. 49)</a>.\n",
    "\n",
    "After reading data from the source, all records with missing data under income_grouping will be dropped as this category is necessary for data analysis."
   ]
  },
  {
   "cell_type": "code",
   "execution_count": 74,
   "metadata": {},
   "outputs": [
    {
     "name": "stdout",
     "output_type": "stream",
     "text": [
      "<class 'pandas.core.frame.DataFrame'>\n",
      "RangeIndex: 109 entries, 0 to 108\n",
      "Data columns (total 5 columns):\n",
      " #   Column           Non-Null Count  Dtype \n",
      "---  ------           --------------  ----- \n",
      " 0   region_code      109 non-null    object\n",
      " 1   region_name      109 non-null    object\n",
      " 2   country_code     109 non-null    object\n",
      " 3   country_name     109 non-null    object\n",
      " 4   income_grouping  109 non-null    object\n",
      "dtypes: object(5)\n",
      "memory usage: 4.4+ KB\n"
     ]
    }
   ],
   "source": [
    "income_grouping_2019 = pd.read_csv('./datasets/World Bank Income Grouping 2019.csv')\n",
    "\n",
    "income_grouping_2019.dropna(inplace=True)   # Drop all rows with NaN values\n",
    "income_grouping_2019.reset_index(inplace=True, drop=True)\n",
    "\n",
    "income_grouping_2019.info()"
   ]
  },
  {
   "attachments": {},
   "cell_type": "markdown",
   "metadata": {},
   "source": [
    "Dataset for Ischaemic Heart Disease was taken from <a href=\"https://platform.who.int/mortality/themes/theme-details/topics/indicator-groups/indicator-group-details/MDB/ischaemic-heart-disease\">WHO's interactive platform for mortality data</a>.\n",
    "\n",
    "After reading data from the source, the records are filtered by\n",
    "- <b>Sex</b>: Male and Female only (removing 'Unknown' and 'All' from the list)\n",
    "- <b>Age Group</b>: Remove 'All' and 'Unknown'\n",
    "- <b>Year</b>: Take only data from 1963 to 2019\n",
    "    - Records before 1963 do not have data for Low Middle Income\n",
    "    - Records for 2020 is incomplete\n",
    "- <b>Date Rate per 100,000</b>: Remove records with zero values"
   ]
  },
  {
   "cell_type": "code",
   "execution_count": 85,
   "metadata": {},
   "outputs": [
    {
     "name": "stdout",
     "output_type": "stream",
     "text": [
      "<class 'pandas.core.frame.DataFrame'>\n",
      "Int64Index: 163210 entries, 22 to 296540\n",
      "Data columns (total 12 columns):\n",
      " #   Column                                                Non-Null Count   Dtype  \n",
      "---  ------                                                --------------   -----  \n",
      " 0   region_code                                           163210 non-null  object \n",
      " 1   region_name                                           163210 non-null  object \n",
      " 2   country_code                                          163210 non-null  object \n",
      " 3   country_name                                          163210 non-null  object \n",
      " 4   year                                                  163210 non-null  int64  \n",
      " 5   sex                                                   163210 non-null  object \n",
      " 6   age_group_code                                        163210 non-null  object \n",
      " 7   age_group                                             163210 non-null  object \n",
      " 8   num_of_death                                          163210 non-null  float64\n",
      " 9   percentage_cause_specific_deaths_out_of_total_deaths  163210 non-null  float64\n",
      " 10  age_standardized_death_rate_per_100000                163210 non-null  float64\n",
      " 11  death_rate_per_100000                                 163210 non-null  float64\n",
      "dtypes: float64(4), int64(1), object(7)\n",
      "memory usage: 16.2+ MB\n"
     ]
    }
   ],
   "source": [
    "ihd_df = pd.read_csv('./datasets/Ischaemic Heart Disease.csv')\n",
    "\n",
    "ihd_df_filtered = ihd_df.fillna(0)  # Fill all NaN cells with 0\n",
    "ihd_df_filtered = ihd_df_filtered.query(\"sex == ['Male', 'Female'] and age_group != ['[All]', '[Unknown]'] and (year >= 1963 and year < 2020) \")\n",
    "# ihd_df_filtered = ihd_df_filtered.query(\"sex == ['Male', 'Female'] and age_group != ['[All]', '[Unknown]'] and (year >= 1963 and year < 2020) and death_rate_per_100000 != 0\")\n",
    "\n",
    "ihd_df_filtered.info()"
   ]
  },
  {
   "attachments": {},
   "cell_type": "markdown",
   "metadata": {},
   "source": [
    "Merge the necessary fields from Ischeamic Heart Disease and Income Grouping tables"
   ]
  },
  {
   "cell_type": "code",
   "execution_count": 86,
   "metadata": {},
   "outputs": [
    {
     "name": "stdout",
     "output_type": "stream",
     "text": [
      "<class 'pandas.core.frame.DataFrame'>\n",
      "Int64Index: 159752 entries, 0 to 159751\n",
      "Data columns (total 6 columns):\n",
      " #   Column                 Non-Null Count   Dtype  \n",
      "---  ------                 --------------   -----  \n",
      " 0   country_code           159752 non-null  object \n",
      " 1   year                   159752 non-null  int64  \n",
      " 2   sex                    159752 non-null  object \n",
      " 3   age_group              159752 non-null  object \n",
      " 4   death_rate_per_100000  159752 non-null  float64\n",
      " 5   income_grouping        159752 non-null  object \n",
      "dtypes: float64(1), int64(1), object(4)\n",
      "memory usage: 8.5+ MB\n"
     ]
    }
   ],
   "source": [
    "ihd_with_ig_df = ihd_df_filtered[['country_code', 'year', 'sex', 'age_group', 'death_rate_per_100000']].merge(income_grouping_2019[['country_code', 'income_grouping']], on='country_code')\n",
    "\n",
    "ihd_with_ig_df.info()"
   ]
  },
  {
   "attachments": {},
   "cell_type": "markdown",
   "metadata": {},
   "source": [
    "Rename the age group category based from Statistics Canada's <a href=\"https://www.statcan.gc.ca/en/concepts/definitions/age2\">Age Categories, Life Cycle Groupings</a>\n",
    "- <b>Children</b>: 00-14 years\n",
    "- <b>Youth</b>: 15-24 years\n",
    "- <b>Adults</b>: 25-64 years\n",
    "- <b>Seniors</b>: 65 years and over"
   ]
  },
  {
   "cell_type": "code",
   "execution_count": 87,
   "metadata": {},
   "outputs": [
    {
     "data": {
      "text/plain": [
       "Adults      67264\n",
       "Seniors     42040\n",
       "Children    33632\n",
       "Youth       16816\n",
       "Name: age_group, dtype: int64"
      ]
     },
     "execution_count": 87,
     "metadata": {},
     "output_type": "execute_result"
    }
   ],
   "source": [
    "ihd_with_ig_df['age_group'] = np.where(ihd_with_ig_df['age_group'] == '[0]', 'Children', ihd_with_ig_df['age_group'])\n",
    "ihd_with_ig_df['age_group'] = np.where(ihd_with_ig_df['age_group'] == '[1-4]', 'Children', ihd_with_ig_df['age_group'])\n",
    "ihd_with_ig_df['age_group'] = np.where(ihd_with_ig_df['age_group'] == '[5-9]', 'Children', ihd_with_ig_df['age_group'])\n",
    "ihd_with_ig_df['age_group'] = np.where(ihd_with_ig_df['age_group'] == '[10-14]', 'Children', ihd_with_ig_df['age_group'])\n",
    "\n",
    "ihd_with_ig_df['age_group'] = np.where(ihd_with_ig_df['age_group'] == '[15-19]', 'Youth', ihd_with_ig_df['age_group'])\n",
    "ihd_with_ig_df['age_group'] = np.where(ihd_with_ig_df['age_group'] == '[20-24]', 'Youth', ihd_with_ig_df['age_group'])\n",
    "\n",
    "ihd_with_ig_df['age_group'] = np.where(ihd_with_ig_df['age_group'] == '[25-29]', 'Adults', ihd_with_ig_df['age_group'])\n",
    "ihd_with_ig_df['age_group'] = np.where(ihd_with_ig_df['age_group'] == '[30-34]', 'Adults', ihd_with_ig_df['age_group'])\n",
    "ihd_with_ig_df['age_group'] = np.where(ihd_with_ig_df['age_group'] == '[35-39]', 'Adults', ihd_with_ig_df['age_group'])\n",
    "ihd_with_ig_df['age_group'] = np.where(ihd_with_ig_df['age_group'] == '[40-44]', 'Adults', ihd_with_ig_df['age_group'])\n",
    "ihd_with_ig_df['age_group'] = np.where(ihd_with_ig_df['age_group'] == '[45-49]', 'Adults', ihd_with_ig_df['age_group'])\n",
    "ihd_with_ig_df['age_group'] = np.where(ihd_with_ig_df['age_group'] == '[50-54]', 'Adults', ihd_with_ig_df['age_group'])\n",
    "ihd_with_ig_df['age_group'] = np.where(ihd_with_ig_df['age_group'] == '[55-59]', 'Adults', ihd_with_ig_df['age_group'])\n",
    "ihd_with_ig_df['age_group'] = np.where(ihd_with_ig_df['age_group'] == '[60-64]', 'Adults', ihd_with_ig_df['age_group'])\n",
    "\n",
    "ihd_with_ig_df['age_group'] = np.where(ihd_with_ig_df['age_group'] == '[65-69]', 'Seniors', ihd_with_ig_df['age_group'])\n",
    "ihd_with_ig_df['age_group'] = np.where(ihd_with_ig_df['age_group'] == '[70-74]', 'Seniors', ihd_with_ig_df['age_group'])\n",
    "ihd_with_ig_df['age_group'] = np.where(ihd_with_ig_df['age_group'] == '[75-79]', 'Seniors', ihd_with_ig_df['age_group'])\n",
    "ihd_with_ig_df['age_group'] = np.where(ihd_with_ig_df['age_group'] == '[80-84]', 'Seniors', ihd_with_ig_df['age_group'])\n",
    "ihd_with_ig_df['age_group'] = np.where(ihd_with_ig_df['age_group'] == '[85+]', 'Seniors', ihd_with_ig_df['age_group'])\n",
    "\n",
    "ihd_with_ig_df['age_group'].value_counts()\n",
    "\n",
    "# ihd_with_ig_df.groupby(['age_group', 'sex'])['death_rate_per_100000'].describe()"
   ]
  },
  {
   "attachments": {},
   "cell_type": "markdown",
   "metadata": {},
   "source": [
    "## Exploratory Data Analysis<a id=\"toc-02\"></a>"
   ]
  },
  {
   "attachments": {},
   "cell_type": "markdown",
   "metadata": {},
   "source": [
    "### Data Analysis on Income Grouping per Year\n",
    "\n",
    "Group the records by `income_grouping` then display the summary statistics of `death_rate_per_100000` for each `income_grouping`. \n",
    "\n",
    "**NOTE**: WHO didn't provide records for Low Income grouping. Hence, it is excluded from the study."
   ]
  },
  {
   "cell_type": "code",
   "execution_count": 88,
   "metadata": {},
   "outputs": [
    {
     "data": {
      "text/html": [
       "<div>\n",
       "<style scoped>\n",
       "    .dataframe tbody tr th:only-of-type {\n",
       "        vertical-align: middle;\n",
       "    }\n",
       "\n",
       "    .dataframe tbody tr th {\n",
       "        vertical-align: top;\n",
       "    }\n",
       "\n",
       "    .dataframe thead th {\n",
       "        text-align: right;\n",
       "    }\n",
       "</style>\n",
       "<table border=\"1\" class=\"dataframe\">\n",
       "  <thead>\n",
       "    <tr style=\"text-align: right;\">\n",
       "      <th></th>\n",
       "      <th>count</th>\n",
       "      <th>mean</th>\n",
       "      <th>std</th>\n",
       "      <th>min</th>\n",
       "      <th>25%</th>\n",
       "      <th>50%</th>\n",
       "      <th>75%</th>\n",
       "      <th>max</th>\n",
       "    </tr>\n",
       "    <tr>\n",
       "      <th>income_grouping</th>\n",
       "      <th></th>\n",
       "      <th></th>\n",
       "      <th></th>\n",
       "      <th></th>\n",
       "      <th></th>\n",
       "      <th></th>\n",
       "      <th></th>\n",
       "      <th></th>\n",
       "    </tr>\n",
       "  </thead>\n",
       "  <tbody>\n",
       "    <tr>\n",
       "      <th>High Income</th>\n",
       "      <td>87552.0</td>\n",
       "      <td>436.019857</td>\n",
       "      <td>1138.862327</td>\n",
       "      <td>0.0</td>\n",
       "      <td>0.000000</td>\n",
       "      <td>9.736116</td>\n",
       "      <td>269.784231</td>\n",
       "      <td>26000.00000</td>\n",
       "    </tr>\n",
       "    <tr>\n",
       "      <th>Low Middle Income</th>\n",
       "      <td>14934.0</td>\n",
       "      <td>709.890154</td>\n",
       "      <td>1936.308677</td>\n",
       "      <td>0.0</td>\n",
       "      <td>1.043743</td>\n",
       "      <td>20.255848</td>\n",
       "      <td>307.993994</td>\n",
       "      <td>20608.95823</td>\n",
       "    </tr>\n",
       "    <tr>\n",
       "      <th>Upper Middle Income</th>\n",
       "      <td>57266.0</td>\n",
       "      <td>367.902621</td>\n",
       "      <td>1051.257164</td>\n",
       "      <td>0.0</td>\n",
       "      <td>0.000000</td>\n",
       "      <td>10.339872</td>\n",
       "      <td>223.535812</td>\n",
       "      <td>19016.29073</td>\n",
       "    </tr>\n",
       "  </tbody>\n",
       "</table>\n",
       "</div>"
      ],
      "text/plain": [
       "                       count        mean          std  min       25%  \\\n",
       "income_grouping                                                        \n",
       "High Income          87552.0  436.019857  1138.862327  0.0  0.000000   \n",
       "Low Middle Income    14934.0  709.890154  1936.308677  0.0  1.043743   \n",
       "Upper Middle Income  57266.0  367.902621  1051.257164  0.0  0.000000   \n",
       "\n",
       "                           50%         75%          max  \n",
       "income_grouping                                          \n",
       "High Income           9.736116  269.784231  26000.00000  \n",
       "Low Middle Income    20.255848  307.993994  20608.95823  \n",
       "Upper Middle Income  10.339872  223.535812  19016.29073  "
      ]
     },
     "execution_count": 88,
     "metadata": {},
     "output_type": "execute_result"
    }
   ],
   "source": [
    "ihd_with_ig_grp_income = ihd_with_ig_df.groupby(['income_grouping']) \n",
    "\n",
    "ihd_with_ig_grp_income['death_rate_per_100000'].describe()"
   ]
  },
  {
   "attachments": {},
   "cell_type": "markdown",
   "metadata": {},
   "source": [
    "Extract the records for `High Income` category. Aggregate them by `year` then get the mean of `death_rate_per_100000` for each year. Create separate dataframe for `year` and `death_rate_per_100000`."
   ]
  },
  {
   "cell_type": "code",
   "execution_count": 91,
   "metadata": {},
   "outputs": [
    {
     "name": "stdout",
     "output_type": "stream",
     "text": [
      "<class 'pandas.core.frame.DataFrame'>\n",
      "RangeIndex: 57 entries, 0 to 56\n",
      "Data columns (total 2 columns):\n",
      " #   Column                 Non-Null Count  Dtype  \n",
      "---  ------                 --------------  -----  \n",
      " 0   year                   57 non-null     int64  \n",
      " 1   death_rate_per_100000  57 non-null     float64\n",
      "dtypes: float64(1), int64(1)\n",
      "memory usage: 1.0 KB\n"
     ]
    }
   ],
   "source": [
    "ihd_with_ig_grpby_high_income = ihd_with_ig_grp_income.get_group('High Income')\n",
    "ihd_with_ig_grpby_high_income_and_year = ihd_with_ig_grpby_high_income[['year', 'death_rate_per_100000']].groupby('year', as_index=False).agg(death_rate_per_100000 = ('death_rate_per_100000', 'mean'))\n",
    "\n",
    "year_by_high_income = ihd_with_ig_grpby_high_income_and_year['year']\n",
    "death_rate_per_100000_by_high_income = ihd_with_ig_grpby_high_income_and_year['death_rate_per_100000']\n",
    "\n",
    "ihd_with_ig_grpby_high_income_and_year.info()"
   ]
  },
  {
   "attachments": {},
   "cell_type": "markdown",
   "metadata": {},
   "source": [
    "Extract the records for `Upper Middle Income` category. Aggregate them by `year` then get the mean of `death_rate_per_100000` for each year. Create separate dataframe for `year` and `death_rate_per_100000`."
   ]
  },
  {
   "cell_type": "code",
   "execution_count": 92,
   "metadata": {},
   "outputs": [
    {
     "name": "stdout",
     "output_type": "stream",
     "text": [
      "<class 'pandas.core.frame.DataFrame'>\n",
      "RangeIndex: 57 entries, 0 to 56\n",
      "Data columns (total 2 columns):\n",
      " #   Column                 Non-Null Count  Dtype  \n",
      "---  ------                 --------------  -----  \n",
      " 0   year                   57 non-null     int64  \n",
      " 1   death_rate_per_100000  57 non-null     float64\n",
      "dtypes: float64(1), int64(1)\n",
      "memory usage: 1.0 KB\n"
     ]
    }
   ],
   "source": [
    "ihd_with_ig_grpby_upper_middle_income = ihd_with_ig_grp_income.get_group('Upper Middle Income')\n",
    "ihd_with_ig_grpby_upper_middle_income_and_year = ihd_with_ig_grpby_upper_middle_income[['year', 'death_rate_per_100000']].groupby('year', as_index=False).agg(death_rate_per_100000 = ('death_rate_per_100000', 'mean'))\n",
    "\n",
    "year_by_upper_mid_income = ihd_with_ig_grpby_upper_middle_income_and_year['year']\n",
    "death_rate_per_100000_by_upper_mid_income = ihd_with_ig_grpby_upper_middle_income_and_year['death_rate_per_100000']\n",
    "\n",
    "ihd_with_ig_grpby_upper_middle_income_and_year.info()"
   ]
  },
  {
   "attachments": {},
   "cell_type": "markdown",
   "metadata": {},
   "source": [
    "Extract the records for `Low Middle Income` category. Aggregate them by `year` then get the mean of `death_rate_per_100000` for each year. Create separate dataframe for `year` and `death_rate_per_100000`."
   ]
  },
  {
   "cell_type": "code",
   "execution_count": 93,
   "metadata": {},
   "outputs": [
    {
     "name": "stdout",
     "output_type": "stream",
     "text": [
      "<class 'pandas.core.frame.DataFrame'>\n",
      "RangeIndex: 56 entries, 0 to 55\n",
      "Data columns (total 2 columns):\n",
      " #   Column                 Non-Null Count  Dtype  \n",
      "---  ------                 --------------  -----  \n",
      " 0   year                   56 non-null     int64  \n",
      " 1   death_rate_per_100000  56 non-null     float64\n",
      "dtypes: float64(1), int64(1)\n",
      "memory usage: 1.0 KB\n"
     ]
    }
   ],
   "source": [
    "ihd_with_ig_grpby_low_middle_income = ihd_with_ig_grp_income.get_group('Low Middle Income')\n",
    "ihd_with_ig_grpby_low_middle_income_and_year = ihd_with_ig_grpby_low_middle_income[['year', 'death_rate_per_100000']].groupby('year', as_index=False).agg(death_rate_per_100000 = ('death_rate_per_100000', 'mean'))\n",
    "\n",
    "year_by_low_mid_income = ihd_with_ig_grpby_low_middle_income_and_year['year']\n",
    "death_rate_per_100000_by_low_mid_income = ihd_with_ig_grpby_low_middle_income_and_year['death_rate_per_100000']\n",
    "\n",
    "ihd_with_ig_grpby_low_middle_income_and_year.info()"
   ]
  },
  {
   "attachments": {},
   "cell_type": "markdown",
   "metadata": {},
   "source": [
    "Plot on the scatterplot the `year` and `death_rate_per_100000` for each incoming grouping."
   ]
  },
  {
   "cell_type": "code",
   "execution_count": 150,
   "metadata": {},
   "outputs": [
    {
     "data": {
      "text/plain": [
       "Text(1987, 1213, '1223.28')"
      ]
     },
     "execution_count": 150,
     "metadata": {},
     "output_type": "execute_result"
    },
    {
     "data": {
      "image/png": "[encoded data removed]",
      "text/plain": [
       "<Figure size 1200x800 with 1 Axes>"
      ]
     },
     "metadata": {},
     "output_type": "display_data"
    }
   ],
   "source": [
    "# Plot the graph of Death Rate per 100000 for each Year based on Income Grouping\n",
    "fig = plt.figure(figsize=(12, 8))\n",
    "ax = fig.add_subplot(111)\n",
    "ax.set_xlabel(\"Year\", fontdict={'weight':'bold'})\n",
    "ax.set_ylabel(\"Death Rate (per 100,000)\", fontdict={'weight':'bold'})\n",
    "ax.set_title(\"Ischaemic Heart Disease's Death Rate (per 100,000) by Income Grouping\", fontdict={'size':'large', 'weight':'bold'})\n",
    "\n",
    "ax.scatter(year_by_high_income, death_rate_per_100000_by_high_income, s=20, c='b', label='High Income', marker='*')\n",
    "ax.scatter(year_by_upper_mid_income, death_rate_per_100000_by_upper_mid_income, s=20, c='r', label='Upper Middle Income', marker='*')\n",
    "ax.scatter(year_by_low_mid_income, death_rate_per_100000_by_low_mid_income, s=20, c='g', label='Low Middle Income', marker='*')\n",
    "ax.legend(loc='upper right')\n",
    "\n",
    "ax.annotate('1223.28', xy=(1983, 1223), xytext=(1987, 1213), arrowprops=dict(arrowstyle='->')) "
   ]
  },
  {
   "attachments": {},
   "cell_type": "markdown",
   "metadata": {},
   "source": [
    "Based from the results, death rate of Ischaemic Heart Disease under `High Income` is slowly decreasing over the past years. However, the death rate for `Low Middle Income` has surged in the mid 80's, doubling the value of `High Income`.\n"
   ]
  },
  {
   "attachments": {},
   "cell_type": "markdown",
   "metadata": {},
   "source": [
    "### Data Analysis on Sex per Year\n",
    "\n",
    "Group the records by `sex` then display the summary statistics of `death_rate_per_100000` for each `sex`."
   ]
  },
  {
   "cell_type": "code",
   "execution_count": 103,
   "metadata": {},
   "outputs": [
    {
     "data": {
      "text/html": [
       "<div>\n",
       "<style scoped>\n",
       "    .dataframe tbody tr th:only-of-type {\n",
       "        vertical-align: middle;\n",
       "    }\n",
       "\n",
       "    .dataframe tbody tr th {\n",
       "        vertical-align: top;\n",
       "    }\n",
       "\n",
       "    .dataframe thead th {\n",
       "        text-align: right;\n",
       "    }\n",
       "</style>\n",
       "<table border=\"1\" class=\"dataframe\">\n",
       "  <thead>\n",
       "    <tr style=\"text-align: right;\">\n",
       "      <th></th>\n",
       "      <th>count</th>\n",
       "      <th>mean</th>\n",
       "      <th>std</th>\n",
       "      <th>min</th>\n",
       "      <th>25%</th>\n",
       "      <th>50%</th>\n",
       "      <th>75%</th>\n",
       "      <th>max</th>\n",
       "    </tr>\n",
       "    <tr>\n",
       "      <th>sex</th>\n",
       "      <th></th>\n",
       "      <th></th>\n",
       "      <th></th>\n",
       "      <th></th>\n",
       "      <th></th>\n",
       "      <th></th>\n",
       "      <th></th>\n",
       "      <th></th>\n",
       "    </tr>\n",
       "  </thead>\n",
       "  <tbody>\n",
       "    <tr>\n",
       "      <th>Female</th>\n",
       "      <td>79876.0</td>\n",
       "      <td>359.608836</td>\n",
       "      <td>1100.102565</td>\n",
       "      <td>0.0</td>\n",
       "      <td>0.000000</td>\n",
       "      <td>5.689795</td>\n",
       "      <td>151.922425</td>\n",
       "      <td>22333.33333</td>\n",
       "    </tr>\n",
       "    <tr>\n",
       "      <th>Male</th>\n",
       "      <td>79876.0</td>\n",
       "      <td>514.799267</td>\n",
       "      <td>1307.665446</td>\n",
       "      <td>0.0</td>\n",
       "      <td>0.045914</td>\n",
       "      <td>22.767183</td>\n",
       "      <td>374.256023</td>\n",
       "      <td>26000.00000</td>\n",
       "    </tr>\n",
       "  </tbody>\n",
       "</table>\n",
       "</div>"
      ],
      "text/plain": [
       "          count        mean          std  min       25%        50%  \\\n",
       "sex                                                                  \n",
       "Female  79876.0  359.608836  1100.102565  0.0  0.000000   5.689795   \n",
       "Male    79876.0  514.799267  1307.665446  0.0  0.045914  22.767183   \n",
       "\n",
       "               75%          max  \n",
       "sex                              \n",
       "Female  151.922425  22333.33333  \n",
       "Male    374.256023  26000.00000  "
      ]
     },
     "execution_count": 103,
     "metadata": {},
     "output_type": "execute_result"
    }
   ],
   "source": [
    "ihd_with_ig_grp_sex = ihd_with_ig_df.groupby(['sex']) \n",
    "\n",
    "ihd_with_ig_grp_sex['death_rate_per_100000'].describe()  "
   ]
  },
  {
   "attachments": {},
   "cell_type": "markdown",
   "metadata": {},
   "source": [
    "Extract the records for `Male`. Aggregate them by `year` then get the mean of `death_rate_per_100000` for each year. Create separate dataframe for `year` and `death_rate_per_100000`."
   ]
  },
  {
   "cell_type": "code",
   "execution_count": 110,
   "metadata": {},
   "outputs": [
    {
     "name": "stdout",
     "output_type": "stream",
     "text": [
      "<class 'pandas.core.frame.DataFrame'>\n",
      "RangeIndex: 57 entries, 0 to 56\n",
      "Data columns (total 2 columns):\n",
      " #   Column                 Non-Null Count  Dtype  \n",
      "---  ------                 --------------  -----  \n",
      " 0   year                   57 non-null     int64  \n",
      " 1   death_rate_per_100000  57 non-null     float64\n",
      "dtypes: float64(1), int64(1)\n",
      "memory usage: 1.0 KB\n"
     ]
    }
   ],
   "source": [
    "df_grpby_male = ihd_with_ig_grp_sex.get_group('Male')\n",
    "df_grpby_male_and_year = df_grpby_male[['year', 'death_rate_per_100000']].groupby('year', as_index=False).agg(death_rate_per_100000 = ('death_rate_per_100000', 'mean'))\n",
    "\n",
    "year_by_male = df_grpby_male_and_year['year']\n",
    "death_rate_per_100000_by_male = df_grpby_male_and_year['death_rate_per_100000']\n",
    "\n",
    "df_grpby_male_and_year.info()"
   ]
  },
  {
   "attachments": {},
   "cell_type": "markdown",
   "metadata": {},
   "source": [
    "Extract the records for `Female`. Aggregate them by `year` then get the mean of `death_rate_per_100000` for each year. Create separate dataframe for `year` and `death_rate_per_100000`."
   ]
  },
  {
   "cell_type": "code",
   "execution_count": 105,
   "metadata": {},
   "outputs": [
    {
     "name": "stdout",
     "output_type": "stream",
     "text": [
      "<class 'pandas.core.frame.DataFrame'>\n",
      "RangeIndex: 57 entries, 0 to 56\n",
      "Data columns (total 2 columns):\n",
      " #   Column                 Non-Null Count  Dtype  \n",
      "---  ------                 --------------  -----  \n",
      " 0   year                   57 non-null     int64  \n",
      " 1   death_rate_per_100000  57 non-null     float64\n",
      "dtypes: float64(1), int64(1)\n",
      "memory usage: 1.0 KB\n"
     ]
    }
   ],
   "source": [
    "df_grpby_female = ihd_with_ig_grp_sex.get_group('Female')\n",
    "df_grpby_female_and_year = df_grpby_female[['year', 'death_rate_per_100000']].groupby('year', as_index=False).agg(death_rate_per_100000 = ('death_rate_per_100000', 'mean'))\n",
    "\n",
    "year_by_female = df_grpby_female_and_year['year']\n",
    "death_rate_per_100000_by_female = df_grpby_female_and_year['death_rate_per_100000']\n",
    "\n",
    "df_grpby_female_and_year.info()"
   ]
  },
  {
   "attachments": {},
   "cell_type": "markdown",
   "metadata": {},
   "source": [
    "Plot on the scatterplot the `year` and `death_rate_per_100000` for each gender."
   ]
  },
  {
   "cell_type": "code",
   "execution_count": 151,
   "metadata": {},
   "outputs": [
    {
     "data": {
      "text/plain": [
       "<matplotlib.legend.Legend at 0x2046a13f2e0>"
      ]
     },
     "execution_count": 151,
     "metadata": {},
     "output_type": "execute_result"
    },
    {
     "data": {
      "image/png": "[encoded data removed]",
      "text/plain": [
       "<Figure size 1200x800 with 1 Axes>"
      ]
     },
     "metadata": {},
     "output_type": "display_data"
    }
   ],
   "source": [
    "# Plot the graph of Death Rate per 100000 for each Year based on Sex\n",
    "fig = plt.figure(figsize=(12, 8))\n",
    "ax = fig.add_subplot(111)\n",
    "ax.set_xlabel(\"Year\", fontdict={'weight':'bold'})\n",
    "ax.set_ylabel(\"Death Rate (per 100,000)\", fontdict={'weight':'bold'})\n",
    "ax.set_title(\"Ischaemic Heart Disease's Death Rate (per 100,000) by Gender\", fontdict={'size':'large', 'weight':'bold'})\n",
    "\n",
    "ax.scatter(year_by_male, death_rate_per_100000_by_male, s=20, c='b', label='Male', marker='*')\n",
    "ax.scatter(year_by_female, death_rate_per_100000_by_female, s=20, c='r', label='Female', marker='*')\n",
    "ax.legend(loc='upper right')"
   ]
  },
  {
   "attachments": {},
   "cell_type": "markdown",
   "metadata": {},
   "source": [
    "Based from the results, `Male` has a higher death rate on Ischaemic Heart Disease as compared to `Female` though the mortality rate has decreased for both gender over the years."
   ]
  },
  {
   "attachments": {},
   "cell_type": "markdown",
   "metadata": {},
   "source": [
    "### Function Declaration"
   ]
  },
  {
   "cell_type": "code",
   "execution_count": 45,
   "metadata": {},
   "outputs": [],
   "source": [
    "def plotConfusionMatrix(cm):\n",
    "\n",
    "    fig, ax = plt.subplots(figsize=(4, 4))\n",
    "    ax.imshow(cm)\n",
    "    ax.grid(False)\n",
    "    ax.xaxis.set(ticks=(0, 1), ticklabels=('Predicted 0s', 'Predicted 1s'))\n",
    "    ax.yaxis.set(ticks=(0, 1), ticklabels=('Actual 0s', 'Actual 1s'))\n",
    "    ax.set_ylim(1.5, -0.5)\n",
    "\n",
    "    for i in range(2):\n",
    "        for j in range(2):\n",
    "            ax.text(j, i, cm[i, j], ha='center', va='center', color='red')\n",
    "            \n",
    "    plt.show()\n",
    "\n",
    "def evaluateModel(model, x_train, x_test, y_train, y_test, y_pred):\n",
    "    '''\n",
    "    This method evaluate the Logistic Regression model and provide clasification report,\n",
    "    confusion matrix and precision score\n",
    "    '''\n",
    "    print(f\"Score: {model.score(x_test, y_test)}\\n\")\n",
    "\n",
    "    # Classification report without cross-validation\n",
    "    print(\"Classification Report\")\n",
    "    print(classification_report(y_test, y_pred))\n",
    "\n",
    "    # k-fold cross-validation and confusion matrices\n",
    "    y_train_pred = cross_val_predict(model, x_train, y_train, cv=5)\n",
    "    print(\"Confusion Matrix\")\n",
    "\n",
    "    cm = confusion_matrix(y_train, y_train_pred)\n",
    "    plotConfusionMatrix(cm)\n",
    "\n",
    "    print(f\"Precision Score: {precision_score(y_train, y_train_pred)}\")\n",
    "    \n",
    "    \n",
    "def modelCreation(x, y):\n",
    "    '''\n",
    "    This method generate training and test datasets, create Logistic Regression model.\n",
    "    Then evaluate the model.\n",
    "    '''\n",
    "    x_train, x_test, y_train, y_test = train_test_split(x.drop(['adults', 'children', 'seniors', 'youth'], axis=1), y, test_size=0.3, random_state=0)\n",
    "\n",
    "    print(f\"No. of Train Datasets: {x_train.shape} {y_train.shape}\")\n",
    "    print(f\"No. of Test Datasets: {x_test.shape} {y_test.shape}\\n\")\n",
    "    \n",
    "    model = LogisticRegression(solver='lbfgs')\n",
    "    model.fit(x_train, y_train)\n",
    "\n",
    "    y_pred = model.predict(x_test)\n",
    "\n",
    "    evaluateModel(model, x_train, x_test, y_train, y_test, y_pred)\n",
    "\n",
    "    return model"
   ]
  },
  {
   "attachments": {},
   "cell_type": "markdown",
   "metadata": {},
   "source": [
    "## Model Creation<a id=\"toc-03\"></a>"
   ]
  },
  {
   "attachments": {},
   "cell_type": "markdown",
   "metadata": {},
   "source": [
    "### Data Preparation: Converting Categorical Features\n",
    "\n",
    "Check the frequency counts of `income_grouping`, `sex` and `age_group`."
   ]
  },
  {
   "cell_type": "code",
   "execution_count": 156,
   "metadata": {},
   "outputs": [
    {
     "data": {
      "text/plain": [
       "High Income            87552\n",
       "Upper Middle Income    57266\n",
       "Low Middle Income      14934\n",
       "Name: income_grouping, dtype: int64"
      ]
     },
     "execution_count": 156,
     "metadata": {},
     "output_type": "execute_result"
    }
   ],
   "source": [
    "ihd_with_ig_df['income_grouping'].value_counts()"
   ]
  },
  {
   "cell_type": "code",
   "execution_count": 157,
   "metadata": {},
   "outputs": [
    {
     "data": {
      "text/plain": [
       "Male      79876\n",
       "Female    79876\n",
       "Name: sex, dtype: int64"
      ]
     },
     "execution_count": 157,
     "metadata": {},
     "output_type": "execute_result"
    }
   ],
   "source": [
    "ihd_with_ig_df['sex'].value_counts()"
   ]
  },
  {
   "cell_type": "code",
   "execution_count": 158,
   "metadata": {},
   "outputs": [
    {
     "data": {
      "text/plain": [
       "Adults      67264\n",
       "Seniors     42040\n",
       "Children    33632\n",
       "Youth       16816\n",
       "Name: age_group, dtype: int64"
      ]
     },
     "execution_count": 158,
     "metadata": {},
     "output_type": "execute_result"
    }
   ],
   "source": [
    "ihd_with_ig_df['age_group'].value_counts()"
   ]
  },
  {
   "attachments": {},
   "cell_type": "markdown",
   "metadata": {},
   "source": [
    "Convert `income_grouping`, `sex` and `age_group` to dummy variables."
   ]
  },
  {
   "cell_type": "code",
   "execution_count": 161,
   "metadata": {},
   "outputs": [
    {
     "name": "stdout",
     "output_type": "stream",
     "text": [
      "<class 'pandas.core.frame.DataFrame'>\n",
      "Int64Index: 159752 entries, 0 to 159751\n",
      "Data columns (total 3 columns):\n",
      " #   Column               Non-Null Count   Dtype\n",
      "---  ------               --------------   -----\n",
      " 0   high_income          159752 non-null  uint8\n",
      " 1   low_middle_income    159752 non-null  uint8\n",
      " 2   upper_middle_income  159752 non-null  uint8\n",
      "dtypes: uint8(3)\n",
      "memory usage: 1.7 MB\n"
     ]
    }
   ],
   "source": [
    "income_grouping_df = pd.get_dummies(ihd_with_ig_df['income_grouping'])\n",
    "income_grouping_df.columns = ['high_income', 'low_middle_income', 'upper_middle_income']\n",
    "income_grouping_df.info()"
   ]
  },
  {
   "cell_type": "code",
   "execution_count": 162,
   "metadata": {},
   "outputs": [
    {
     "name": "stdout",
     "output_type": "stream",
     "text": [
      "<class 'pandas.core.frame.DataFrame'>\n",
      "Int64Index: 159752 entries, 0 to 159751\n",
      "Data columns (total 1 columns):\n",
      " #   Column       Non-Null Count   Dtype\n",
      "---  ------       --------------   -----\n",
      " 0   male_gender  159752 non-null  uint8\n",
      "dtypes: uint8(1)\n",
      "memory usage: 1.4 MB\n"
     ]
    }
   ],
   "source": [
    "male_gender_df = pd.get_dummies(ihd_with_ig_df['sex'], drop_first=True)\n",
    "male_gender_df.columns = ['male_gender']\n",
    "male_gender_df.info()"
   ]
  },
  {
   "cell_type": "code",
   "execution_count": 163,
   "metadata": {},
   "outputs": [
    {
     "name": "stdout",
     "output_type": "stream",
     "text": [
      "<class 'pandas.core.frame.DataFrame'>\n",
      "Int64Index: 159752 entries, 0 to 159751\n",
      "Data columns (total 4 columns):\n",
      " #   Column    Non-Null Count   Dtype\n",
      "---  ------    --------------   -----\n",
      " 0   adults    159752 non-null  uint8\n",
      " 1   children  159752 non-null  uint8\n",
      " 2   seniors   159752 non-null  uint8\n",
      " 3   youth     159752 non-null  uint8\n",
      "dtypes: uint8(4)\n",
      "memory usage: 1.8 MB\n"
     ]
    }
   ],
   "source": [
    "age_grouping_df = pd.get_dummies(ihd_with_ig_df['age_group'])\n",
    "age_grouping_df.columns = ['adults', 'children', 'seniors', 'youth']\n",
    "age_grouping_df.info()"
   ]
  },
  {
   "cell_type": "markdown",
   "metadata": {},
   "source": []
  },
  {
   "cell_type": "code",
   "execution_count": null,
   "metadata": {},
   "outputs": [],
   "source": [
    "ihd_with_ig_df_dummy = ihd_with_ig_df.copy()\n",
    "ihd_with_ig_df_dummy.drop(['country_code', 'sex', 'income_grouping', 'year', 'age_group'], axis=1, inplace=True)\n",
    "\n",
    "# Add the dummy columns\n",
    "ihd_with_ig_df_dummy = pd.concat([ihd_with_ig_df_dummy, male_gender_df, age_grouping_df, income_grouping_df], axis=1, verify_integrity=True)\n",
    "ihd_with_ig_df_dummy.head(5)"
   ]
  },
  {
   "cell_type": "code",
   "execution_count": 48,
   "metadata": {},
   "outputs": [
    {
     "data": {
      "text/plain": [
       "<AxesSubplot: >"
      ]
     },
     "execution_count": 48,
     "metadata": {},
     "output_type": "execute_result"
    },
    {
     "data": {
      "image/png": "[encoded data removed]",
      "text/plain": [
       "<Figure size 640x480 with 2 Axes>"
      ]
     },
     "metadata": {},
     "output_type": "display_data"
    }
   ],
   "source": [
    "# Check for independence between features\n",
    "sb.heatmap(ihd_with_ig_df_dummy.corr(), )"
   ]
  },
  {
   "attachments": {},
   "cell_type": "markdown",
   "metadata": {},
   "source": [
    "##### Model Creation for each Age Grouping"
   ]
  },
  {
   "cell_type": "code",
   "execution_count": 49,
   "metadata": {},
   "outputs": [
    {
     "name": "stdout",
     "output_type": "stream",
     "text": [
      "No. of Train Datasets: (81928, 5) (81928,)\n",
      "No. of Test Datasets: (35113, 5) (35113,)\n",
      "\n",
      "Score: 0.9032836841056019\n",
      "\n",
      "Classification Report\n",
      "              precision    recall  f1-score   support\n",
      "\n",
      "           0       0.90      0.96      0.93     23183\n",
      "           1       0.91      0.79      0.85     11930\n",
      "\n",
      "    accuracy                           0.90     35113\n",
      "   macro avg       0.91      0.88      0.89     35113\n",
      "weighted avg       0.90      0.90      0.90     35113\n",
      "\n",
      "Confusion Matrix\n"
     ]
    },
    {
     "data": {
      "image/png": "[encoded data removed]",
      "text/plain": [
       "<Figure size 400x400 with 1 Axes>"
      ]
     },
     "metadata": {},
     "output_type": "display_data"
    },
    {
     "name": "stdout",
     "output_type": "stream",
     "text": [
      "Precision Score: 0.9152645449016825\n"
     ]
    }
   ],
   "source": [
    "model_seniors = modelCreation(ihd_with_ig_df_dummy, age_grouping_df['seniors'])"
   ]
  },
  {
   "cell_type": "code",
   "execution_count": 50,
   "metadata": {},
   "outputs": [
    {
     "name": "stdout",
     "output_type": "stream",
     "text": [
      "No. of Train Datasets: (81928, 5) (81928,)\n",
      "No. of Test Datasets: (35113, 5) (35113,)\n",
      "\n",
      "Score: 0.7670948081906986\n",
      "\n",
      "Classification Report\n",
      "              precision    recall  f1-score   support\n",
      "\n",
      "           0       0.87      0.60      0.71     16792\n",
      "           1       0.71      0.92      0.80     18321\n",
      "\n",
      "    accuracy                           0.77     35113\n",
      "   macro avg       0.79      0.76      0.76     35113\n",
      "weighted avg       0.79      0.77      0.76     35113\n",
      "\n",
      "Confusion Matrix\n"
     ]
    },
    {
     "data": {
      "image/png": "[encoded data removed]",
      "text/plain": [
       "<Figure size 400x400 with 1 Axes>"
      ]
     },
     "metadata": {},
     "output_type": "display_data"
    },
    {
     "name": "stdout",
     "output_type": "stream",
     "text": [
      "Precision Score: 0.707682698313554\n"
     ]
    }
   ],
   "source": [
    "model_adults = modelCreation(ihd_with_ig_df_dummy, age_grouping_df['adults'])"
   ]
  },
  {
   "cell_type": "code",
   "execution_count": 51,
   "metadata": {},
   "outputs": [
    {
     "name": "stdout",
     "output_type": "stream",
     "text": [
      "No. of Train Datasets: (81928, 5) (81928,)\n",
      "No. of Test Datasets: (35113, 5) (35113,)\n",
      "\n",
      "Score: 0.9132799817731324\n",
      "\n",
      "Classification Report\n",
      "              precision    recall  f1-score   support\n",
      "\n",
      "           0       0.92      0.99      0.95     32306\n",
      "           1       0.32      0.08      0.13      2807\n",
      "\n",
      "    accuracy                           0.91     35113\n",
      "   macro avg       0.62      0.53      0.54     35113\n",
      "weighted avg       0.88      0.91      0.89     35113\n",
      "\n",
      "Confusion Matrix\n"
     ]
    },
    {
     "data": {
      "image/png": "[encoded data removed]",
      "text/plain": [
       "<Figure size 400x400 with 1 Axes>"
      ]
     },
     "metadata": {},
     "output_type": "display_data"
    },
    {
     "name": "stdout",
     "output_type": "stream",
     "text": [
      "Precision Score: 0.3262492820218265\n"
     ]
    }
   ],
   "source": [
    "model_youth = modelCreation(ihd_with_ig_df_dummy, age_grouping_df['youth'])"
   ]
  },
  {
   "cell_type": "code",
   "execution_count": 52,
   "metadata": {},
   "outputs": [
    {
     "name": "stdout",
     "output_type": "stream",
     "text": [
      "No. of Train Datasets: (81928, 5) (81928,)\n",
      "No. of Test Datasets: (35113, 5) (35113,)\n",
      "\n",
      "Score: 0.9436675875032039\n",
      "\n",
      "Classification Report\n",
      "              precision    recall  f1-score   support\n",
      "\n",
      "           0       0.94      1.00      0.97     33058\n",
      "           1       0.95      0.04      0.08      2055\n",
      "\n",
      "    accuracy                           0.94     35113\n",
      "   macro avg       0.95      0.52      0.52     35113\n",
      "weighted avg       0.94      0.94      0.92     35113\n",
      "\n",
      "Confusion Matrix\n"
     ]
    },
    {
     "data": {
      "image/png": "[encoded data removed]",
      "text/plain": [
       "<Figure size 400x400 with 1 Axes>"
      ]
     },
     "metadata": {},
     "output_type": "display_data"
    },
    {
     "name": "stdout",
     "output_type": "stream",
     "text": [
      "Precision Score: 0.8495145631067961\n"
     ]
    }
   ],
   "source": [
    "model_children = modelCreation(ihd_with_ig_df_dummy, age_grouping_df['children'])"
   ]
  },
  {
   "attachments": {},
   "cell_type": "markdown",
   "metadata": {},
   "source": [
    "## Model Evaluation<a id=\"toc-04\"></a>"
   ]
  },
  {
   "attachments": {},
   "cell_type": "markdown",
   "metadata": {},
   "source": [
    "## Make Test Prediction<a id=\"toc-05\"></a>"
   ]
  },
  {
   "cell_type": "code",
   "execution_count": 53,
   "metadata": {},
   "outputs": [],
   "source": [
    "def getPrediction(age_group, model, input):\n",
    "    df = np.array(input).reshape(1,-1)\n",
    "\n",
    "    print(f\"{age_group.upper()}\")\n",
    "\n",
    "    print(f\"Prediction: {model.predict(df)[0]}\")\n",
    "    print(f\"Probability Estimates: {model.predict_proba(df)[0]}\")\n",
    "    print()\n",
    "\n",
    "def testPrediction(date_rate, male_gender, high_income, upper_middle_income, low_middle_income):\n",
    "\n",
    "    print(\"DATASET\")\n",
    "    print(f\"Male Gender: {male_gender}\")\n",
    "    print(f\"High Income: {high_income} | Upper Middle Income: {upper_middle_income} | Low Middle Income: {low_middle_income}\")\n",
    "    print(f\"Date Rate: {date_rate}\")\n",
    "    print()\n",
    "    \n",
    "    getPrediction('Seniors', model_seniors, [date_rate, male_gender, high_income, upper_middle_income, low_middle_income])\n",
    "\n",
    "    getPrediction('Adults', model_adults, [date_rate, male_gender, high_income, upper_middle_income, low_middle_income])\n",
    "\n",
    "    getPrediction('Youth', model_youth, [date_rate, male_gender, high_income, upper_middle_income, low_middle_income])\n",
    "\n",
    "    getPrediction('Children', model_children, [date_rate, male_gender, high_income, upper_middle_income, low_middle_income])"
   ]
  },
  {
   "cell_type": "code",
   "execution_count": 54,
   "metadata": {},
   "outputs": [
    {
     "name": "stdout",
     "output_type": "stream",
     "text": [
      "DATASET\n",
      "Male Gender: 1\n",
      "High Income: 0 | Upper Middle Income: 0 | Low Middle Income: 1\n",
      "Date Rate: 700\n",
      "\n",
      "SENIORS\n",
      "Prediction: 1\n",
      "Probability Estimates: [0.06716606 0.93283394]\n",
      "\n",
      "ADULTS\n",
      "Prediction: 0\n",
      "Probability Estimates: [0.83199614 0.16800386]\n",
      "\n",
      "YOUTH\n",
      "Prediction: 0\n",
      "Probability Estimates: [1.00000000e+000 4.79447953e-127]\n",
      "\n",
      "CHILDREN\n",
      "Prediction: 0\n",
      "Probability Estimates: [1.00000000e+000 6.58473285e-108]\n",
      "\n"
     ]
    }
   ],
   "source": [
    "date_rate = 700\n",
    "male_gender = 1\n",
    "high_income = 0\n",
    "upper_middle_income = 0\n",
    "low_middle_income = 1\n",
    "\n",
    "testPrediction(date_rate, male_gender, high_income, upper_middle_income, low_middle_income)\n"
   ]
  },
  {
   "cell_type": "code",
   "execution_count": 55,
   "metadata": {},
   "outputs": [
    {
     "name": "stdout",
     "output_type": "stream",
     "text": [
      "DATASET\n",
      "Male Gender: 1\n",
      "High Income: 0 | Upper Middle Income: 0 | Low Middle Income: 1\n",
      "Date Rate: 120\n",
      "\n",
      "SENIORS\n",
      "Prediction: 0\n",
      "Probability Estimates: [0.93161034 0.06838966]\n",
      "\n",
      "ADULTS\n",
      "Prediction: 1\n",
      "Probability Estimates: [0.35833297 0.64166703]\n",
      "\n",
      "YOUTH\n",
      "Prediction: 0\n",
      "Probability Estimates: [1.0000000e+00 2.8436323e-22]\n",
      "\n",
      "CHILDREN\n",
      "Prediction: 0\n",
      "Probability Estimates: [1.00000000e+00 3.37857219e-19]\n",
      "\n"
     ]
    }
   ],
   "source": [
    "date_rate = 120\n",
    "male_gender = 1\n",
    "high_income = 0\n",
    "upper_middle_income = 0\n",
    "low_middle_income = 1\n",
    "\n",
    "testPrediction(date_rate, male_gender, high_income, upper_middle_income, low_middle_income)"
   ]
  },
  {
   "cell_type": "code",
   "execution_count": 56,
   "metadata": {},
   "outputs": [
    {
     "name": "stdout",
     "output_type": "stream",
     "text": [
      "DATASET\n",
      "Male Gender: 0\n",
      "High Income: 0 | Upper Middle Income: 0 | Low Middle Income: 0\n",
      "Date Rate: 0\n",
      "\n",
      "SENIORS\n",
      "Prediction: 0\n",
      "Probability Estimates: [0.86882483 0.13117517]\n",
      "\n",
      "ADULTS\n",
      "Prediction: 1\n",
      "Probability Estimates: [0.35835221 0.64164779]\n",
      "\n",
      "YOUTH\n",
      "Prediction: 0\n",
      "Probability Estimates: [0.58112765 0.41887235]\n",
      "\n",
      "CHILDREN\n",
      "Prediction: 0\n",
      "Probability Estimates: [0.68356654 0.31643346]\n",
      "\n"
     ]
    }
   ],
   "source": [
    "date_rate = 0\n",
    "male_gender = 0\n",
    "high_income = 0\n",
    "upper_middle_income = 0\n",
    "low_middle_income = 0\n",
    "\n",
    "testPrediction(date_rate, male_gender, high_income, upper_middle_income, low_middle_income)"
   ]
  },
  {
   "attachments": {},
   "cell_type": "markdown",
   "metadata": {},
   "source": [
    "## References<a id=\"toc-06\"></a>\n",
    "\n",
    "- <a id=\"ref-01\">https://www.who.int/news-room/fact-sheets/detail/the-top-10-causes-of-death</a>\n",
    "- <a id=\"ref-02\">https://www.who.int/data/gho/data/themes/mortality-and-global-health-estimates</a>\n",
    "- <a id=\"ref-03\">https://www.who.int/docs/default-source/gho-documents/global-health-estimates/ghe2019_cod_methods.pdf</a>\n",
    "- <a id=\"ref-03\">https://platform.who.int/mortality/themes/theme-details/topics/indicator-groups/indicator-group-details/MDB/ischaemic-heart-disease</a>"
   ]
  }
 ],
 "metadata": {
  "kernelspec": {
   "display_name": "Python 3",
   "language": "python",
   "name": "python3"
  },
  "language_info": {
   "codemirror_mode": {
    "name": "ipython",
    "version": 3
   },
   "file_extension": ".py",
   "mimetype": "text/x-python",
   "name": "python",
   "nbconvert_exporter": "python",
   "pygments_lexer": "ipython3",
   "version": "3.10.7"
  },
  "orig_nbformat": 4,
  "vscode": {
   "interpreter": {
    "hash": "006ceec57082682d3b909e056014cfb3f67146c2ee1293d561029ad71ca64256"
   }
  }
 },
 "nbformat": 4,
 "nbformat_minor": 2
}
