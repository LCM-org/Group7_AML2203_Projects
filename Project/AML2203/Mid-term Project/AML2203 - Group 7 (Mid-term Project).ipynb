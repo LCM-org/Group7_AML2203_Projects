{
 "cells": [
  {
   "attachments": {},
   "cell_type": "markdown",
   "metadata": {},
   "source": [
    "# **Data Analysis on Ischaemic Heart Disease**\n",
    "\n",
    "In 2019, the World Health Organization (WHO) declared that Ischaemic Heart Disease is the leading cause of death worldwide, accounting for 16% of all deaths <sup>[1]</sup>. They also mentioned that annual deaths among men were around 15% more than women <sup>[2]</sup>."
   ]
  },
  {
   "attachments": {},
   "cell_type": "markdown",
   "metadata": {},
   "source": [
    "## Table of Contents\n",
    "\n",
    "1. <a href=\"#toc-01\">Import Dataset and Data Transformation</a>\n",
    "2. <a href=\"#toc-02\">Exploratory Data Analysis</a>\n",
    "3. <a href=\"#toc-03\">Model Creation and Evaluation</a>\n",
    "5. <a href=\"#toc-04\">Make Test Predications</a>\n",
    "6. <a href=\"#toc-05\">References</a>"
   ]
  },
  {
   "cell_type": "code",
   "execution_count": 1153,
   "metadata": {},
   "outputs": [],
   "source": [
    "import numpy as np\n",
    "import pandas as pd\n",
    "import matplotlib.pyplot as plt\n",
    "import seaborn as sb\n",
    "\n",
    "from sklearn.linear_model import LogisticRegression\n",
    "from sklearn.model_selection import train_test_split\n",
    "from sklearn.model_selection import cross_val_predict\n",
    "from sklearn.metrics import classification_report\n",
    "from sklearn.metrics import confusion_matrix\n",
    "from sklearn.metrics import precision_score\n",
    "from sklearn.metrics import accuracy_score\n",
    "from sklearn.preprocessing import RobustScaler\n",
    "\n",
    "import warnings\n",
    "warnings.filterwarnings(\"ignore\")"
   ]
  },
  {
   "attachments": {},
   "cell_type": "markdown",
   "metadata": {},
   "source": [
    "## Import Dataset and Data Transformation<a id=\"toc-01\"></a>\n",
    "\n",
    "Dataset for income grouping was taken from <a href=\"https://www.who.int/docs/default-source/gho-documents/global-health-estimates/ghe2019_cod_methods.pdf\">WHO methods and data sources of country-level causes of death (p. 49)</a>.\n",
    "\n",
    "After reading data from the source, all records with missing data under income_grouping will be dropped as this category is necessary for data analysis."
   ]
  },
  {
   "cell_type": "code",
   "execution_count": 1154,
   "metadata": {},
   "outputs": [
    {
     "name": "stdout",
     "output_type": "stream",
     "text": [
      "<class 'pandas.core.frame.DataFrame'>\n",
      "RangeIndex: 109 entries, 0 to 108\n",
      "Data columns (total 5 columns):\n",
      " #   Column           Non-Null Count  Dtype \n",
      "---  ------           --------------  ----- \n",
      " 0   region_code      109 non-null    object\n",
      " 1   region_name      109 non-null    object\n",
      " 2   country_code     109 non-null    object\n",
      " 3   country_name     109 non-null    object\n",
      " 4   income_grouping  109 non-null    object\n",
      "dtypes: object(5)\n",
      "memory usage: 4.4+ KB\n"
     ]
    }
   ],
   "source": [
    "income_grouping_2019 = pd.read_csv('./datasets/World Bank Income Grouping 2019.csv')\n",
    "\n",
    "income_grouping_2019.dropna(inplace=True)   # Drop all rows with NaN values\n",
    "income_grouping_2019.reset_index(inplace=True, drop=True)\n",
    "\n",
    "income_grouping_2019.info()"
   ]
  },
  {
   "attachments": {},
   "cell_type": "markdown",
   "metadata": {},
   "source": [
    "Dataset for Ischaemic Heart Disease was taken from <a href=\"https://platform.who.int/mortality/themes/theme-details/topics/indicator-groups/indicator-group-details/MDB/ischaemic-heart-disease\">WHO's interactive platform for mortality data</a>.\n",
    "\n",
    "After reading data from the source, the records are filtered by\n",
    "- <b>Sex</b>: Male and Female only (removing 'Unknown' and 'All' from the list)\n",
    "- <b>Age Group</b>: Remove 'All' and 'Unknown'\n",
    "- <b>Date Rate per 100,000</b>: Remove records with zero values"
   ]
  },
  {
   "cell_type": "code",
   "execution_count": 1155,
   "metadata": {},
   "outputs": [
    {
     "name": "stdout",
     "output_type": "stream",
     "text": [
      "<class 'pandas.core.frame.DataFrame'>\n",
      "Int64Index: 130024 entries, 26 to 296602\n",
      "Data columns (total 12 columns):\n",
      " #   Column                                                Non-Null Count   Dtype  \n",
      "---  ------                                                --------------   -----  \n",
      " 0   region_code                                           130024 non-null  object \n",
      " 1   region_name                                           130024 non-null  object \n",
      " 2   country_code                                          130024 non-null  object \n",
      " 3   country_name                                          130024 non-null  object \n",
      " 4   year                                                  130024 non-null  int64  \n",
      " 5   sex                                                   130024 non-null  object \n",
      " 6   age_group_code                                        130024 non-null  object \n",
      " 7   age_group                                             130024 non-null  object \n",
      " 8   num_of_death                                          130024 non-null  float64\n",
      " 9   percentage_cause_specific_deaths_out_of_total_deaths  130024 non-null  float64\n",
      " 10  age_standardized_death_rate_per_100000                130024 non-null  float64\n",
      " 11  death_rate_per_100000                                 130024 non-null  float64\n",
      "dtypes: float64(4), int64(1), object(7)\n",
      "memory usage: 12.9+ MB\n"
     ]
    }
   ],
   "source": [
    "ihd_df = pd.read_csv('./datasets/Ischaemic Heart Disease.csv')\n",
    "\n",
    "ihd_df_filtered = ihd_df.fillna(0)  # Fill all NaN cells with 0\n",
    "ihd_df_filtered = ihd_df_filtered.query(\"sex == ['Male', 'Female'] and age_group != ['[All]', '[Unknown]'] and death_rate_per_100000 != 0\")\n",
    "\n",
    "ihd_df_filtered.info()"
   ]
  },
  {
   "attachments": {},
   "cell_type": "markdown",
   "metadata": {},
   "source": [
    "Merge the necessary fields from Ischeamic Heart Disease and Income Grouping tables"
   ]
  },
  {
   "cell_type": "code",
   "execution_count": 1156,
   "metadata": {},
   "outputs": [
    {
     "name": "stdout",
     "output_type": "stream",
     "text": [
      "<class 'pandas.core.frame.DataFrame'>\n",
      "Int64Index: 128634 entries, 0 to 128633\n",
      "Data columns (total 6 columns):\n",
      " #   Column                 Non-Null Count   Dtype  \n",
      "---  ------                 --------------   -----  \n",
      " 0   country_code           128634 non-null  object \n",
      " 1   year                   128634 non-null  int64  \n",
      " 2   sex                    128634 non-null  object \n",
      " 3   age_group              128634 non-null  object \n",
      " 4   death_rate_per_100000  128634 non-null  float64\n",
      " 5   income_grouping        128634 non-null  object \n",
      "dtypes: float64(1), int64(1), object(4)\n",
      "memory usage: 6.9+ MB\n"
     ]
    }
   ],
   "source": [
    "ihd_with_ig_df = ihd_df_filtered[['country_code', 'year', 'sex', 'age_group', 'death_rate_per_100000']].merge(income_grouping_2019[['country_code', 'income_grouping']], on='country_code')\n",
    "\n",
    "ihd_with_ig_df.info()"
   ]
  },
  {
   "attachments": {},
   "cell_type": "markdown",
   "metadata": {},
   "source": [
    "Rename the age group category based from Statistics Canada's <a href=\"https://www.statcan.gc.ca/en/concepts/definitions/age2\">Age Categories, Life Cycle Groupings</a>\n",
    "- <b>Children</b>: 00-14 years\n",
    "- <b>Youth</b>: 15-24 years\n",
    "- <b>Adults</b>: 25-64 years\n",
    "- <b>Seniors</b>: 65 years and over\n",
    "\n",
    "The records for `Youth` and `Children` are combined in this study."
   ]
  },
  {
   "cell_type": "code",
   "execution_count": 1157,
   "metadata": {},
   "outputs": [
    {
     "data": {
      "text/plain": [
       "Adults            65769\n",
       "Seniors           43942\n",
       "Children_Youth    18923\n",
       "Name: age_group, dtype: int64"
      ]
     },
     "execution_count": 1157,
     "metadata": {},
     "output_type": "execute_result"
    }
   ],
   "source": [
    "ihd_with_ig_df['age_group'] = np.where(ihd_with_ig_df['age_group'] == '[0]', 'Children_Youth', ihd_with_ig_df['age_group'])\n",
    "ihd_with_ig_df['age_group'] = np.where(ihd_with_ig_df['age_group'] == '[1-4]', 'Children_Youth', ihd_with_ig_df['age_group'])\n",
    "ihd_with_ig_df['age_group'] = np.where(ihd_with_ig_df['age_group'] == '[5-9]', 'Children_Youth', ihd_with_ig_df['age_group'])\n",
    "ihd_with_ig_df['age_group'] = np.where(ihd_with_ig_df['age_group'] == '[10-14]', 'Children_Youth', ihd_with_ig_df['age_group'])\n",
    "ihd_with_ig_df['age_group'] = np.where(ihd_with_ig_df['age_group'] == '[15-19]', 'Children_Youth', ihd_with_ig_df['age_group'])\n",
    "ihd_with_ig_df['age_group'] = np.where(ihd_with_ig_df['age_group'] == '[20-24]', 'Children_Youth', ihd_with_ig_df['age_group'])\n",
    "\n",
    "ihd_with_ig_df['age_group'] = np.where(ihd_with_ig_df['age_group'] == '[25-29]', 'Adults', ihd_with_ig_df['age_group'])\n",
    "ihd_with_ig_df['age_group'] = np.where(ihd_with_ig_df['age_group'] == '[30-34]', 'Adults', ihd_with_ig_df['age_group'])\n",
    "ihd_with_ig_df['age_group'] = np.where(ihd_with_ig_df['age_group'] == '[35-39]', 'Adults', ihd_with_ig_df['age_group'])\n",
    "ihd_with_ig_df['age_group'] = np.where(ihd_with_ig_df['age_group'] == '[40-44]', 'Adults', ihd_with_ig_df['age_group'])\n",
    "ihd_with_ig_df['age_group'] = np.where(ihd_with_ig_df['age_group'] == '[45-49]', 'Adults', ihd_with_ig_df['age_group'])\n",
    "ihd_with_ig_df['age_group'] = np.where(ihd_with_ig_df['age_group'] == '[50-54]', 'Adults', ihd_with_ig_df['age_group'])\n",
    "ihd_with_ig_df['age_group'] = np.where(ihd_with_ig_df['age_group'] == '[55-59]', 'Adults', ihd_with_ig_df['age_group'])\n",
    "ihd_with_ig_df['age_group'] = np.where(ihd_with_ig_df['age_group'] == '[60-64]', 'Adults', ihd_with_ig_df['age_group'])\n",
    "\n",
    "ihd_with_ig_df['age_group'] = np.where(ihd_with_ig_df['age_group'] == '[65-69]', 'Seniors', ihd_with_ig_df['age_group'])\n",
    "ihd_with_ig_df['age_group'] = np.where(ihd_with_ig_df['age_group'] == '[70-74]', 'Seniors', ihd_with_ig_df['age_group'])\n",
    "ihd_with_ig_df['age_group'] = np.where(ihd_with_ig_df['age_group'] == '[75-79]', 'Seniors', ihd_with_ig_df['age_group'])\n",
    "ihd_with_ig_df['age_group'] = np.where(ihd_with_ig_df['age_group'] == '[80-84]', 'Seniors', ihd_with_ig_df['age_group'])\n",
    "ihd_with_ig_df['age_group'] = np.where(ihd_with_ig_df['age_group'] == '[85+]', 'Seniors', ihd_with_ig_df['age_group'])\n",
    "\n",
    "ihd_with_ig_df['age_group'].value_counts()\n",
    "\n",
    "# ihd_with_ig_df.groupby(['age_group', 'sex'])['death_rate_per_100000'].describe()"
   ]
  },
  {
   "attachments": {},
   "cell_type": "markdown",
   "metadata": {},
   "source": [
    "## Exploratory Data Analysis<a id=\"toc-02\"></a>"
   ]
  },
  {
   "attachments": {},
   "cell_type": "markdown",
   "metadata": {},
   "source": [
    "### Data Analysis on Income Grouping per Year\n",
    "\n",
    "Group the records by `income_grouping` then display the summary statistics of `death_rate_per_100000` for each `income_grouping`. \n",
    "\n",
    "**NOTE**: WHO didn't provide records for Low Income grouping. Hence, it is excluded from the study."
   ]
  },
  {
   "cell_type": "code",
   "execution_count": 1158,
   "metadata": {},
   "outputs": [
    {
     "data": {
      "text/html": [
       "<div>\n",
       "<style scoped>\n",
       "    .dataframe tbody tr th:only-of-type {\n",
       "        vertical-align: middle;\n",
       "    }\n",
       "\n",
       "    .dataframe tbody tr th {\n",
       "        vertical-align: top;\n",
       "    }\n",
       "\n",
       "    .dataframe thead th {\n",
       "        text-align: right;\n",
       "    }\n",
       "</style>\n",
       "<table border=\"1\" class=\"dataframe\">\n",
       "  <thead>\n",
       "    <tr style=\"text-align: right;\">\n",
       "      <th></th>\n",
       "      <th>count</th>\n",
       "      <th>mean</th>\n",
       "      <th>std</th>\n",
       "      <th>min</th>\n",
       "      <th>25%</th>\n",
       "      <th>50%</th>\n",
       "      <th>75%</th>\n",
       "      <th>max</th>\n",
       "    </tr>\n",
       "    <tr>\n",
       "      <th>income_grouping</th>\n",
       "      <th></th>\n",
       "      <th></th>\n",
       "      <th></th>\n",
       "      <th></th>\n",
       "      <th></th>\n",
       "      <th></th>\n",
       "      <th></th>\n",
       "      <th></th>\n",
       "    </tr>\n",
       "  </thead>\n",
       "  <tbody>\n",
       "    <tr>\n",
       "      <th>High Income</th>\n",
       "      <td>72034.0</td>\n",
       "      <td>634.031115</td>\n",
       "      <td>1351.363813</td>\n",
       "      <td>0.009323</td>\n",
       "      <td>5.190674</td>\n",
       "      <td>75.471698</td>\n",
       "      <td>599.296719</td>\n",
       "      <td>26000.00000</td>\n",
       "    </tr>\n",
       "    <tr>\n",
       "      <th>Low Middle Income</th>\n",
       "      <td>12629.0</td>\n",
       "      <td>840.326820</td>\n",
       "      <td>2079.669397</td>\n",
       "      <td>0.021894</td>\n",
       "      <td>4.356465</td>\n",
       "      <td>49.037783</td>\n",
       "      <td>476.644423</td>\n",
       "      <td>20608.95823</td>\n",
       "    </tr>\n",
       "    <tr>\n",
       "      <th>Upper Middle Income</th>\n",
       "      <td>43971.0</td>\n",
       "      <td>490.130301</td>\n",
       "      <td>1178.002267</td>\n",
       "      <td>0.011149</td>\n",
       "      <td>4.866173</td>\n",
       "      <td>62.043170</td>\n",
       "      <td>411.863951</td>\n",
       "      <td>19016.29073</td>\n",
       "    </tr>\n",
       "  </tbody>\n",
       "</table>\n",
       "</div>"
      ],
      "text/plain": [
       "                       count        mean          std       min       25%  \\\n",
       "income_grouping                                                             \n",
       "High Income          72034.0  634.031115  1351.363813  0.009323  5.190674   \n",
       "Low Middle Income    12629.0  840.326820  2079.669397  0.021894  4.356465   \n",
       "Upper Middle Income  43971.0  490.130301  1178.002267  0.011149  4.866173   \n",
       "\n",
       "                           50%         75%          max  \n",
       "income_grouping                                          \n",
       "High Income          75.471698  599.296719  26000.00000  \n",
       "Low Middle Income    49.037783  476.644423  20608.95823  \n",
       "Upper Middle Income  62.043170  411.863951  19016.29073  "
      ]
     },
     "execution_count": 1158,
     "metadata": {},
     "output_type": "execute_result"
    }
   ],
   "source": [
    "ihd_with_ig_grp_income = ihd_with_ig_df.groupby(['income_grouping']) \n",
    "\n",
    "ihd_with_ig_grp_income['death_rate_per_100000'].describe()"
   ]
  },
  {
   "attachments": {},
   "cell_type": "markdown",
   "metadata": {},
   "source": [
    "Extract the records for `High Income` category. Aggregate them by `year` then get the mean of `death_rate_per_100000` for each year. Create separate dataframe for `year` and `death_rate_per_100000`."
   ]
  },
  {
   "cell_type": "code",
   "execution_count": 1159,
   "metadata": {},
   "outputs": [
    {
     "name": "stdout",
     "output_type": "stream",
     "text": [
      "<class 'pandas.core.frame.DataFrame'>\n",
      "RangeIndex: 71 entries, 0 to 70\n",
      "Data columns (total 2 columns):\n",
      " #   Column                 Non-Null Count  Dtype  \n",
      "---  ------                 --------------  -----  \n",
      " 0   year                   71 non-null     int64  \n",
      " 1   death_rate_per_100000  71 non-null     float64\n",
      "dtypes: float64(1), int64(1)\n",
      "memory usage: 1.2 KB\n"
     ]
    }
   ],
   "source": [
    "ihd_with_ig_grpby_high_income = ihd_with_ig_grp_income.get_group('High Income')\n",
    "ihd_with_ig_grpby_high_income_and_year = ihd_with_ig_grpby_high_income[['year', 'death_rate_per_100000']].groupby('year', as_index=False).agg(death_rate_per_100000 = ('death_rate_per_100000', 'mean'))\n",
    "\n",
    "year_by_high_income = ihd_with_ig_grpby_high_income_and_year['year']\n",
    "death_rate_per_100000_by_high_income = ihd_with_ig_grpby_high_income_and_year['death_rate_per_100000']\n",
    "\n",
    "ihd_with_ig_grpby_high_income_and_year.info()"
   ]
  },
  {
   "attachments": {},
   "cell_type": "markdown",
   "metadata": {},
   "source": [
    "Extract the records for `Upper Middle Income` category. Aggregate them by `year` then get the mean of `death_rate_per_100000` for each year. Create separate dataframe for `year` and `death_rate_per_100000`."
   ]
  },
  {
   "cell_type": "code",
   "execution_count": 1160,
   "metadata": {},
   "outputs": [
    {
     "name": "stdout",
     "output_type": "stream",
     "text": [
      "<class 'pandas.core.frame.DataFrame'>\n",
      "RangeIndex: 68 entries, 0 to 67\n",
      "Data columns (total 2 columns):\n",
      " #   Column                 Non-Null Count  Dtype  \n",
      "---  ------                 --------------  -----  \n",
      " 0   year                   68 non-null     int64  \n",
      " 1   death_rate_per_100000  68 non-null     float64\n",
      "dtypes: float64(1), int64(1)\n",
      "memory usage: 1.2 KB\n"
     ]
    }
   ],
   "source": [
    "ihd_with_ig_grpby_upper_middle_income = ihd_with_ig_grp_income.get_group('Upper Middle Income')\n",
    "ihd_with_ig_grpby_upper_middle_income_and_year = ihd_with_ig_grpby_upper_middle_income[['year', 'death_rate_per_100000']].groupby('year', as_index=False).agg(death_rate_per_100000 = ('death_rate_per_100000', 'mean'))\n",
    "\n",
    "year_by_upper_mid_income = ihd_with_ig_grpby_upper_middle_income_and_year['year']\n",
    "death_rate_per_100000_by_upper_mid_income = ihd_with_ig_grpby_upper_middle_income_and_year['death_rate_per_100000']\n",
    "\n",
    "ihd_with_ig_grpby_upper_middle_income_and_year.info()"
   ]
  },
  {
   "attachments": {},
   "cell_type": "markdown",
   "metadata": {},
   "source": [
    "Extract the records for `Low Middle Income` category. Aggregate them by `year` then get the mean of `death_rate_per_100000` for each year. Create separate dataframe for `year` and `death_rate_per_100000`."
   ]
  },
  {
   "cell_type": "code",
   "execution_count": 1161,
   "metadata": {},
   "outputs": [
    {
     "name": "stdout",
     "output_type": "stream",
     "text": [
      "<class 'pandas.core.frame.DataFrame'>\n",
      "RangeIndex: 57 entries, 0 to 56\n",
      "Data columns (total 2 columns):\n",
      " #   Column                 Non-Null Count  Dtype  \n",
      "---  ------                 --------------  -----  \n",
      " 0   year                   57 non-null     int64  \n",
      " 1   death_rate_per_100000  57 non-null     float64\n",
      "dtypes: float64(1), int64(1)\n",
      "memory usage: 1.0 KB\n"
     ]
    }
   ],
   "source": [
    "ihd_with_ig_grpby_low_middle_income = ihd_with_ig_grp_income.get_group('Low Middle Income')\n",
    "ihd_with_ig_grpby_low_middle_income_and_year = ihd_with_ig_grpby_low_middle_income[['year', 'death_rate_per_100000']].groupby('year', as_index=False).agg(death_rate_per_100000 = ('death_rate_per_100000', 'mean'))\n",
    "\n",
    "year_by_low_mid_income = ihd_with_ig_grpby_low_middle_income_and_year['year']\n",
    "death_rate_per_100000_by_low_mid_income = ihd_with_ig_grpby_low_middle_income_and_year['death_rate_per_100000']\n",
    "\n",
    "ihd_with_ig_grpby_low_middle_income_and_year.info()"
   ]
  },
  {
   "attachments": {},
   "cell_type": "markdown",
   "metadata": {},
   "source": [
    "Plot on the scatterplot the `year` and `death_rate_per_100000` for each incoming grouping."
   ]
  },
  {
   "cell_type": "code",
   "execution_count": 1162,
   "metadata": {},
   "outputs": [
    {
     "data": {
      "text/plain": [
       "<matplotlib.legend.Legend at 0x2040c2710c0>"
      ]
     },
     "execution_count": 1162,
     "metadata": {},
     "output_type": "execute_result"
    },
    {
     "data": {
      "image/png": "[encoded data removed]",
      "text/plain": [
       "<Figure size 1200x800 with 1 Axes>"
      ]
     },
     "metadata": {},
     "output_type": "display_data"
    }
   ],
   "source": [
    "# Plot the graph of Death Rate per 100000 for each Year based on Income Grouping\n",
    "fig = plt.figure(figsize=(12, 8))\n",
    "ax = fig.add_subplot(111)\n",
    "ax.set_xlabel(\"Year\", fontdict={'weight':'bold'})\n",
    "ax.set_ylabel(\"Death Rate (per 100,000)\", fontdict={'weight':'bold'})\n",
    "ax.set_title(\"Ischaemic Heart Disease's Death Rate (per 100,000) by Income Grouping\", fontdict={'size':'large', 'weight':'bold'})\n",
    "\n",
    "ax.scatter(year_by_high_income, death_rate_per_100000_by_high_income, s=20, c='b', label='High Income', marker='*')\n",
    "ax.scatter(year_by_upper_mid_income, death_rate_per_100000_by_upper_mid_income, s=20, c='r', label='Upper Middle Income', marker='*')\n",
    "ax.scatter(year_by_low_mid_income, death_rate_per_100000_by_low_mid_income, s=20, c='g', label='Low Middle Income', marker='*')\n",
    "ax.legend(loc='upper right')"
   ]
  },
  {
   "attachments": {},
   "cell_type": "markdown",
   "metadata": {},
   "source": [
    "Based from the results, death rate of Ischaemic Heart Disease under `High Income` is slowly decreasing over the past years. However, the death rate for `Low Middle Income` has surged in the mid 1980's, doubling the value of `High Income`. There's also an outlier data for year 2020 under Low Middle Income.\n"
   ]
  },
  {
   "attachments": {},
   "cell_type": "markdown",
   "metadata": {},
   "source": [
    "### Data Analysis on Sex per Year\n",
    "\n",
    "Group the records by `sex` then display the summary statistics of `death_rate_per_100000` for each `sex`."
   ]
  },
  {
   "cell_type": "code",
   "execution_count": 1163,
   "metadata": {},
   "outputs": [
    {
     "data": {
      "text/html": [
       "<div>\n",
       "<style scoped>\n",
       "    .dataframe tbody tr th:only-of-type {\n",
       "        vertical-align: middle;\n",
       "    }\n",
       "\n",
       "    .dataframe tbody tr th {\n",
       "        vertical-align: top;\n",
       "    }\n",
       "\n",
       "    .dataframe thead th {\n",
       "        text-align: right;\n",
       "    }\n",
       "</style>\n",
       "<table border=\"1\" class=\"dataframe\">\n",
       "  <thead>\n",
       "    <tr style=\"text-align: right;\">\n",
       "      <th></th>\n",
       "      <th>count</th>\n",
       "      <th>mean</th>\n",
       "      <th>std</th>\n",
       "      <th>min</th>\n",
       "      <th>25%</th>\n",
       "      <th>50%</th>\n",
       "      <th>75%</th>\n",
       "      <th>max</th>\n",
       "    </tr>\n",
       "    <tr>\n",
       "      <th>sex</th>\n",
       "      <th></th>\n",
       "      <th></th>\n",
       "      <th></th>\n",
       "      <th></th>\n",
       "      <th></th>\n",
       "      <th></th>\n",
       "      <th></th>\n",
       "      <th></th>\n",
       "    </tr>\n",
       "  </thead>\n",
       "  <tbody>\n",
       "    <tr>\n",
       "      <th>Female</th>\n",
       "      <td>62545.0</td>\n",
       "      <td>514.430051</td>\n",
       "      <td>1285.773049</td>\n",
       "      <td>0.009741</td>\n",
       "      <td>3.423485</td>\n",
       "      <td>39.544638</td>\n",
       "      <td>369.276219</td>\n",
       "      <td>22333.33333</td>\n",
       "    </tr>\n",
       "    <tr>\n",
       "      <th>Male</th>\n",
       "      <td>66089.0</td>\n",
       "      <td>690.898283</td>\n",
       "      <td>1476.727641</td>\n",
       "      <td>0.009323</td>\n",
       "      <td>7.458976</td>\n",
       "      <td>107.988981</td>\n",
       "      <td>653.704324</td>\n",
       "      <td>26000.00000</td>\n",
       "    </tr>\n",
       "  </tbody>\n",
       "</table>\n",
       "</div>"
      ],
      "text/plain": [
       "          count        mean          std       min       25%         50%  \\\n",
       "sex                                                                        \n",
       "Female  62545.0  514.430051  1285.773049  0.009741  3.423485   39.544638   \n",
       "Male    66089.0  690.898283  1476.727641  0.009323  7.458976  107.988981   \n",
       "\n",
       "               75%          max  \n",
       "sex                              \n",
       "Female  369.276219  22333.33333  \n",
       "Male    653.704324  26000.00000  "
      ]
     },
     "execution_count": 1163,
     "metadata": {},
     "output_type": "execute_result"
    }
   ],
   "source": [
    "ihd_with_ig_grp_sex = ihd_with_ig_df.groupby(['sex']) \n",
    "\n",
    "ihd_with_ig_grp_sex['death_rate_per_100000'].describe()  "
   ]
  },
  {
   "attachments": {},
   "cell_type": "markdown",
   "metadata": {},
   "source": [
    "Extract the records for `Male`. Aggregate them by `year` then get the mean of `death_rate_per_100000` for each year. Create separate dataframe for `year` and `death_rate_per_100000`."
   ]
  },
  {
   "cell_type": "code",
   "execution_count": 1164,
   "metadata": {},
   "outputs": [
    {
     "name": "stdout",
     "output_type": "stream",
     "text": [
      "<class 'pandas.core.frame.DataFrame'>\n",
      "RangeIndex: 71 entries, 0 to 70\n",
      "Data columns (total 2 columns):\n",
      " #   Column                 Non-Null Count  Dtype  \n",
      "---  ------                 --------------  -----  \n",
      " 0   year                   71 non-null     int64  \n",
      " 1   death_rate_per_100000  71 non-null     float64\n",
      "dtypes: float64(1), int64(1)\n",
      "memory usage: 1.2 KB\n"
     ]
    }
   ],
   "source": [
    "df_grpby_male = ihd_with_ig_grp_sex.get_group('Male')\n",
    "df_grpby_male_and_year = df_grpby_male[['year', 'death_rate_per_100000']].groupby('year', as_index=False).agg(death_rate_per_100000 = ('death_rate_per_100000', 'mean'))\n",
    "\n",
    "year_by_male = df_grpby_male_and_year['year']\n",
    "death_rate_per_100000_by_male = df_grpby_male_and_year['death_rate_per_100000']\n",
    "\n",
    "df_grpby_male_and_year.info()"
   ]
  },
  {
   "attachments": {},
   "cell_type": "markdown",
   "metadata": {},
   "source": [
    "Extract the records for `Female`. Aggregate them by `year` then get the mean of `death_rate_per_100000` for each year. Create separate dataframe for `year` and `death_rate_per_100000`."
   ]
  },
  {
   "cell_type": "code",
   "execution_count": 1165,
   "metadata": {},
   "outputs": [
    {
     "name": "stdout",
     "output_type": "stream",
     "text": [
      "<class 'pandas.core.frame.DataFrame'>\n",
      "RangeIndex: 71 entries, 0 to 70\n",
      "Data columns (total 2 columns):\n",
      " #   Column                 Non-Null Count  Dtype  \n",
      "---  ------                 --------------  -----  \n",
      " 0   year                   71 non-null     int64  \n",
      " 1   death_rate_per_100000  71 non-null     float64\n",
      "dtypes: float64(1), int64(1)\n",
      "memory usage: 1.2 KB\n"
     ]
    }
   ],
   "source": [
    "df_grpby_female = ihd_with_ig_grp_sex.get_group('Female')\n",
    "df_grpby_female_and_year = df_grpby_female[['year', 'death_rate_per_100000']].groupby('year', as_index=False).agg(death_rate_per_100000 = ('death_rate_per_100000', 'mean'))\n",
    "\n",
    "year_by_female = df_grpby_female_and_year['year']\n",
    "death_rate_per_100000_by_female = df_grpby_female_and_year['death_rate_per_100000']\n",
    "\n",
    "df_grpby_female_and_year.info()"
   ]
  },
  {
   "attachments": {},
   "cell_type": "markdown",
   "metadata": {},
   "source": [
    "Plot on the scatterplot the `year` and `death_rate_per_100000` for each gender."
   ]
  },
  {
   "cell_type": "code",
   "execution_count": 1166,
   "metadata": {},
   "outputs": [
    {
     "data": {
      "text/plain": [
       "<matplotlib.legend.Legend at 0x2040c23c7f0>"
      ]
     },
     "execution_count": 1166,
     "metadata": {},
     "output_type": "execute_result"
    },
    {
     "data": {
      "image/png": "[encoded data removed]",
      "text/plain": [
       "<Figure size 1200x800 with 1 Axes>"
      ]
     },
     "metadata": {},
     "output_type": "display_data"
    }
   ],
   "source": [
    "# Plot the graph of Death Rate per 100000 for each Year based on Sex\n",
    "fig = plt.figure(figsize=(12, 8))\n",
    "ax = fig.add_subplot(111)\n",
    "ax.set_xlabel(\"Year\", fontdict={'weight':'bold'})\n",
    "ax.set_ylabel(\"Death Rate (per 100,000)\", fontdict={'weight':'bold'})\n",
    "ax.set_title(\"Ischaemic Heart Disease's Death Rate (per 100,000) by Gender\", fontdict={'size':'large', 'weight':'bold'})\n",
    "\n",
    "ax.scatter(year_by_male, death_rate_per_100000_by_male, s=20, c='b', label='Male', marker='*')\n",
    "ax.scatter(year_by_female, death_rate_per_100000_by_female, s=20, c='r', label='Female', marker='*')\n",
    "ax.legend(loc='upper right')"
   ]
  },
  {
   "attachments": {},
   "cell_type": "markdown",
   "metadata": {},
   "source": [
    "Based from the results, `Male` has a higher death rate on Ischaemic Heart Disease as compared to `Female` though the mortality rate has decreased for both genders over the years. However, in the mid 1980s, there was a sudden shift of the number of death rates for male and female."
   ]
  },
  {
   "attachments": {},
   "cell_type": "markdown",
   "metadata": {},
   "source": [
    "### Final Dataset"
   ]
  },
  {
   "attachments": {},
   "cell_type": "markdown",
   "metadata": {},
   "source": [
    "Data needs to be adjusted. Only those records from 1985 to 2019 will be used for the study, i.e. removing the outliers that might affect the accuracy and precision of the trained model."
   ]
  },
  {
   "cell_type": "code",
   "execution_count": 1189,
   "metadata": {},
   "outputs": [
    {
     "data": {
      "text/plain": [
       "2009    2755\n",
       "2003    2682\n",
       "2002    2647\n",
       "2001    2646\n",
       "2010    2645\n",
       "2000    2634\n",
       "2011    2628\n",
       "2007    2621\n",
       "2008    2573\n",
       "2004    2566\n",
       "2014    2556\n",
       "2006    2551\n",
       "2012    2546\n",
       "2005    2534\n",
       "1999    2521\n",
       "2013    2500\n",
       "1998    2499\n",
       "1997    2421\n",
       "1996    2413\n",
       "2016    2376\n",
       "2015    2360\n",
       "1995    2337\n",
       "1987    2283\n",
       "1994    2260\n",
       "1992    2227\n",
       "1993    2217\n",
       "1986    2203\n",
       "1990    2199\n",
       "1985    2192\n",
       "1991    2189\n",
       "2017    2167\n",
       "1988    2160\n",
       "1989    2134\n",
       "2018    2015\n",
       "2019    1638\n",
       "Name: year, dtype: int64"
      ]
     },
     "execution_count": 1189,
     "metadata": {},
     "output_type": "execute_result"
    }
   ],
   "source": [
    "ihd_with_ig_df = pd.DataFrame(ihd_with_ig_df).query(\"year >= 1985 and year < 2020\")\n",
    "ihd_with_ig_df['year'].value_counts()"
   ]
  },
  {
   "attachments": {},
   "cell_type": "markdown",
   "metadata": {},
   "source": [
    "## Model Creation and Evaluation<a id=\"toc-03\"></a>"
   ]
  },
  {
   "attachments": {},
   "cell_type": "markdown",
   "metadata": {},
   "source": [
    "### Data Preparation: Converting Categorical Features\n",
    "\n",
    "Check the frequency counts of `income_grouping`, `sex` and `age_group`."
   ]
  },
  {
   "cell_type": "code",
   "execution_count": 1168,
   "metadata": {},
   "outputs": [
    {
     "data": {
      "text/plain": [
       "High Income            41417\n",
       "Upper Middle Income    32188\n",
       "Low Middle Income      10913\n",
       "Name: income_grouping, dtype: int64"
      ]
     },
     "execution_count": 1168,
     "metadata": {},
     "output_type": "execute_result"
    }
   ],
   "source": [
    "ihd_with_ig_df['income_grouping'].value_counts()"
   ]
  },
  {
   "cell_type": "code",
   "execution_count": 1169,
   "metadata": {},
   "outputs": [
    {
     "data": {
      "text/plain": [
       "Male      43528\n",
       "Female    40990\n",
       "Name: sex, dtype: int64"
      ]
     },
     "execution_count": 1169,
     "metadata": {},
     "output_type": "execute_result"
    }
   ],
   "source": [
    "ihd_with_ig_df['sex'].value_counts()"
   ]
  },
  {
   "cell_type": "code",
   "execution_count": 1170,
   "metadata": {},
   "outputs": [
    {
     "data": {
      "text/plain": [
       "Adults            43930\n",
       "Seniors           29591\n",
       "Children_Youth    10997\n",
       "Name: age_group, dtype: int64"
      ]
     },
     "execution_count": 1170,
     "metadata": {},
     "output_type": "execute_result"
    }
   ],
   "source": [
    "ihd_with_ig_df['age_group'].value_counts()"
   ]
  },
  {
   "attachments": {},
   "cell_type": "markdown",
   "metadata": {},
   "source": [
    "Convert `income_grouping`, `sex` and `age_group` to dummy variables with 0 or 1 as the value."
   ]
  },
  {
   "cell_type": "code",
   "execution_count": 1171,
   "metadata": {},
   "outputs": [
    {
     "name": "stdout",
     "output_type": "stream",
     "text": [
      "<class 'pandas.core.frame.DataFrame'>\n",
      "Int64Index: 84518 entries, 0 to 128633\n",
      "Data columns (total 3 columns):\n",
      " #   Column               Non-Null Count  Dtype\n",
      "---  ------               --------------  -----\n",
      " 0   high_income          84518 non-null  uint8\n",
      " 1   low_middle_income    84518 non-null  uint8\n",
      " 2   upper_middle_income  84518 non-null  uint8\n",
      "dtypes: uint8(3)\n",
      "memory usage: 907.9 KB\n"
     ]
    }
   ],
   "source": [
    "income_grouping_df = pd.get_dummies(ihd_with_ig_df['income_grouping'])\n",
    "income_grouping_df.columns = ['high_income', 'low_middle_income', 'upper_middle_income']\n",
    "income_grouping_df.info()"
   ]
  },
  {
   "cell_type": "code",
   "execution_count": 1172,
   "metadata": {},
   "outputs": [
    {
     "name": "stdout",
     "output_type": "stream",
     "text": [
      "<class 'pandas.core.frame.DataFrame'>\n",
      "Int64Index: 84518 entries, 0 to 128633\n",
      "Data columns (total 1 columns):\n",
      " #   Column       Non-Null Count  Dtype\n",
      "---  ------       --------------  -----\n",
      " 0   male_gender  84518 non-null  uint8\n",
      "dtypes: uint8(1)\n",
      "memory usage: 742.8 KB\n"
     ]
    }
   ],
   "source": [
    "male_gender_df = pd.get_dummies(ihd_with_ig_df['sex'], drop_first=True)\n",
    "male_gender_df.columns = ['male_gender']\n",
    "male_gender_df.info()"
   ]
  },
  {
   "cell_type": "code",
   "execution_count": 1173,
   "metadata": {},
   "outputs": [
    {
     "name": "stdout",
     "output_type": "stream",
     "text": [
      "<class 'pandas.core.frame.DataFrame'>\n",
      "Int64Index: 84518 entries, 0 to 128633\n",
      "Data columns (total 3 columns):\n",
      " #   Column          Non-Null Count  Dtype\n",
      "---  ------          --------------  -----\n",
      " 0   adults          84518 non-null  uint8\n",
      " 1   children_youth  84518 non-null  uint8\n",
      " 2   seniors         84518 non-null  uint8\n",
      "dtypes: uint8(3)\n",
      "memory usage: 907.9 KB\n"
     ]
    }
   ],
   "source": [
    "age_grouping_df = pd.get_dummies(ihd_with_ig_df['age_group'])\n",
    "age_grouping_df.columns = ['adults', 'children_youth', 'seniors']\n",
    "age_grouping_df.info()"
   ]
  },
  {
   "attachments": {},
   "cell_type": "markdown",
   "metadata": {},
   "source": [
    "Create a dummy dataframe. Drop `income_grouping`, `sex` and `age_group` and all unnecessary column(s) from the dummy dataframe."
   ]
  },
  {
   "cell_type": "code",
   "execution_count": 1174,
   "metadata": {},
   "outputs": [
    {
     "name": "stdout",
     "output_type": "stream",
     "text": [
      "<class 'pandas.core.frame.DataFrame'>\n",
      "Int64Index: 84518 entries, 0 to 128633\n",
      "Data columns (total 1 columns):\n",
      " #   Column                 Non-Null Count  Dtype  \n",
      "---  ------                 --------------  -----  \n",
      " 0   death_rate_per_100000  84518 non-null  float64\n",
      "dtypes: float64(1)\n",
      "memory usage: 1.3 MB\n"
     ]
    }
   ],
   "source": [
    "ihd_with_ig_df_dummy = ihd_with_ig_df.copy()\n",
    "ihd_with_ig_df_dummy.drop(['country_code', 'sex', 'income_grouping', 'year', 'age_group'], axis=1, inplace=True)\n",
    "\n",
    "ihd_with_ig_df_dummy.info()"
   ]
  },
  {
   "attachments": {},
   "cell_type": "markdown",
   "metadata": {},
   "source": [
    "Concatenate in the dummy dataframe the dataframe (with dummy variables) created for `income_grouping`, `sex` and `age_group`."
   ]
  },
  {
   "cell_type": "code",
   "execution_count": 1175,
   "metadata": {},
   "outputs": [
    {
     "data": {
      "text/html": [
       "<div>\n",
       "<style scoped>\n",
       "    .dataframe tbody tr th:only-of-type {\n",
       "        vertical-align: middle;\n",
       "    }\n",
       "\n",
       "    .dataframe tbody tr th {\n",
       "        vertical-align: top;\n",
       "    }\n",
       "\n",
       "    .dataframe thead th {\n",
       "        text-align: right;\n",
       "    }\n",
       "</style>\n",
       "<table border=\"1\" class=\"dataframe\">\n",
       "  <thead>\n",
       "    <tr style=\"text-align: right;\">\n",
       "      <th></th>\n",
       "      <th>death_rate_per_100000</th>\n",
       "      <th>male_gender</th>\n",
       "      <th>adults</th>\n",
       "      <th>children_youth</th>\n",
       "      <th>seniors</th>\n",
       "      <th>high_income</th>\n",
       "      <th>low_middle_income</th>\n",
       "      <th>upper_middle_income</th>\n",
       "    </tr>\n",
       "  </thead>\n",
       "  <tbody>\n",
       "    <tr>\n",
       "      <th>0</th>\n",
       "      <td>0.617665</td>\n",
       "      <td>1</td>\n",
       "      <td>0</td>\n",
       "      <td>1</td>\n",
       "      <td>0</td>\n",
       "      <td>0</td>\n",
       "      <td>0</td>\n",
       "      <td>1</td>\n",
       "    </tr>\n",
       "    <tr>\n",
       "      <th>1</th>\n",
       "      <td>0.662252</td>\n",
       "      <td>1</td>\n",
       "      <td>0</td>\n",
       "      <td>1</td>\n",
       "      <td>0</td>\n",
       "      <td>0</td>\n",
       "      <td>0</td>\n",
       "      <td>1</td>\n",
       "    </tr>\n",
       "    <tr>\n",
       "      <th>2</th>\n",
       "      <td>4.040404</td>\n",
       "      <td>1</td>\n",
       "      <td>1</td>\n",
       "      <td>0</td>\n",
       "      <td>0</td>\n",
       "      <td>0</td>\n",
       "      <td>0</td>\n",
       "      <td>1</td>\n",
       "    </tr>\n",
       "    <tr>\n",
       "      <th>3</th>\n",
       "      <td>5.564388</td>\n",
       "      <td>1</td>\n",
       "      <td>1</td>\n",
       "      <td>0</td>\n",
       "      <td>0</td>\n",
       "      <td>0</td>\n",
       "      <td>0</td>\n",
       "      <td>1</td>\n",
       "    </tr>\n",
       "    <tr>\n",
       "      <th>4</th>\n",
       "      <td>5.213764</td>\n",
       "      <td>1</td>\n",
       "      <td>1</td>\n",
       "      <td>0</td>\n",
       "      <td>0</td>\n",
       "      <td>0</td>\n",
       "      <td>0</td>\n",
       "      <td>1</td>\n",
       "    </tr>\n",
       "  </tbody>\n",
       "</table>\n",
       "</div>"
      ],
      "text/plain": [
       "   death_rate_per_100000  male_gender  adults  children_youth  seniors  \\\n",
       "0               0.617665            1       0               1        0   \n",
       "1               0.662252            1       0               1        0   \n",
       "2               4.040404            1       1               0        0   \n",
       "3               5.564388            1       1               0        0   \n",
       "4               5.213764            1       1               0        0   \n",
       "\n",
       "   high_income  low_middle_income  upper_middle_income  \n",
       "0            0                  0                    1  \n",
       "1            0                  0                    1  \n",
       "2            0                  0                    1  \n",
       "3            0                  0                    1  \n",
       "4            0                  0                    1  "
      ]
     },
     "execution_count": 1175,
     "metadata": {},
     "output_type": "execute_result"
    }
   ],
   "source": [
    "ihd_with_ig_df_dummy = pd.concat([ihd_with_ig_df_dummy, male_gender_df, age_grouping_df, income_grouping_df], axis=1, verify_integrity=True)\n",
    "ihd_with_ig_df_dummy.head(5)"
   ]
  },
  {
   "attachments": {},
   "cell_type": "markdown",
   "metadata": {},
   "source": [
    "Check for independence between columns. The intensity of the feature's dependency is measured by the cell's color (more dependency -> darker color)"
   ]
  },
  {
   "cell_type": "code",
   "execution_count": 1176,
   "metadata": {},
   "outputs": [
    {
     "data": {
      "text/plain": [
       "<AxesSubplot: >"
      ]
     },
     "execution_count": 1176,
     "metadata": {},
     "output_type": "execute_result"
    },
    {
     "data": {
      "image/png": "[encoded data removed]",
      "text/plain": [
       "<Figure size 640x480 with 2 Axes>"
      ]
     },
     "metadata": {},
     "output_type": "display_data"
    }
   ],
   "source": [
    "# Check for independence between features\n",
    "sb.heatmap(ihd_with_ig_df_dummy.corr(), cbar_kws={'label': 'Indepdence between features'})"
   ]
  },
  {
   "attachments": {},
   "cell_type": "markdown",
   "metadata": {},
   "source": [
    "### Function Declaration"
   ]
  },
  {
   "cell_type": "code",
   "execution_count": 1177,
   "metadata": {},
   "outputs": [],
   "source": [
    "def evaluateModel(model, X_train, X_test, y_train, y_test):\n",
    "    '''\n",
    "    This method evaluate the Logistic Regression model and provide clasification report,\n",
    "    confusion matrix and precision score\n",
    "    '''\n",
    "    y_pred_test = model.predict(X_test)\n",
    "    \n",
    "    print(f'Model score: {model.score(X_test, y_test)}')\n",
    "    print()\n",
    "\n",
    "    # Classification report without cross-validation\n",
    "    print(\"Classification Report\")\n",
    "    print(classification_report(y_test, y_pred_test))\n",
    "    print()\n",
    "\n",
    "    # k-fold cross-validation and confusion matrices\n",
    "    y_train_pred = cross_val_predict(model, X_train, y_train, cv=5)\n",
    "\n",
    "    cm = confusion_matrix(y_train, y_train_pred)\n",
    "    cm_matrix = pd.DataFrame(data=cm, columns=['Actual Positive:1', 'Actual Negative:0'], index=['Predict Positive:1', 'Predict Negative:0'])\n",
    "    sb.heatmap(cm_matrix, annot=True, fmt='d')\n",
    "    plt.title('Confusion Matrix')\n",
    "\n",
    "    TP = cm[0,0]\n",
    "    TN = cm[1,1]\n",
    "    FP = cm[0,1]\n",
    "    FN = cm[1,0]\n",
    "\n",
    "    classification_accuracy = (TP + TN) / float(TP + TN + FP + FN)\n",
    "    print('Classification accuracy : {0:0.4f}'.format(classification_accuracy))\n",
    "\n",
    "    classification_error = (FP + FN) / float(TP + TN + FP + FN)\n",
    "    print('Classification error : {0:0.4f}'.format(classification_error))\n",
    "\n",
    "    print(f\"Precision Score: {precision_score(y_train, y_train_pred)}\")"
   ]
  },
  {
   "attachments": {},
   "cell_type": "markdown",
   "metadata": {},
   "source": [
    "### Model Creation for Seniors Group"
   ]
  },
  {
   "cell_type": "code",
   "execution_count": 1178,
   "metadata": {},
   "outputs": [
    {
     "name": "stdout",
     "output_type": "stream",
     "text": [
      "No. of train datasets: x=(59162, 5) y=(59162,)\n",
      "No. of test datasets: x=(25356, 5) y=(25356,)\n",
      "\n"
     ]
    },
    {
     "data": {
      "text/html": [
       "<style>#sk-container-id-27 {color: black;background-color: white;}#sk-container-id-27 pre{padding: 0;}#sk-container-id-27 div.sk-toggleable {background-color: white;}#sk-container-id-27 label.sk-toggleable__label {cursor: pointer;display: block;width: 100%;margin-bottom: 0;padding: 0.3em;box-sizing: border-box;text-align: center;}#sk-container-id-27 label.sk-toggleable__label-arrow:before {content: \"▸\";float: left;margin-right: 0.25em;color: #696969;}#sk-container-id-27 label.sk-toggleable__label-arrow:hover:before {color: black;}#sk-container-id-27 div.sk-estimator:hover label.sk-toggleable__label-arrow:before {color: black;}#sk-container-id-27 div.sk-toggleable__content {max-height: 0;max-width: 0;overflow: hidden;text-align: left;background-color: #f0f8ff;}#sk-container-id-27 div.sk-toggleable__content pre {margin: 0.2em;color: black;border-radius: 0.25em;background-color: #f0f8ff;}#sk-container-id-27 input.sk-toggleable__control:checked~div.sk-toggleable__content {max-height: 200px;max-width: 100%;overflow: auto;}#sk-container-id-27 input.sk-toggleable__control:checked~label.sk-toggleable__label-arrow:before {content: \"▾\";}#sk-container-id-27 div.sk-estimator input.sk-toggleable__control:checked~label.sk-toggleable__label {background-color: #d4ebff;}#sk-container-id-27 div.sk-label input.sk-toggleable__control:checked~label.sk-toggleable__label {background-color: #d4ebff;}#sk-container-id-27 input.sk-hidden--visually {border: 0;clip: rect(1px 1px 1px 1px);clip: rect(1px, 1px, 1px, 1px);height: 1px;margin: -1px;overflow: hidden;padding: 0;position: absolute;width: 1px;}#sk-container-id-27 div.sk-estimator {font-family: monospace;background-color: #f0f8ff;border: 1px dotted black;border-radius: 0.25em;box-sizing: border-box;margin-bottom: 0.5em;}#sk-container-id-27 div.sk-estimator:hover {background-color: #d4ebff;}#sk-container-id-27 div.sk-parallel-item::after {content: \"\";width: 100%;border-bottom: 1px solid gray;flex-grow: 1;}#sk-container-id-27 div.sk-label:hover label.sk-toggleable__label {background-color: #d4ebff;}#sk-container-id-27 div.sk-serial::before {content: \"\";position: absolute;border-left: 1px solid gray;box-sizing: border-box;top: 0;bottom: 0;left: 50%;z-index: 0;}#sk-container-id-27 div.sk-serial {display: flex;flex-direction: column;align-items: center;background-color: white;padding-right: 0.2em;padding-left: 0.2em;position: relative;}#sk-container-id-27 div.sk-item {position: relative;z-index: 1;}#sk-container-id-27 div.sk-parallel {display: flex;align-items: stretch;justify-content: center;background-color: white;position: relative;}#sk-container-id-27 div.sk-item::before, #sk-container-id-27 div.sk-parallel-item::before {content: \"\";position: absolute;border-left: 1px solid gray;box-sizing: border-box;top: 0;bottom: 0;left: 50%;z-index: -1;}#sk-container-id-27 div.sk-parallel-item {display: flex;flex-direction: column;z-index: 1;position: relative;background-color: white;}#sk-container-id-27 div.sk-parallel-item:first-child::after {align-self: flex-end;width: 50%;}#sk-container-id-27 div.sk-parallel-item:last-child::after {align-self: flex-start;width: 50%;}#sk-container-id-27 div.sk-parallel-item:only-child::after {width: 0;}#sk-container-id-27 div.sk-dashed-wrapped {border: 1px dashed gray;margin: 0 0.4em 0.5em 0.4em;box-sizing: border-box;padding-bottom: 0.4em;background-color: white;}#sk-container-id-27 div.sk-label label {font-family: monospace;font-weight: bold;display: inline-block;line-height: 1.2em;}#sk-container-id-27 div.sk-label-container {text-align: center;}#sk-container-id-27 div.sk-container {/* jupyter's `normalize.less` sets `[hidden] { display: none; }` but bootstrap.min.css set `[hidden] { display: none !important; }` so we also need the `!important` here to be able to override the default hidden behavior on the sphinx rendered scikit-learn.org. See: https://github.com/scikit-learn/scikit-learn/issues/21755 */display: inline-block !important;position: relative;}#sk-container-id-27 div.sk-text-repr-fallback {display: none;}</style><div id=\"sk-container-id-27\" class=\"sk-top-container\"><div class=\"sk-text-repr-fallback\"><pre>LogisticRegression()</pre><b>In a Jupyter environment, please rerun this cell to show the HTML representation or trust the notebook. <br />On GitHub, the HTML representation is unable to render, please try loading this page with nbviewer.org.</b></div><div class=\"sk-container\" hidden><div class=\"sk-item\"><div class=\"sk-estimator sk-toggleable\"><input class=\"sk-toggleable__control sk-hidden--visually\" id=\"sk-estimator-id-27\" type=\"checkbox\" checked><label for=\"sk-estimator-id-27\" class=\"sk-toggleable__label sk-toggleable__label-arrow\">LogisticRegression</label><div class=\"sk-toggleable__content\"><pre>LogisticRegression()</pre></div></div></div></div></div>"
      ],
      "text/plain": [
       "LogisticRegression()"
      ]
     },
     "execution_count": 1178,
     "metadata": {},
     "output_type": "execute_result"
    }
   ],
   "source": [
    "X_train, X_test, y_train, y_test = train_test_split(ihd_with_ig_df_dummy.drop(['adults', 'children_youth', 'seniors'], axis=1), age_grouping_df['seniors'], test_size=0.3, random_state=0)\n",
    "\n",
    "print(f\"No. of train datasets: x={X_train.shape} y={y_train.shape}\")\n",
    "print(f\"No. of test datasets: x={X_test.shape} y={y_test.shape}\\n\")\n",
    "\n",
    "model_seniors = LogisticRegression(solver='lbfgs')\n",
    "model_seniors.fit(X_train, y_train)"
   ]
  },
  {
   "attachments": {},
   "cell_type": "markdown",
   "metadata": {},
   "source": [
    "### Model Evaluation for Seniors Group"
   ]
  },
  {
   "cell_type": "code",
   "execution_count": 1179,
   "metadata": {},
   "outputs": [
    {
     "name": "stdout",
     "output_type": "stream",
     "text": [
      "Model score: 0.9017195141189462\n",
      "\n",
      "Classification Report\n",
      "              precision    recall  f1-score   support\n",
      "\n",
      "           0       0.89      0.96      0.93     16511\n",
      "           1       0.92      0.79      0.85      8845\n",
      "\n",
      "    accuracy                           0.90     25356\n",
      "   macro avg       0.91      0.88      0.89     25356\n",
      "weighted avg       0.90      0.90      0.90     25356\n",
      "\n",
      "\n",
      "Classification accuracy : 0.9024\n",
      "Classification error : 0.0976\n",
      "Precision Score: 0.9166805810652864\n"
     ]
    },
    {
     "data": {
      "image/png": "[encoded data removed]",
      "text/plain": [
       "<Figure size 640x480 with 2 Axes>"
      ]
     },
     "metadata": {},
     "output_type": "display_data"
    }
   ],
   "source": [
    "evaluateModel(model_seniors, X_train, X_test, y_train, y_test)"
   ]
  },
  {
   "attachments": {},
   "cell_type": "markdown",
   "metadata": {},
   "source": [
    "### Model Creation for Adults Group"
   ]
  },
  {
   "cell_type": "code",
   "execution_count": 1180,
   "metadata": {},
   "outputs": [
    {
     "name": "stdout",
     "output_type": "stream",
     "text": [
      "No. of train datasets: x=(59162, 5) y=(59162,)\n",
      "No. of test datasets: x=(25356, 5) y=(25356,)\n",
      "\n"
     ]
    },
    {
     "data": {
      "text/html": [
       "<style>#sk-container-id-28 {color: black;background-color: white;}#sk-container-id-28 pre{padding: 0;}#sk-container-id-28 div.sk-toggleable {background-color: white;}#sk-container-id-28 label.sk-toggleable__label {cursor: pointer;display: block;width: 100%;margin-bottom: 0;padding: 0.3em;box-sizing: border-box;text-align: center;}#sk-container-id-28 label.sk-toggleable__label-arrow:before {content: \"▸\";float: left;margin-right: 0.25em;color: #696969;}#sk-container-id-28 label.sk-toggleable__label-arrow:hover:before {color: black;}#sk-container-id-28 div.sk-estimator:hover label.sk-toggleable__label-arrow:before {color: black;}#sk-container-id-28 div.sk-toggleable__content {max-height: 0;max-width: 0;overflow: hidden;text-align: left;background-color: #f0f8ff;}#sk-container-id-28 div.sk-toggleable__content pre {margin: 0.2em;color: black;border-radius: 0.25em;background-color: #f0f8ff;}#sk-container-id-28 input.sk-toggleable__control:checked~div.sk-toggleable__content {max-height: 200px;max-width: 100%;overflow: auto;}#sk-container-id-28 input.sk-toggleable__control:checked~label.sk-toggleable__label-arrow:before {content: \"▾\";}#sk-container-id-28 div.sk-estimator input.sk-toggleable__control:checked~label.sk-toggleable__label {background-color: #d4ebff;}#sk-container-id-28 div.sk-label input.sk-toggleable__control:checked~label.sk-toggleable__label {background-color: #d4ebff;}#sk-container-id-28 input.sk-hidden--visually {border: 0;clip: rect(1px 1px 1px 1px);clip: rect(1px, 1px, 1px, 1px);height: 1px;margin: -1px;overflow: hidden;padding: 0;position: absolute;width: 1px;}#sk-container-id-28 div.sk-estimator {font-family: monospace;background-color: #f0f8ff;border: 1px dotted black;border-radius: 0.25em;box-sizing: border-box;margin-bottom: 0.5em;}#sk-container-id-28 div.sk-estimator:hover {background-color: #d4ebff;}#sk-container-id-28 div.sk-parallel-item::after {content: \"\";width: 100%;border-bottom: 1px solid gray;flex-grow: 1;}#sk-container-id-28 div.sk-label:hover label.sk-toggleable__label {background-color: #d4ebff;}#sk-container-id-28 div.sk-serial::before {content: \"\";position: absolute;border-left: 1px solid gray;box-sizing: border-box;top: 0;bottom: 0;left: 50%;z-index: 0;}#sk-container-id-28 div.sk-serial {display: flex;flex-direction: column;align-items: center;background-color: white;padding-right: 0.2em;padding-left: 0.2em;position: relative;}#sk-container-id-28 div.sk-item {position: relative;z-index: 1;}#sk-container-id-28 div.sk-parallel {display: flex;align-items: stretch;justify-content: center;background-color: white;position: relative;}#sk-container-id-28 div.sk-item::before, #sk-container-id-28 div.sk-parallel-item::before {content: \"\";position: absolute;border-left: 1px solid gray;box-sizing: border-box;top: 0;bottom: 0;left: 50%;z-index: -1;}#sk-container-id-28 div.sk-parallel-item {display: flex;flex-direction: column;z-index: 1;position: relative;background-color: white;}#sk-container-id-28 div.sk-parallel-item:first-child::after {align-self: flex-end;width: 50%;}#sk-container-id-28 div.sk-parallel-item:last-child::after {align-self: flex-start;width: 50%;}#sk-container-id-28 div.sk-parallel-item:only-child::after {width: 0;}#sk-container-id-28 div.sk-dashed-wrapped {border: 1px dashed gray;margin: 0 0.4em 0.5em 0.4em;box-sizing: border-box;padding-bottom: 0.4em;background-color: white;}#sk-container-id-28 div.sk-label label {font-family: monospace;font-weight: bold;display: inline-block;line-height: 1.2em;}#sk-container-id-28 div.sk-label-container {text-align: center;}#sk-container-id-28 div.sk-container {/* jupyter's `normalize.less` sets `[hidden] { display: none; }` but bootstrap.min.css set `[hidden] { display: none !important; }` so we also need the `!important` here to be able to override the default hidden behavior on the sphinx rendered scikit-learn.org. See: https://github.com/scikit-learn/scikit-learn/issues/21755 */display: inline-block !important;position: relative;}#sk-container-id-28 div.sk-text-repr-fallback {display: none;}</style><div id=\"sk-container-id-28\" class=\"sk-top-container\"><div class=\"sk-text-repr-fallback\"><pre>LogisticRegression()</pre><b>In a Jupyter environment, please rerun this cell to show the HTML representation or trust the notebook. <br />On GitHub, the HTML representation is unable to render, please try loading this page with nbviewer.org.</b></div><div class=\"sk-container\" hidden><div class=\"sk-item\"><div class=\"sk-estimator sk-toggleable\"><input class=\"sk-toggleable__control sk-hidden--visually\" id=\"sk-estimator-id-28\" type=\"checkbox\" checked><label for=\"sk-estimator-id-28\" class=\"sk-toggleable__label sk-toggleable__label-arrow\">LogisticRegression</label><div class=\"sk-toggleable__content\"><pre>LogisticRegression()</pre></div></div></div></div></div>"
      ],
      "text/plain": [
       "LogisticRegression()"
      ]
     },
     "execution_count": 1180,
     "metadata": {},
     "output_type": "execute_result"
    }
   ],
   "source": [
    "X_train, X_test, y_train, y_test = train_test_split(ihd_with_ig_df_dummy.drop(['adults', 'children_youth', 'seniors'], axis=1), age_grouping_df['adults'], test_size=0.3, random_state=0)\n",
    "\n",
    "print(f\"No. of train datasets: x={X_train.shape} y={y_train.shape}\")\n",
    "print(f\"No. of test datasets: x={X_test.shape} y={y_test.shape}\\n\")\n",
    "\n",
    "model_adults = LogisticRegression(solver='lbfgs')\n",
    "model_adults.fit(X_train, y_train)"
   ]
  },
  {
   "attachments": {},
   "cell_type": "markdown",
   "metadata": {},
   "source": [
    "### Model Evaluation for Adults Group"
   ]
  },
  {
   "cell_type": "code",
   "execution_count": 1181,
   "metadata": {},
   "outputs": [
    {
     "name": "stdout",
     "output_type": "stream",
     "text": [
      "Model score: 0.7707051585423569\n",
      "\n",
      "Classification Report\n",
      "              precision    recall  f1-score   support\n",
      "\n",
      "           0       0.88      0.60      0.72     12208\n",
      "           1       0.72      0.93      0.81     13148\n",
      "\n",
      "    accuracy                           0.77     25356\n",
      "   macro avg       0.80      0.76      0.76     25356\n",
      "weighted avg       0.80      0.77      0.76     25356\n",
      "\n",
      "\n",
      "Classification accuracy : 0.7755\n",
      "Classification error : 0.2245\n",
      "Precision Score: 0.7211900609185814\n"
     ]
    },
    {
     "data": {
      "image/png": "[encoded data removed]",
      "text/plain": [
       "<Figure size 640x480 with 2 Axes>"
      ]
     },
     "metadata": {},
     "output_type": "display_data"
    }
   ],
   "source": [
    "evaluateModel(model_adults, X_train, X_test, y_train, y_test)"
   ]
  },
  {
   "attachments": {},
   "cell_type": "markdown",
   "metadata": {},
   "source": [
    "### Model Creation for Children/Youth Group"
   ]
  },
  {
   "cell_type": "code",
   "execution_count": 1182,
   "metadata": {},
   "outputs": [
    {
     "name": "stdout",
     "output_type": "stream",
     "text": [
      "No. of train datasets: x=(59162, 5) y=(59162,)\n",
      "No. of test datasets: x=(25356, 5) y=(25356,)\n",
      "\n"
     ]
    },
    {
     "data": {
      "text/html": [
       "<style>#sk-container-id-29 {color: black;background-color: white;}#sk-container-id-29 pre{padding: 0;}#sk-container-id-29 div.sk-toggleable {background-color: white;}#sk-container-id-29 label.sk-toggleable__label {cursor: pointer;display: block;width: 100%;margin-bottom: 0;padding: 0.3em;box-sizing: border-box;text-align: center;}#sk-container-id-29 label.sk-toggleable__label-arrow:before {content: \"▸\";float: left;margin-right: 0.25em;color: #696969;}#sk-container-id-29 label.sk-toggleable__label-arrow:hover:before {color: black;}#sk-container-id-29 div.sk-estimator:hover label.sk-toggleable__label-arrow:before {color: black;}#sk-container-id-29 div.sk-toggleable__content {max-height: 0;max-width: 0;overflow: hidden;text-align: left;background-color: #f0f8ff;}#sk-container-id-29 div.sk-toggleable__content pre {margin: 0.2em;color: black;border-radius: 0.25em;background-color: #f0f8ff;}#sk-container-id-29 input.sk-toggleable__control:checked~div.sk-toggleable__content {max-height: 200px;max-width: 100%;overflow: auto;}#sk-container-id-29 input.sk-toggleable__control:checked~label.sk-toggleable__label-arrow:before {content: \"▾\";}#sk-container-id-29 div.sk-estimator input.sk-toggleable__control:checked~label.sk-toggleable__label {background-color: #d4ebff;}#sk-container-id-29 div.sk-label input.sk-toggleable__control:checked~label.sk-toggleable__label {background-color: #d4ebff;}#sk-container-id-29 input.sk-hidden--visually {border: 0;clip: rect(1px 1px 1px 1px);clip: rect(1px, 1px, 1px, 1px);height: 1px;margin: -1px;overflow: hidden;padding: 0;position: absolute;width: 1px;}#sk-container-id-29 div.sk-estimator {font-family: monospace;background-color: #f0f8ff;border: 1px dotted black;border-radius: 0.25em;box-sizing: border-box;margin-bottom: 0.5em;}#sk-container-id-29 div.sk-estimator:hover {background-color: #d4ebff;}#sk-container-id-29 div.sk-parallel-item::after {content: \"\";width: 100%;border-bottom: 1px solid gray;flex-grow: 1;}#sk-container-id-29 div.sk-label:hover label.sk-toggleable__label {background-color: #d4ebff;}#sk-container-id-29 div.sk-serial::before {content: \"\";position: absolute;border-left: 1px solid gray;box-sizing: border-box;top: 0;bottom: 0;left: 50%;z-index: 0;}#sk-container-id-29 div.sk-serial {display: flex;flex-direction: column;align-items: center;background-color: white;padding-right: 0.2em;padding-left: 0.2em;position: relative;}#sk-container-id-29 div.sk-item {position: relative;z-index: 1;}#sk-container-id-29 div.sk-parallel {display: flex;align-items: stretch;justify-content: center;background-color: white;position: relative;}#sk-container-id-29 div.sk-item::before, #sk-container-id-29 div.sk-parallel-item::before {content: \"\";position: absolute;border-left: 1px solid gray;box-sizing: border-box;top: 0;bottom: 0;left: 50%;z-index: -1;}#sk-container-id-29 div.sk-parallel-item {display: flex;flex-direction: column;z-index: 1;position: relative;background-color: white;}#sk-container-id-29 div.sk-parallel-item:first-child::after {align-self: flex-end;width: 50%;}#sk-container-id-29 div.sk-parallel-item:last-child::after {align-self: flex-start;width: 50%;}#sk-container-id-29 div.sk-parallel-item:only-child::after {width: 0;}#sk-container-id-29 div.sk-dashed-wrapped {border: 1px dashed gray;margin: 0 0.4em 0.5em 0.4em;box-sizing: border-box;padding-bottom: 0.4em;background-color: white;}#sk-container-id-29 div.sk-label label {font-family: monospace;font-weight: bold;display: inline-block;line-height: 1.2em;}#sk-container-id-29 div.sk-label-container {text-align: center;}#sk-container-id-29 div.sk-container {/* jupyter's `normalize.less` sets `[hidden] { display: none; }` but bootstrap.min.css set `[hidden] { display: none !important; }` so we also need the `!important` here to be able to override the default hidden behavior on the sphinx rendered scikit-learn.org. See: https://github.com/scikit-learn/scikit-learn/issues/21755 */display: inline-block !important;position: relative;}#sk-container-id-29 div.sk-text-repr-fallback {display: none;}</style><div id=\"sk-container-id-29\" class=\"sk-top-container\"><div class=\"sk-text-repr-fallback\"><pre>LogisticRegression()</pre><b>In a Jupyter environment, please rerun this cell to show the HTML representation or trust the notebook. <br />On GitHub, the HTML representation is unable to render, please try loading this page with nbviewer.org.</b></div><div class=\"sk-container\" hidden><div class=\"sk-item\"><div class=\"sk-estimator sk-toggleable\"><input class=\"sk-toggleable__control sk-hidden--visually\" id=\"sk-estimator-id-29\" type=\"checkbox\" checked><label for=\"sk-estimator-id-29\" class=\"sk-toggleable__label sk-toggleable__label-arrow\">LogisticRegression</label><div class=\"sk-toggleable__content\"><pre>LogisticRegression()</pre></div></div></div></div></div>"
      ],
      "text/plain": [
       "LogisticRegression()"
      ]
     },
     "execution_count": 1182,
     "metadata": {},
     "output_type": "execute_result"
    }
   ],
   "source": [
    "X_train, X_test, y_train, y_test = train_test_split(ihd_with_ig_df_dummy.drop(['adults', 'children_youth', 'seniors'], axis=1), age_grouping_df['children_youth'], test_size=0.3, random_state=0)\n",
    "\n",
    "print(f\"No. of train datasets: x={X_train.shape} y={y_train.shape}\")\n",
    "print(f\"No. of test datasets: x={X_test.shape} y={y_test.shape}\\n\")\n",
    "\n",
    "model_children_youth = LogisticRegression(solver='lbfgs')\n",
    "model_children_youth.fit(X_train, y_train)"
   ]
  },
  {
   "attachments": {},
   "cell_type": "markdown",
   "metadata": {},
   "source": [
    "### Model Evaluation for Children/Youth Group"
   ]
  },
  {
   "cell_type": "code",
   "execution_count": 1183,
   "metadata": {},
   "outputs": [
    {
     "name": "stdout",
     "output_type": "stream",
     "text": [
      "Model score: 0.9353999053478467\n",
      "\n",
      "Classification Report\n",
      "              precision    recall  f1-score   support\n",
      "\n",
      "           0       0.96      0.96      0.96     21993\n",
      "           1       0.76      0.75      0.75      3363\n",
      "\n",
      "    accuracy                           0.94     25356\n",
      "   macro avg       0.86      0.86      0.86     25356\n",
      "weighted avg       0.94      0.94      0.94     25356\n",
      "\n",
      "\n",
      "Classification accuracy : 0.9359\n",
      "Classification error : 0.0641\n",
      "Precision Score: 0.7567531425514844\n"
     ]
    },
    {
     "data": {
      "image/png": "[encoded data removed]",
      "text/plain": [
       "<Figure size 640x480 with 2 Axes>"
      ]
     },
     "metadata": {},
     "output_type": "display_data"
    }
   ],
   "source": [
    "evaluateModel(model_children_youth, X_train, X_test, y_train, y_test)"
   ]
  },
  {
   "attachments": {},
   "cell_type": "markdown",
   "metadata": {},
   "source": [
    "## Make Test Prediction<a id=\"toc-04\"></a>"
   ]
  },
  {
   "cell_type": "code",
   "execution_count": 1215,
   "metadata": {},
   "outputs": [],
   "source": [
    "def getPrediction(age_group, model, input):\n",
    "\n",
    "    df = np.array(input).reshape(1,-1)\n",
    "\n",
    "    percentage = round(model.predict_proba(df)[0][1] * 100, 2)\n",
    "    print(f\"{str(age_group + ' ').ljust(40, '.')} {percentage}%\")\n",
    "\n",
    "\n",
    "def testPrediction(models: dict, input: list):\n",
    "    print(f\"Gender: {'Male' if input[1] == 1 else 'Female'}\")\n",
    "\n",
    "    income_grouping = None\n",
    "    if input[2] == 1:\n",
    "        income_grouping = \"High Income\"\n",
    "    elif input[3] == 1:\n",
    "        income_grouping = \"Upper Middle Income\"\n",
    "    elif input[4] == 1:\n",
    "        income_grouping = \"Low Middle Income\"\n",
    "\n",
    "    print(f\"Income Grouping: {income_grouping}\")\n",
    "    print(f\"Death Rate (per 100,000): {input[0]}\")\n",
    "    print()\n",
    "\n",
    "    print(\"The likelihood that the data belongs to a specific age group\\n\")\n",
    "\n",
    "    for elem in models.items():\n",
    "        getPrediction(elem[0], elem[1], input)\n"
   ]
  },
  {
   "cell_type": "code",
   "execution_count": 1216,
   "metadata": {},
   "outputs": [
    {
     "name": "stdout",
     "output_type": "stream",
     "text": [
      "Gender: Male\n",
      "Income Grouping: Low Middle Income\n",
      "Death Rate (per 100,000): 700\n",
      "\n",
      "The likelihood that the data belongs to a specific age group\n",
      "\n",
      "Children/Youth ......................... 0.0%\n",
      "Adults ................................. 14.64%\n",
      "Seniors ................................ 94.91%\n"
     ]
    }
   ],
   "source": [
    "date_rate = 700\n",
    "male_gender = 1\n",
    "high_income = 0\n",
    "upper_middle_income = 0\n",
    "low_middle_income = 1\n",
    "\n",
    "testPrediction({ 'Children/Youth': model_children_youth, 'Adults': model_adults, 'Seniors': model_seniors }, [date_rate, male_gender, high_income, upper_middle_income, low_middle_income])"
   ]
  },
  {
   "cell_type": "code",
   "execution_count": 1217,
   "metadata": {},
   "outputs": [
    {
     "name": "stdout",
     "output_type": "stream",
     "text": [
      "Gender: Male\n",
      "Income Grouping: Low Middle Income\n",
      "Death Rate (per 100,000): 120\n",
      "\n",
      "The likelihood that the data belongs to a specific age group\n",
      "\n",
      "Children/Youth ......................... 0.0%\n",
      "Adults ................................. 66.55%\n",
      "Seniors ................................ 6.22%\n"
     ]
    }
   ],
   "source": [
    "date_rate = 120\n",
    "male_gender = 1\n",
    "high_income = 0\n",
    "upper_middle_income = 0\n",
    "low_middle_income = 1\n",
    "\n",
    "testPrediction({ 'Children/Youth': model_children_youth, 'Adults': model_adults, 'Seniors': model_seniors }, [date_rate, male_gender, high_income, upper_middle_income, low_middle_income])"
   ]
  },
  {
   "cell_type": "code",
   "execution_count": 1221,
   "metadata": {},
   "outputs": [
    {
     "name": "stdout",
     "output_type": "stream",
     "text": [
      "Gender: Male\n",
      "Income Grouping: High Income\n",
      "Death Rate (per 100,000): 1\n",
      "\n",
      "The likelihood that the data belongs to a specific age group\n",
      "\n",
      "Children/Youth ......................... 56.61%\n",
      "Adults ................................. 80.17%\n",
      "Seniors ................................ 2.59%\n"
     ]
    }
   ],
   "source": [
    "date_rate = 1\n",
    "male_gender = 1\n",
    "high_income = 1\n",
    "upper_middle_income = 0\n",
    "low_middle_income = 0\n",
    "\n",
    "testPrediction({ 'Children/Youth': model_children_youth, 'Adults': model_adults, 'Seniors': model_seniors }, [date_rate, male_gender, high_income, upper_middle_income, low_middle_income])"
   ]
  },
  {
   "attachments": {},
   "cell_type": "markdown",
   "metadata": {},
   "source": [
    "## References<a id=\"toc-05\"></a>\n",
    "\n",
    "1. <a href=\"https://www.who.int/news-room/fact-sheets/detail/the-top-10-causes-of-death\">https://www.who.int/news-room/fact-sheets/detail/the-top-10-causes-of-death</a>\n",
    "2. <a href=\"https://www.who.int/data/gho/data/themes/mortality-and-global-health-estimates\">https://www.who.int/data/gho/data/themes/mortality-and-global-health-estimates</a>\n",
    "3. <a href=\"https://www.who.int/docs/default-source/gho-documents/global-health-estimates/ghe2019_cod_methods.pdf\">https://www.who.int/docs/default-source/gho-documents/global-health-estimates/ghe2019_cod_methods.pdf</a>\n",
    "4. <a href=\"https://platform.who.int/mortality/themes/theme-details/topics/indicator-groups/indicator-group-details/MDB/ischaemic-heart-disease\">https://platform.who.int/mortality/themes/theme-details/topics/indicator-groups/indicator-group-details/MDB/ischaemic-heart-disease</a>"
   ]
  }
 ],
 "metadata": {
  "kernelspec": {
   "display_name": "Python 3",
   "language": "python",
   "name": "python3"
  },
  "language_info": {
   "codemirror_mode": {
    "name": "ipython",
    "version": 3
   },
   "file_extension": ".py",
   "mimetype": "text/x-python",
   "name": "python",
   "nbconvert_exporter": "python",
   "pygments_lexer": "ipython3",
   "version": "3.10.7"
  },
  "orig_nbformat": 4,
  "vscode": {
   "interpreter": {
    "hash": "006ceec57082682d3b909e056014cfb3f67146c2ee1293d561029ad71ca64256"
   }
  }
 },
 "nbformat": 4,
 "nbformat_minor": 2
}
