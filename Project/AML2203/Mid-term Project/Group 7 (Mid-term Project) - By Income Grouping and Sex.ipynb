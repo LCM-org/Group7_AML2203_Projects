{
 "cells": [
  {
   "cell_type": "code",
   "execution_count": 1697,
   "metadata": {},
   "outputs": [],
   "source": [
    "import numpy as np\n",
    "import pandas as pd\n",
    "import matplotlib.pyplot as plt\n",
    "import seaborn as sb\n",
    "\n",
    "from sklearn.linear_model import LogisticRegression\n",
    "from sklearn.model_selection import train_test_split\n",
    "from sklearn.model_selection import cross_val_predict\n",
    "from sklearn import metrics\n",
    "from sklearn.metrics import classification_report\n",
    "from sklearn.metrics import confusion_matrix\n",
    "from sklearn.metrics import precision_score, recall_score\n",
    "\n",
    "import warnings\n",
    "warnings.filterwarnings(\"ignore\")"
   ]
  },
  {
   "attachments": {},
   "cell_type": "markdown",
   "metadata": {},
   "source": [
    "### Data Preparation and Filtering"
   ]
  },
  {
   "cell_type": "code",
   "execution_count": 1698,
   "metadata": {},
   "outputs": [
    {
     "name": "stdout",
     "output_type": "stream",
     "text": [
      "<class 'pandas.core.frame.DataFrame'>\n",
      "RangeIndex: 109 entries, 0 to 108\n",
      "Data columns (total 5 columns):\n",
      " #   Column           Non-Null Count  Dtype \n",
      "---  ------           --------------  ----- \n",
      " 0   region_code      109 non-null    object\n",
      " 1   region_name      109 non-null    object\n",
      " 2   country_code     109 non-null    object\n",
      " 3   country_name     109 non-null    object\n",
      " 4   income_grouping  109 non-null    object\n",
      "dtypes: object(5)\n",
      "memory usage: 4.4+ KB\n"
     ]
    }
   ],
   "source": [
    "income_grouping_2019 = pd.read_csv('./datasets/World Bank Income Grouping 2019.csv')\n",
    "\n",
    "# Drop all records with NaN values\n",
    "income_grouping_2019.dropna(inplace=True)\n",
    "income_grouping_2019.reset_index(inplace=True, drop=True)\n",
    "\n",
    "income_grouping_2019.info()"
   ]
  },
  {
   "cell_type": "code",
   "execution_count": 1699,
   "metadata": {},
   "outputs": [
    {
     "name": "stdout",
     "output_type": "stream",
     "text": [
      "<class 'pandas.core.frame.DataFrame'>\n",
      "RangeIndex: 296604 entries, 0 to 296603\n",
      "Data columns (total 12 columns):\n",
      " #   Column                                                Non-Null Count   Dtype  \n",
      "---  ------                                                --------------   -----  \n",
      " 0   region_code                                           296604 non-null  object \n",
      " 1   region_name                                           296604 non-null  object \n",
      " 2   country_code                                          296604 non-null  object \n",
      " 3   country_name                                          296604 non-null  object \n",
      " 4   year                                                  296604 non-null  int64  \n",
      " 5   sex                                                   296604 non-null  object \n",
      " 6   age_group_code                                        296604 non-null  object \n",
      " 7   age_group                                             296604 non-null  object \n",
      " 8   num_of_death                                          295011 non-null  float64\n",
      " 9   percentage_cause_specific_deaths_out_of_total_deaths  287231 non-null  float64\n",
      " 10  age_standardized_death_rate_per_100000                13725 non-null   float64\n",
      " 11  death_rate_per_100000                                 272046 non-null  float64\n",
      "dtypes: float64(4), int64(1), object(7)\n",
      "memory usage: 27.2+ MB\n"
     ]
    }
   ],
   "source": [
    "ihd_df = pd.read_csv('./datasets/Ischaemic Heart Disease.csv')\n",
    "ihd_df.info()"
   ]
  },
  {
   "cell_type": "code",
   "execution_count": 1700,
   "metadata": {},
   "outputs": [
    {
     "name": "stdout",
     "output_type": "stream",
     "text": [
      "<class 'pandas.core.frame.DataFrame'>\n",
      "Int64Index: 162304 entries, 22 to 296540\n",
      "Data columns (total 12 columns):\n",
      " #   Column                                                Non-Null Count   Dtype  \n",
      "---  ------                                                --------------   -----  \n",
      " 0   region_code                                           162304 non-null  object \n",
      " 1   region_name                                           162304 non-null  object \n",
      " 2   country_code                                          162304 non-null  object \n",
      " 3   country_name                                          162304 non-null  object \n",
      " 4   year                                                  162304 non-null  int64  \n",
      " 5   sex                                                   162304 non-null  object \n",
      " 6   age_group_code                                        162304 non-null  object \n",
      " 7   age_group                                             162304 non-null  object \n",
      " 8   num_of_death                                          162304 non-null  float64\n",
      " 9   percentage_cause_specific_deaths_out_of_total_deaths  162304 non-null  float64\n",
      " 10  age_standardized_death_rate_per_100000                162304 non-null  float64\n",
      " 11  death_rate_per_100000                                 162304 non-null  float64\n",
      "dtypes: float64(4), int64(1), object(7)\n",
      "memory usage: 16.1+ MB\n"
     ]
    }
   ],
   "source": [
    "ihd_df = pd.read_csv('./datasets/Ischaemic Heart Disease.csv')\n",
    "\n",
    "# Remove all records with zero (0) number of deaths\n",
    "#ihd_df_filtered = ihd_df[ihd_df['num_of_death'].notna()]\n",
    "\n",
    "# NOTE: Records before 1963 were removed due to missing data for Low Middle Income\n",
    "#ihd_df_filtered = ihd_df_filtered.query(\"sex == ['Male', 'Female'] and age_group != ['[All]', '[Unknown]'] and (year >= 1963 and year < 2020) and num_of_death != 0\")\n",
    "ihd_df_filtered = ihd_df.query(\"sex == ['Male', 'Female'] and age_group != ['[All]', '[Unknown]'] and (year >= 1963 and year < 2020)\")\n",
    "\n",
    "# Fill all NaN cells with 0\n",
    "ihd_df_filtered = ihd_df_filtered.fillna(0)\n",
    "\n",
    "ihd_df_filtered.info()"
   ]
  },
  {
   "cell_type": "code",
   "execution_count": 1701,
   "metadata": {},
   "outputs": [
    {
     "name": "stdout",
     "output_type": "stream",
     "text": [
      "<class 'pandas.core.frame.DataFrame'>\n",
      "Int64Index: 158858 entries, 0 to 158857\n",
      "Data columns (total 8 columns):\n",
      " #   Column                 Non-Null Count   Dtype  \n",
      "---  ------                 --------------   -----  \n",
      " 0   country_code           158858 non-null  object \n",
      " 1   country_name           158858 non-null  object \n",
      " 2   year                   158858 non-null  int64  \n",
      " 3   sex                    158858 non-null  object \n",
      " 4   age_group              158858 non-null  object \n",
      " 5   num_of_death           158858 non-null  float64\n",
      " 6   death_rate_per_100000  158858 non-null  float64\n",
      " 7   income_grouping        158858 non-null  object \n",
      "dtypes: float64(2), int64(1), object(5)\n",
      "memory usage: 10.9+ MB\n"
     ]
    }
   ],
   "source": [
    "# Merge the selected fields from Ischeamic Heart Disease and Income Grouping 2019 tables\n",
    "ihd_with_ig_df = ihd_df_filtered[['country_code', 'country_name', 'year', 'sex', 'age_group', 'num_of_death', 'death_rate_per_100000']].merge(income_grouping_2019[['country_code', 'income_grouping']], on='country_code')\n",
    "ihd_with_ig_df.info()"
   ]
  },
  {
   "attachments": {},
   "cell_type": "markdown",
   "metadata": {},
   "source": [
    "### Method Declaration"
   ]
  },
  {
   "cell_type": "code",
   "execution_count": 1702,
   "metadata": {},
   "outputs": [],
   "source": [
    "def groupByIncomeGroupingAndYear(df, income_grouping):\n",
    "    # Group the records, then aggregate the records by Year\n",
    "    df_grp_by_income = df.get_group(income_grouping)\n",
    "    df_grp_by_income_and_year = df_grp_by_income[['year', 'death_rate_per_100000']].groupby('year', as_index=False).agg(death_rate_per_100000 = ('death_rate_per_100000', 'mean'))\n",
    "\n",
    "    #print(f\"Income Grouping: {income_grouping}\\n\")\n",
    "    #print(df_grp_by_income_and_year)\n",
    "    \n",
    "    return df_grp_by_income_and_year\n",
    "\n",
    "\n",
    "def groupByIncomeGroupingAndSex(df, sex):\n",
    "    # Group the records, then aggregate the records by Year\n",
    "    df_grp_by_sex = df.get_group(sex)\n",
    "    df_grp_by_sex_and_year = df_grp_by_sex[['year', 'death_rate_per_100000']].groupby('year', as_index=False).agg(death_rate_per_100000 = ('death_rate_per_100000', 'mean'))\n",
    "\n",
    "    #print(f\"Sex: {sex}\\n\")\n",
    "    #print(df_grp_by_sex_and_year)\n",
    "    \n",
    "    return df_grp_by_sex_and_year"
   ]
  },
  {
   "attachments": {},
   "cell_type": "markdown",
   "metadata": {},
   "source": [
    "### Data Analysis on Income Grouping"
   ]
  },
  {
   "cell_type": "code",
   "execution_count": 1703,
   "metadata": {},
   "outputs": [
    {
     "data": {
      "text/html": [
       "<div>\n",
       "<style scoped>\n",
       "    .dataframe tbody tr th:only-of-type {\n",
       "        vertical-align: middle;\n",
       "    }\n",
       "\n",
       "    .dataframe tbody tr th {\n",
       "        vertical-align: top;\n",
       "    }\n",
       "\n",
       "    .dataframe thead th {\n",
       "        text-align: right;\n",
       "    }\n",
       "</style>\n",
       "<table border=\"1\" class=\"dataframe\">\n",
       "  <thead>\n",
       "    <tr style=\"text-align: right;\">\n",
       "      <th></th>\n",
       "      <th>count</th>\n",
       "      <th>mean</th>\n",
       "      <th>std</th>\n",
       "      <th>min</th>\n",
       "      <th>25%</th>\n",
       "      <th>50%</th>\n",
       "      <th>75%</th>\n",
       "      <th>max</th>\n",
       "    </tr>\n",
       "    <tr>\n",
       "      <th>income_grouping</th>\n",
       "      <th></th>\n",
       "      <th></th>\n",
       "      <th></th>\n",
       "      <th></th>\n",
       "      <th></th>\n",
       "      <th></th>\n",
       "      <th></th>\n",
       "      <th></th>\n",
       "    </tr>\n",
       "  </thead>\n",
       "  <tbody>\n",
       "    <tr>\n",
       "      <th>High Income</th>\n",
       "      <td>87026.0</td>\n",
       "      <td>438.655236</td>\n",
       "      <td>1141.792796</td>\n",
       "      <td>0.0</td>\n",
       "      <td>0.000000</td>\n",
       "      <td>10.232186</td>\n",
       "      <td>274.498318</td>\n",
       "      <td>26000.00000</td>\n",
       "    </tr>\n",
       "    <tr>\n",
       "      <th>Low Middle Income</th>\n",
       "      <td>14832.0</td>\n",
       "      <td>714.772085</td>\n",
       "      <td>1942.057489</td>\n",
       "      <td>0.0</td>\n",
       "      <td>1.126915</td>\n",
       "      <td>20.969511</td>\n",
       "      <td>313.472838</td>\n",
       "      <td>20608.95823</td>\n",
       "    </tr>\n",
       "    <tr>\n",
       "      <th>Upper Middle Income</th>\n",
       "      <td>57000.0</td>\n",
       "      <td>369.619500</td>\n",
       "      <td>1053.406114</td>\n",
       "      <td>0.0</td>\n",
       "      <td>0.000000</td>\n",
       "      <td>10.720083</td>\n",
       "      <td>225.784904</td>\n",
       "      <td>19016.29073</td>\n",
       "    </tr>\n",
       "  </tbody>\n",
       "</table>\n",
       "</div>"
      ],
      "text/plain": [
       "                       count        mean          std  min       25%  \\\n",
       "income_grouping                                                        \n",
       "High Income          87026.0  438.655236  1141.792796  0.0  0.000000   \n",
       "Low Middle Income    14832.0  714.772085  1942.057489  0.0  1.126915   \n",
       "Upper Middle Income  57000.0  369.619500  1053.406114  0.0  0.000000   \n",
       "\n",
       "                           50%         75%          max  \n",
       "income_grouping                                          \n",
       "High Income          10.232186  274.498318  26000.00000  \n",
       "Low Middle Income    20.969511  313.472838  20608.95823  \n",
       "Upper Middle Income  10.720083  225.784904  19016.29073  "
      ]
     },
     "execution_count": 1703,
     "metadata": {},
     "output_type": "execute_result"
    }
   ],
   "source": [
    "# Group data by income_grouping\n",
    "ihd_with_ig_grp_income = ihd_with_ig_df.groupby(['income_grouping']) \n",
    "\n",
    "# Display summary statistics of 'death_rate_per_100000' for each income group   \n",
    "ihd_with_ig_grp_income['death_rate_per_100000'].describe()  "
   ]
  },
  {
   "cell_type": "code",
   "execution_count": 1704,
   "metadata": {},
   "outputs": [],
   "source": [
    "# Group the records by 'High Income' bracket, then aggregate the records by Year\n",
    "ihd_with_ig_grp_high_income_and_year = groupByIncomeGroupingAndYear(ihd_with_ig_grp_income, 'High Income')\n",
    "\n",
    "year_by_high_income = ihd_with_ig_grp_high_income_and_year['year']\n",
    "death_rate_per_100000_by_high_income = ihd_with_ig_grp_high_income_and_year['death_rate_per_100000']"
   ]
  },
  {
   "cell_type": "code",
   "execution_count": 1705,
   "metadata": {},
   "outputs": [],
   "source": [
    "# Group the records by 'Upper Middle Income' bracket, then aggregate the records by Year\n",
    "ihd_with_ig_grp_upper_mid_income_and_year = groupByIncomeGroupingAndYear(ihd_with_ig_grp_income, 'Upper Middle Income')\n",
    "\n",
    "year_by_upper_mid_income = ihd_with_ig_grp_upper_mid_income_and_year['year']\n",
    "death_rate_per_100000_by_upper_mid_income = ihd_with_ig_grp_upper_mid_income_and_year['death_rate_per_100000']"
   ]
  },
  {
   "cell_type": "code",
   "execution_count": 1706,
   "metadata": {},
   "outputs": [],
   "source": [
    "# Group the records by 'Low Middle Income' bracket, then aggregate the records by Year\n",
    "ihd_with_ig_grp_low_mid_income_and_year = groupByIncomeGroupingAndYear(ihd_with_ig_grp_income, 'Low Middle Income')\n",
    "\n",
    "year_by_low_mid_income = ihd_with_ig_grp_low_mid_income_and_year['year']\n",
    "death_rate_per_100000_by_low_mid_income = ihd_with_ig_grp_low_mid_income_and_year['death_rate_per_100000']"
   ]
  },
  {
   "cell_type": "code",
   "execution_count": 1707,
   "metadata": {},
   "outputs": [
    {
     "data": {
      "image/png": "[encoded data removed]",
      "text/plain": [
       "<Figure size 1000x600 with 1 Axes>"
      ]
     },
     "metadata": {},
     "output_type": "display_data"
    }
   ],
   "source": [
    "# Plot the graph of Death Rate per 100000 for each Year based on Income Grouping\n",
    "fig = plt.figure(figsize=(10, 6))\n",
    "ax1 = fig.add_subplot(111)\n",
    "ax1.set_xmargin(0)\n",
    "ax1.set_ymargin(0)\n",
    "ax1.set_xlabel(\"Year\", fontdict={'weight':'bold'})\n",
    "ax1.set_ylabel(\"Death Rate per 100,000\", fontdict={'weight':'bold'})\n",
    "ax1.set_title(\"Death Rate per 100000 from Year 1965-2019 by Income Grouping\", fontdict={'size':'large', 'weight':'bold'})\n",
    "\n",
    "ax1.scatter(year_by_high_income, death_rate_per_100000_by_high_income, s=10, c='b', label='High Income')\n",
    "ax1.scatter(year_by_upper_mid_income, death_rate_per_100000_by_upper_mid_income, s=10, c='r', label='Upper Middle Income')\n",
    "ax1.scatter(year_by_low_mid_income, death_rate_per_100000_by_low_mid_income, s=10, c='g', label='Low Middle Income')\n",
    "plt.legend(loc='upper left')\n",
    "plt.show()"
   ]
  },
  {
   "attachments": {},
   "cell_type": "markdown",
   "metadata": {},
   "source": [
    "### Data Analysis on Sex"
   ]
  },
  {
   "cell_type": "code",
   "execution_count": 1708,
   "metadata": {},
   "outputs": [
    {
     "data": {
      "text/html": [
       "<div>\n",
       "<style scoped>\n",
       "    .dataframe tbody tr th:only-of-type {\n",
       "        vertical-align: middle;\n",
       "    }\n",
       "\n",
       "    .dataframe tbody tr th {\n",
       "        vertical-align: top;\n",
       "    }\n",
       "\n",
       "    .dataframe thead th {\n",
       "        text-align: right;\n",
       "    }\n",
       "</style>\n",
       "<table border=\"1\" class=\"dataframe\">\n",
       "  <thead>\n",
       "    <tr style=\"text-align: right;\">\n",
       "      <th></th>\n",
       "      <th>count</th>\n",
       "      <th>mean</th>\n",
       "      <th>std</th>\n",
       "      <th>min</th>\n",
       "      <th>25%</th>\n",
       "      <th>50%</th>\n",
       "      <th>75%</th>\n",
       "      <th>max</th>\n",
       "    </tr>\n",
       "    <tr>\n",
       "      <th>sex</th>\n",
       "      <th></th>\n",
       "      <th></th>\n",
       "      <th></th>\n",
       "      <th></th>\n",
       "      <th></th>\n",
       "      <th></th>\n",
       "      <th></th>\n",
       "      <th></th>\n",
       "    </tr>\n",
       "  </thead>\n",
       "  <tbody>\n",
       "    <tr>\n",
       "      <th>Female</th>\n",
       "      <td>79429.0</td>\n",
       "      <td>361.632595</td>\n",
       "      <td>1102.862013</td>\n",
       "      <td>0.0</td>\n",
       "      <td>0.000000</td>\n",
       "      <td>5.957006</td>\n",
       "      <td>154.202005</td>\n",
       "      <td>22333.33333</td>\n",
       "    </tr>\n",
       "    <tr>\n",
       "      <th>Male</th>\n",
       "      <td>79429.0</td>\n",
       "      <td>517.696386</td>\n",
       "      <td>1310.767882</td>\n",
       "      <td>0.0</td>\n",
       "      <td>0.067681</td>\n",
       "      <td>23.613242</td>\n",
       "      <td>378.643617</td>\n",
       "      <td>26000.00000</td>\n",
       "    </tr>\n",
       "  </tbody>\n",
       "</table>\n",
       "</div>"
      ],
      "text/plain": [
       "          count        mean          std  min       25%        50%  \\\n",
       "sex                                                                  \n",
       "Female  79429.0  361.632595  1102.862013  0.0  0.000000   5.957006   \n",
       "Male    79429.0  517.696386  1310.767882  0.0  0.067681  23.613242   \n",
       "\n",
       "               75%          max  \n",
       "sex                              \n",
       "Female  154.202005  22333.33333  \n",
       "Male    378.643617  26000.00000  "
      ]
     },
     "execution_count": 1708,
     "metadata": {},
     "output_type": "execute_result"
    }
   ],
   "source": [
    "# Group data by income_grouping\n",
    "ihd_with_ig_grp_sex = ihd_with_ig_df.groupby(['sex']) \n",
    "\n",
    "# Display summary statistics of 'death_rate_per_100000' for each income group   \n",
    "ihd_with_ig_grp_sex['death_rate_per_100000'].describe()  "
   ]
  },
  {
   "cell_type": "code",
   "execution_count": 1709,
   "metadata": {},
   "outputs": [],
   "source": [
    "# Group the records by Male, then aggregate the records by Year\n",
    "ihd_with_ig_grp_male_and_year = groupByIncomeGroupingAndSex(ihd_with_ig_grp_sex, 'Male')\n",
    "\n",
    "year_by_male = ihd_with_ig_grp_male_and_year['year']\n",
    "death_rate_per_100000_by_male = ihd_with_ig_grp_male_and_year['death_rate_per_100000']"
   ]
  },
  {
   "cell_type": "code",
   "execution_count": 1710,
   "metadata": {},
   "outputs": [],
   "source": [
    "# Group the records by Female, then aggregate the records by Year\n",
    "ihd_with_ig_grp_female_and_year = groupByIncomeGroupingAndSex(ihd_with_ig_grp_sex, 'Female')\n",
    "\n",
    "year_by_female = ihd_with_ig_grp_female_and_year['year']\n",
    "death_rate_per_100000_by_female = ihd_with_ig_grp_female_and_year['death_rate_per_100000']"
   ]
  },
  {
   "cell_type": "code",
   "execution_count": 1711,
   "metadata": {},
   "outputs": [
    {
     "data": {
      "image/png": "[encoded data removed]",
      "text/plain": [
       "<Figure size 1000x600 with 1 Axes>"
      ]
     },
     "metadata": {},
     "output_type": "display_data"
    }
   ],
   "source": [
    "# Plot the graph of Death Rate per 100000 for each Year based on Sex\n",
    "fig = plt.figure(figsize=(10, 6))\n",
    "ax1 = fig.add_subplot(111)\n",
    "ax1.set_xmargin(0)\n",
    "ax1.set_ymargin(0)\n",
    "ax1.set_xlabel(\"Year\", fontdict={'weight':'bold'})\n",
    "ax1.set_ylabel(\"Death Rate per 100,000\", fontdict={'weight':'bold'})\n",
    "ax1.set_title(\"Death Rate per 100000 from Year 1965-2019 by Sex\", fontdict={'size':'large', 'weight':'bold'})\n",
    "\n",
    "ax1.scatter(year_by_male, death_rate_per_100000_by_male, s=10, c='b', label='Male')\n",
    "ax1.scatter(year_by_female, death_rate_per_100000_by_female, s=10, c='r', label='Female')\n",
    "plt.legend(loc='upper left')\n",
    "plt.show()"
   ]
  },
  {
   "attachments": {},
   "cell_type": "markdown",
   "metadata": {},
   "source": [
    "### Data Analysis on Age Group"
   ]
  },
  {
   "cell_type": "code",
   "execution_count": 1712,
   "metadata": {},
   "outputs": [
    {
     "data": {
      "text/html": [
       "<div>\n",
       "<style scoped>\n",
       "    .dataframe tbody tr th:only-of-type {\n",
       "        vertical-align: middle;\n",
       "    }\n",
       "\n",
       "    .dataframe tbody tr th {\n",
       "        vertical-align: top;\n",
       "    }\n",
       "\n",
       "    .dataframe thead th {\n",
       "        text-align: right;\n",
       "    }\n",
       "</style>\n",
       "<table border=\"1\" class=\"dataframe\">\n",
       "  <thead>\n",
       "    <tr style=\"text-align: right;\">\n",
       "      <th></th>\n",
       "      <th></th>\n",
       "      <th>count</th>\n",
       "      <th>mean</th>\n",
       "      <th>std</th>\n",
       "      <th>min</th>\n",
       "      <th>25%</th>\n",
       "      <th>50%</th>\n",
       "      <th>75%</th>\n",
       "      <th>max</th>\n",
       "    </tr>\n",
       "    <tr>\n",
       "      <th>age_group</th>\n",
       "      <th>sex</th>\n",
       "      <th></th>\n",
       "      <th></th>\n",
       "      <th></th>\n",
       "      <th></th>\n",
       "      <th></th>\n",
       "      <th></th>\n",
       "      <th></th>\n",
       "      <th></th>\n",
       "    </tr>\n",
       "  </thead>\n",
       "  <tbody>\n",
       "    <tr>\n",
       "      <th rowspan=\"2\" valign=\"top\">Adults</th>\n",
       "      <th>Female</th>\n",
       "      <td>33476.0</td>\n",
       "      <td>38.203331</td>\n",
       "      <td>71.066509</td>\n",
       "      <td>0.0</td>\n",
       "      <td>1.676688</td>\n",
       "      <td>9.630357</td>\n",
       "      <td>40.953459</td>\n",
       "      <td>821.978022</td>\n",
       "    </tr>\n",
       "    <tr>\n",
       "      <th>Male</th>\n",
       "      <td>33476.0</td>\n",
       "      <td>117.704032</td>\n",
       "      <td>188.134179</td>\n",
       "      <td>0.0</td>\n",
       "      <td>7.250279</td>\n",
       "      <td>39.467947</td>\n",
       "      <td>145.166641</td>\n",
       "      <td>1711.553829</td>\n",
       "    </tr>\n",
       "    <tr>\n",
       "      <th rowspan=\"2\" valign=\"top\">Children</th>\n",
       "      <th>Female</th>\n",
       "      <td>16777.0</td>\n",
       "      <td>0.308999</td>\n",
       "      <td>4.223460</td>\n",
       "      <td>0.0</td>\n",
       "      <td>0.000000</td>\n",
       "      <td>0.000000</td>\n",
       "      <td>0.000000</td>\n",
       "      <td>420.609884</td>\n",
       "    </tr>\n",
       "    <tr>\n",
       "      <th>Male</th>\n",
       "      <td>16777.0</td>\n",
       "      <td>0.336490</td>\n",
       "      <td>3.346015</td>\n",
       "      <td>0.0</td>\n",
       "      <td>0.000000</td>\n",
       "      <td>0.000000</td>\n",
       "      <td>0.000000</td>\n",
       "      <td>194.552529</td>\n",
       "    </tr>\n",
       "    <tr>\n",
       "      <th rowspan=\"2\" valign=\"top\">Seniors</th>\n",
       "      <th>Female</th>\n",
       "      <td>20807.0</td>\n",
       "      <td>1318.588679</td>\n",
       "      <td>1842.095768</td>\n",
       "      <td>0.0</td>\n",
       "      <td>261.150145</td>\n",
       "      <td>650.054171</td>\n",
       "      <td>1562.634166</td>\n",
       "      <td>22333.333330</td>\n",
       "    </tr>\n",
       "    <tr>\n",
       "      <th>Male</th>\n",
       "      <td>20807.0</td>\n",
       "      <td>1786.222735</td>\n",
       "      <td>2076.570448</td>\n",
       "      <td>0.0</td>\n",
       "      <td>501.453196</td>\n",
       "      <td>1083.462016</td>\n",
       "      <td>2241.267642</td>\n",
       "      <td>26000.000000</td>\n",
       "    </tr>\n",
       "    <tr>\n",
       "      <th rowspan=\"2\" valign=\"top\">Youth</th>\n",
       "      <th>Female</th>\n",
       "      <td>8369.0</td>\n",
       "      <td>0.497302</td>\n",
       "      <td>1.174247</td>\n",
       "      <td>0.0</td>\n",
       "      <td>0.000000</td>\n",
       "      <td>0.000000</td>\n",
       "      <td>0.595692</td>\n",
       "      <td>32.258065</td>\n",
       "    </tr>\n",
       "    <tr>\n",
       "      <th>Male</th>\n",
       "      <td>8369.0</td>\n",
       "      <td>0.987495</td>\n",
       "      <td>1.805079</td>\n",
       "      <td>0.0</td>\n",
       "      <td>0.000000</td>\n",
       "      <td>0.413365</td>\n",
       "      <td>1.297017</td>\n",
       "      <td>60.168472</td>\n",
       "    </tr>\n",
       "  </tbody>\n",
       "</table>\n",
       "</div>"
      ],
      "text/plain": [
       "                    count         mean          std  min         25%  \\\n",
       "age_group sex                                                          \n",
       "Adults    Female  33476.0    38.203331    71.066509  0.0    1.676688   \n",
       "          Male    33476.0   117.704032   188.134179  0.0    7.250279   \n",
       "Children  Female  16777.0     0.308999     4.223460  0.0    0.000000   \n",
       "          Male    16777.0     0.336490     3.346015  0.0    0.000000   \n",
       "Seniors   Female  20807.0  1318.588679  1842.095768  0.0  261.150145   \n",
       "          Male    20807.0  1786.222735  2076.570448  0.0  501.453196   \n",
       "Youth     Female   8369.0     0.497302     1.174247  0.0    0.000000   \n",
       "          Male     8369.0     0.987495     1.805079  0.0    0.000000   \n",
       "\n",
       "                          50%          75%           max  \n",
       "age_group sex                                             \n",
       "Adults    Female     9.630357    40.953459    821.978022  \n",
       "          Male      39.467947   145.166641   1711.553829  \n",
       "Children  Female     0.000000     0.000000    420.609884  \n",
       "          Male       0.000000     0.000000    194.552529  \n",
       "Seniors   Female   650.054171  1562.634166  22333.333330  \n",
       "          Male    1083.462016  2241.267642  26000.000000  \n",
       "Youth     Female     0.000000     0.595692     32.258065  \n",
       "          Male       0.413365     1.297017     60.168472  "
      ]
     },
     "execution_count": 1712,
     "metadata": {},
     "output_type": "execute_result"
    }
   ],
   "source": [
    "# Regroup the category of the previous age group\n",
    "# Reference for age grouping: https://www.statcan.gc.ca/en/concepts/definitions/age2\n",
    "\n",
    "ihd_with_ig_df['age_group'] = np.where(ihd_with_ig_df['age_group'] == '[0]', 'Children', ihd_with_ig_df['age_group'])\n",
    "ihd_with_ig_df['age_group'] = np.where(ihd_with_ig_df['age_group'] == '[1-4]', 'Children', ihd_with_ig_df['age_group'])\n",
    "ihd_with_ig_df['age_group'] = np.where(ihd_with_ig_df['age_group'] == '[5-9]', 'Children', ihd_with_ig_df['age_group'])\n",
    "ihd_with_ig_df['age_group'] = np.where(ihd_with_ig_df['age_group'] == '[10-14]', 'Children', ihd_with_ig_df['age_group'])\n",
    "\n",
    "ihd_with_ig_df['age_group'] = np.where(ihd_with_ig_df['age_group'] == '[15-19]', 'Youth', ihd_with_ig_df['age_group'])\n",
    "ihd_with_ig_df['age_group'] = np.where(ihd_with_ig_df['age_group'] == '[20-24]', 'Youth', ihd_with_ig_df['age_group'])\n",
    "\n",
    "ihd_with_ig_df['age_group'] = np.where(ihd_with_ig_df['age_group'] == '[25-29]', 'Adults', ihd_with_ig_df['age_group'])\n",
    "ihd_with_ig_df['age_group'] = np.where(ihd_with_ig_df['age_group'] == '[30-34]', 'Adults', ihd_with_ig_df['age_group'])\n",
    "ihd_with_ig_df['age_group'] = np.where(ihd_with_ig_df['age_group'] == '[35-39]', 'Adults', ihd_with_ig_df['age_group'])\n",
    "ihd_with_ig_df['age_group'] = np.where(ihd_with_ig_df['age_group'] == '[40-44]', 'Adults', ihd_with_ig_df['age_group'])\n",
    "ihd_with_ig_df['age_group'] = np.where(ihd_with_ig_df['age_group'] == '[45-49]', 'Adults', ihd_with_ig_df['age_group'])\n",
    "ihd_with_ig_df['age_group'] = np.where(ihd_with_ig_df['age_group'] == '[50-54]', 'Adults', ihd_with_ig_df['age_group'])\n",
    "ihd_with_ig_df['age_group'] = np.where(ihd_with_ig_df['age_group'] == '[55-59]', 'Adults', ihd_with_ig_df['age_group'])\n",
    "ihd_with_ig_df['age_group'] = np.where(ihd_with_ig_df['age_group'] == '[60-64]', 'Adults', ihd_with_ig_df['age_group'])\n",
    "\n",
    "ihd_with_ig_df['age_group'] = np.where(ihd_with_ig_df['age_group'] == '[65-69]', 'Seniors', ihd_with_ig_df['age_group'])\n",
    "ihd_with_ig_df['age_group'] = np.where(ihd_with_ig_df['age_group'] == '[70-74]', 'Seniors', ihd_with_ig_df['age_group'])\n",
    "ihd_with_ig_df['age_group'] = np.where(ihd_with_ig_df['age_group'] == '[75-79]', 'Seniors', ihd_with_ig_df['age_group'])\n",
    "ihd_with_ig_df['age_group'] = np.where(ihd_with_ig_df['age_group'] == '[80-84]', 'Seniors', ihd_with_ig_df['age_group'])\n",
    "ihd_with_ig_df['age_group'] = np.where(ihd_with_ig_df['age_group'] == '[85+]', 'Seniors', ihd_with_ig_df['age_group'])\n",
    "\n",
    "\n",
    "# Group data by income_grouping\n",
    "ihd_with_ig_df.groupby(['age_group', 'sex'])['death_rate_per_100000'].describe()"
   ]
  },
  {
   "attachments": {},
   "cell_type": "markdown",
   "metadata": {},
   "source": [
    "### Method Declaration"
   ]
  },
  {
   "cell_type": "code",
   "execution_count": 1713,
   "metadata": {},
   "outputs": [],
   "source": [
    "def evaluateModel(model, x_train, x_test, y_train, y_test, y_pred):\n",
    "    \n",
    "    print(f\"Score: {model.score(x_test, y_test)}\\n\")\n",
    "\n",
    "    # Classification report without cross-validation\n",
    "    print(\"Classification Report\")\n",
    "    print(classification_report(y_test, y_pred))\n",
    "\n",
    "    # k-fold cross-validation and confusion matrices\n",
    "    y_train_pred = cross_val_predict(model, x_train, y_train, cv=5)\n",
    "    print(\"Confusion Matrix\")\n",
    "    print(confusion_matrix(y_train, y_train_pred), \"\\n\")\n",
    "\n",
    "    print(f\"Precision Score: {precision_score(y_train, y_train_pred)}\")\n",
    "    \n",
    "    \n",
    "def modelCreation(x, y):\n",
    "\n",
    "    # Split data into training data sets and test data sets\n",
    "    x_train, x_test, y_train, y_test = train_test_split(x, y, test_size=0.3, random_state=0)\n",
    "\n",
    "    print(\"No. of Train Datasets: \", x_train.shape, y_train.shape)\n",
    "    print(\"No. of Test Datasets: \", x_test.shape, y_test.shape)\n",
    "    print()\n",
    "    \n",
    "    model = LogisticRegression(solver='saga')\n",
    "    model.fit(x_train, y_train)\n",
    "\n",
    "    y_pred = model.predict(x_test)\n",
    "\n",
    "    evaluateModel(model, x_train, x_test, y_train, y_test, y_pred)\n",
    "\n",
    "    return model\n",
    "    "
   ]
  },
  {
   "attachments": {},
   "cell_type": "markdown",
   "metadata": {},
   "source": [
    "### Logistic Regression\n",
    "\n",
    "##### Data Preparation: Converting Categorical Features"
   ]
  },
  {
   "cell_type": "code",
   "execution_count": 1714,
   "metadata": {},
   "outputs": [
    {
     "name": "stdout",
     "output_type": "stream",
     "text": [
      "<class 'pandas.core.frame.DataFrame'>\n",
      "Int64Index: 158858 entries, 0 to 158857\n",
      "Data columns (total 8 columns):\n",
      " #   Column                 Non-Null Count   Dtype  \n",
      "---  ------                 --------------   -----  \n",
      " 0   country_code           158858 non-null  object \n",
      " 1   country_name           158858 non-null  object \n",
      " 2   year                   158858 non-null  int64  \n",
      " 3   sex                    158858 non-null  object \n",
      " 4   age_group              158858 non-null  object \n",
      " 5   num_of_death           158858 non-null  float64\n",
      " 6   death_rate_per_100000  158858 non-null  float64\n",
      " 7   income_grouping        158858 non-null  object \n",
      "dtypes: float64(2), int64(1), object(5)\n",
      "memory usage: 10.9+ MB\n"
     ]
    }
   ],
   "source": [
    "# Check the data types of the fields\n",
    "ihd_with_ig_df.info()"
   ]
  },
  {
   "cell_type": "code",
   "execution_count": 1715,
   "metadata": {},
   "outputs": [
    {
     "data": {
      "text/html": [
       "<div>\n",
       "<style scoped>\n",
       "    .dataframe tbody tr th:only-of-type {\n",
       "        vertical-align: middle;\n",
       "    }\n",
       "\n",
       "    .dataframe tbody tr th {\n",
       "        vertical-align: top;\n",
       "    }\n",
       "\n",
       "    .dataframe thead th {\n",
       "        text-align: right;\n",
       "    }\n",
       "</style>\n",
       "<table border=\"1\" class=\"dataframe\">\n",
       "  <thead>\n",
       "    <tr style=\"text-align: right;\">\n",
       "      <th></th>\n",
       "      <th>death_rate_per_100000</th>\n",
       "      <th>male_gender</th>\n",
       "      <th>high_income</th>\n",
       "      <th>low_middle_income</th>\n",
       "      <th>upper_middle_income</th>\n",
       "    </tr>\n",
       "  </thead>\n",
       "  <tbody>\n",
       "    <tr>\n",
       "      <th>0</th>\n",
       "      <td>0.000000</td>\n",
       "      <td>1</td>\n",
       "      <td>0</td>\n",
       "      <td>0</td>\n",
       "      <td>1</td>\n",
       "    </tr>\n",
       "    <tr>\n",
       "      <th>1</th>\n",
       "      <td>0.000000</td>\n",
       "      <td>1</td>\n",
       "      <td>0</td>\n",
       "      <td>0</td>\n",
       "      <td>1</td>\n",
       "    </tr>\n",
       "    <tr>\n",
       "      <th>2</th>\n",
       "      <td>0.000000</td>\n",
       "      <td>1</td>\n",
       "      <td>0</td>\n",
       "      <td>0</td>\n",
       "      <td>1</td>\n",
       "    </tr>\n",
       "    <tr>\n",
       "      <th>3</th>\n",
       "      <td>0.000000</td>\n",
       "      <td>1</td>\n",
       "      <td>0</td>\n",
       "      <td>0</td>\n",
       "      <td>1</td>\n",
       "    </tr>\n",
       "    <tr>\n",
       "      <th>4</th>\n",
       "      <td>0.617665</td>\n",
       "      <td>1</td>\n",
       "      <td>0</td>\n",
       "      <td>0</td>\n",
       "      <td>1</td>\n",
       "    </tr>\n",
       "  </tbody>\n",
       "</table>\n",
       "</div>"
      ],
      "text/plain": [
       "   death_rate_per_100000  male_gender  high_income  low_middle_income  \\\n",
       "0               0.000000            1            0                  0   \n",
       "1               0.000000            1            0                  0   \n",
       "2               0.000000            1            0                  0   \n",
       "3               0.000000            1            0                  0   \n",
       "4               0.617665            1            0                  0   \n",
       "\n",
       "   upper_middle_income  \n",
       "0                    1  \n",
       "1                    1  \n",
       "2                    1  \n",
       "3                    1  \n",
       "4                    1  "
      ]
     },
     "execution_count": 1715,
     "metadata": {},
     "output_type": "execute_result"
    }
   ],
   "source": [
    "# Convert income grouping to dummy variables\n",
    "income_grouping_df = pd.get_dummies(ihd_with_ig_df['income_grouping'])\n",
    "income_grouping_df.columns = ['high_income', 'low_middle_income', 'upper_middle_income']\n",
    "\n",
    "# Convert sex to dummy variables\n",
    "male_gender_df = pd.get_dummies(ihd_with_ig_df['sex'], drop_first=True)\n",
    "male_gender_df.columns = ['male_gender']\n",
    "\n",
    "# Convert age grouping to dummy variables\n",
    "age_grouping_df = pd.get_dummies(ihd_with_ig_df['age_group'])\n",
    "age_grouping_df.columns = ['adults', 'children', 'seniors', 'youth']\n",
    "\n",
    "# Drop sex, age grouping and income grouping, and other unnecessary columns\n",
    "ihd_with_ig_df_dummy = ihd_with_ig_df.copy()\n",
    "ihd_with_ig_df_dummy.drop(['country_code', 'country_name', 'sex', 'income_grouping', 'year', 'age_group', 'num_of_death'], axis=1, inplace=True)\n",
    "\n",
    "# Add the dummy columns\n",
    "# ihd_with_ig_df_dummy = pd.concat([ihd_with_ig_df_dummy, male_gender_df, age_grouping_df, income_grouping_df], axis=1, verify_integrity=True)\n",
    "ihd_with_ig_df_dummy = pd.concat([ihd_with_ig_df_dummy, male_gender_df, income_grouping_df], axis=1, verify_integrity=True)\n",
    "ihd_with_ig_df_dummy.head(5)"
   ]
  },
  {
   "attachments": {},
   "cell_type": "markdown",
   "metadata": {},
   "source": [
    "##### Model Creation for each Age Grouping"
   ]
  },
  {
   "cell_type": "code",
   "execution_count": 1716,
   "metadata": {},
   "outputs": [
    {
     "name": "stdout",
     "output_type": "stream",
     "text": [
      "No. of Train Datasets:  (111200, 5) (111200,)\n",
      "No. of Test Datasets:  (47658, 5) (47658,)\n",
      "\n",
      "Score: 0.7682026102648034\n",
      "\n",
      "Classification Report\n",
      "              precision    recall  f1-score   support\n",
      "\n",
      "           0       0.98      0.70      0.81     34923\n",
      "           1       0.54      0.97      0.69     12735\n",
      "\n",
      "    accuracy                           0.77     47658\n",
      "   macro avg       0.76      0.83      0.75     47658\n",
      "weighted avg       0.86      0.77      0.78     47658\n",
      "\n",
      "Confusion Matrix\n",
      "[[55427 26894]\n",
      " [  952 27927]] \n",
      "\n",
      "Precision Score: 0.5094215720253188\n"
     ]
    }
   ],
   "source": [
    "model_seniors = modelCreation(ihd_with_ig_df_dummy, age_grouping_df['seniors'])"
   ]
  },
  {
   "cell_type": "code",
   "execution_count": 1717,
   "metadata": {},
   "outputs": [
    {
     "name": "stdout",
     "output_type": "stream",
     "text": [
      "No. of Train Datasets:  (111200, 5) (111200,)\n",
      "No. of Test Datasets:  (47658, 5) (47658,)\n",
      "\n",
      "Score: 0.3555751395358597\n",
      "\n",
      "Classification Report\n",
      "              precision    recall  f1-score   support\n",
      "\n",
      "           0       0.45      0.51      0.48     27846\n",
      "           1       0.17      0.14      0.15     19812\n",
      "\n",
      "    accuracy                           0.36     47658\n",
      "   macro avg       0.31      0.32      0.32     47658\n",
      "weighted avg       0.34      0.36      0.34     47658\n",
      "\n",
      "Confusion Matrix\n",
      "[[32813 31247]\n",
      " [41016  6124]] \n",
      "\n",
      "Precision Score: 0.16387038077653795\n"
     ]
    }
   ],
   "source": [
    "model_adults = modelCreation(ihd_with_ig_df_dummy, age_grouping_df['adults'])"
   ]
  },
  {
   "cell_type": "code",
   "execution_count": 1718,
   "metadata": {},
   "outputs": [
    {
     "name": "stdout",
     "output_type": "stream",
     "text": [
      "No. of Train Datasets:  (111200, 5) (111200,)\n",
      "No. of Test Datasets:  (47658, 5) (47658,)\n",
      "\n",
      "Score: 0.8942674891938395\n",
      "\n",
      "Classification Report\n",
      "              precision    recall  f1-score   support\n",
      "\n",
      "           0       0.89      1.00      0.94     42619\n",
      "           1       0.00      0.00      0.00      5039\n",
      "\n",
      "    accuracy                           0.89     47658\n",
      "   macro avg       0.45      0.50      0.47     47658\n",
      "weighted avg       0.80      0.89      0.84     47658\n",
      "\n",
      "Confusion Matrix\n",
      "[[99501     0]\n",
      " [11699     0]] \n",
      "\n",
      "Precision Score: 0.0\n"
     ]
    }
   ],
   "source": [
    "model_youth = modelCreation(ihd_with_ig_df_dummy, age_grouping_df['youth'])"
   ]
  },
  {
   "cell_type": "code",
   "execution_count": 1719,
   "metadata": {},
   "outputs": [
    {
     "name": "stdout",
     "output_type": "stream",
     "text": [
      "No. of Train Datasets:  (111200, 5) (111200,)\n",
      "No. of Test Datasets:  (47658, 5) (47658,)\n",
      "\n",
      "Score: 0.7886608754039196\n",
      "\n",
      "Classification Report\n",
      "              precision    recall  f1-score   support\n",
      "\n",
      "           0       0.79      1.00      0.88     37586\n",
      "           1       0.00      0.00      0.00     10072\n",
      "\n",
      "    accuracy                           0.79     47658\n",
      "   macro avg       0.39      0.50      0.44     47658\n",
      "weighted avg       0.62      0.79      0.70     47658\n",
      "\n",
      "Confusion Matrix\n",
      "[[87718     0]\n",
      " [23482     0]] \n",
      "\n",
      "Precision Score: 0.0\n"
     ]
    }
   ],
   "source": [
    "model_children = modelCreation(ihd_with_ig_df_dummy, age_grouping_df['children'])"
   ]
  },
  {
   "attachments": {},
   "cell_type": "markdown",
   "metadata": {},
   "source": [
    "##### Make test prediction"
   ]
  },
  {
   "cell_type": "code",
   "execution_count": 1720,
   "metadata": {},
   "outputs": [],
   "source": [
    "def getPrediction(age_group, model, input):\n",
    "    df = np.array(input).reshape(1,-1)\n",
    "\n",
    "    print(f\"{age_group.upper()}\")\n",
    "\n",
    "    print(f\"Prediction: {model.predict(df)[0]}\")\n",
    "    print(f\"Probability Estimates: {model.predict_proba(df)[0]}\")\n",
    "    print()\n",
    "\n",
    "def testPrediction(date_rate, male_gender, high_income, upper_middle_income, low_middle_income):\n",
    "\n",
    "    print(\"DATASET\")\n",
    "    print(f\"Male Gender: {male_gender}\")\n",
    "    print(f\"High Income: {high_income} | Upper Middle Income: {upper_middle_income} | Low Middle Income: {low_middle_income}\")\n",
    "    print(f\"Date Rate: {date_rate}\")\n",
    "    print()\n",
    "    \n",
    "    getPrediction('Seniors', model_seniors, [date_rate, male_gender, high_income, upper_middle_income, low_middle_income])\n",
    "\n",
    "    getPrediction('Adults', model_adults, [date_rate, male_gender, high_income, upper_middle_income, low_middle_income])\n",
    "\n",
    "    getPrediction('Youth', model_youth, [date_rate, male_gender, high_income, upper_middle_income, low_middle_income])\n",
    "\n",
    "    getPrediction('Children', model_children, [date_rate, male_gender, high_income, upper_middle_income, low_middle_income])"
   ]
  },
  {
   "cell_type": "code",
   "execution_count": 1721,
   "metadata": {},
   "outputs": [
    {
     "name": "stdout",
     "output_type": "stream",
     "text": [
      "DATASET\n",
      "Male Gender: 1\n",
      "High Income: 0 | Upper Middle Income: 0 | Low Middle Income: 1\n",
      "Date Rate: 700\n",
      "\n",
      "SENIORS\n",
      "Prediction: 1\n",
      "Probability Estimates: [0.21501115 0.78498885]\n",
      "\n",
      "ADULTS\n",
      "Prediction: 0\n",
      "Probability Estimates: [0.78637405 0.21362595]\n",
      "\n",
      "YOUTH\n",
      "Prediction: 0\n",
      "Probability Estimates: [1.00000000e+00 9.29092938e-22]\n",
      "\n",
      "CHILDREN\n",
      "Prediction: 0\n",
      "Probability Estimates: [1.00000000e+00 7.10810742e-22]\n",
      "\n"
     ]
    }
   ],
   "source": [
    "date_rate = 700\n",
    "male_gender = 1\n",
    "high_income = 0\n",
    "upper_middle_income = 0\n",
    "low_middle_income = 1\n",
    "\n",
    "testPrediction(date_rate, male_gender, high_income, upper_middle_income, low_middle_income)\n"
   ]
  },
  {
   "cell_type": "code",
   "execution_count": 1722,
   "metadata": {},
   "outputs": [
    {
     "name": "stdout",
     "output_type": "stream",
     "text": [
      "DATASET\n",
      "Male Gender: 0\n",
      "High Income: 0 | Upper Middle Income: 0 | Low Middle Income: 1\n",
      "Date Rate: 21\n",
      "\n",
      "SENIORS\n",
      "Prediction: 1\n",
      "Probability Estimates: [0.49595366 0.50404634]\n",
      "\n",
      "ADULTS\n",
      "Prediction: 0\n",
      "Probability Estimates: [0.50950288 0.49049712]\n",
      "\n",
      "YOUTH\n",
      "Prediction: 0\n",
      "Probability Estimates: [0.81219447 0.18780553]\n",
      "\n",
      "CHILDREN\n",
      "Prediction: 0\n",
      "Probability Estimates: [0.81231352 0.18768648]\n",
      "\n"
     ]
    }
   ],
   "source": [
    "date_rate = 21\n",
    "male_gender = 0\n",
    "high_income = 0\n",
    "upper_middle_income = 0\n",
    "low_middle_income = 1\n",
    "\n",
    "testPrediction(date_rate, male_gender, high_income, upper_middle_income, low_middle_income)"
   ]
  }
 ],
 "metadata": {
  "kernelspec": {
   "display_name": "Python 3",
   "language": "python",
   "name": "python3"
  },
  "language_info": {
   "codemirror_mode": {
    "name": "ipython",
    "version": 3
   },
   "file_extension": ".py",
   "mimetype": "text/x-python",
   "name": "python",
   "nbconvert_exporter": "python",
   "pygments_lexer": "ipython3",
   "version": "3.10.7"
  },
  "orig_nbformat": 4,
  "vscode": {
   "interpreter": {
    "hash": "006ceec57082682d3b909e056014cfb3f67146c2ee1293d561029ad71ca64256"
   }
  }
 },
 "nbformat": 4,
 "nbformat_minor": 2
}
