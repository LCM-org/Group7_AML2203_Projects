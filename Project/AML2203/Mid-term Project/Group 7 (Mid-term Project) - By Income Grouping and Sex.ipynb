{
 "cells": [
  {
   "cell_type": "code",
   "execution_count": 1211,
   "metadata": {},
   "outputs": [],
   "source": [
    "import numpy as np\n",
    "import pandas as pd\n",
    "import matplotlib.pyplot as plt\n",
    "import seaborn as sb\n",
    "\n",
    "from sklearn.linear_model import LogisticRegression\n",
    "from sklearn.model_selection import train_test_split\n",
    "from sklearn.model_selection import cross_val_predict\n",
    "from sklearn import metrics\n",
    "from sklearn.metrics import classification_report\n",
    "from sklearn.metrics import confusion_matrix\n",
    "from sklearn.metrics import precision_score, recall_score\n",
    "\n",
    "import warnings\n",
    "warnings.filterwarnings(\"ignore\")"
   ]
  },
  {
   "attachments": {},
   "cell_type": "markdown",
   "metadata": {},
   "source": [
    "### Data Preparation and Filtering"
   ]
  },
  {
   "cell_type": "code",
   "execution_count": 1212,
   "metadata": {},
   "outputs": [
    {
     "name": "stdout",
     "output_type": "stream",
     "text": [
      "<class 'pandas.core.frame.DataFrame'>\n",
      "RangeIndex: 109 entries, 0 to 108\n",
      "Data columns (total 5 columns):\n",
      " #   Column           Non-Null Count  Dtype \n",
      "---  ------           --------------  ----- \n",
      " 0   region_code      109 non-null    object\n",
      " 1   region_name      109 non-null    object\n",
      " 2   country_code     109 non-null    object\n",
      " 3   country_name     109 non-null    object\n",
      " 4   income_grouping  109 non-null    object\n",
      "dtypes: object(5)\n",
      "memory usage: 4.4+ KB\n"
     ]
    }
   ],
   "source": [
    "income_grouping_2019 = pd.read_csv('./datasets/World Bank Income Grouping 2019.csv')\n",
    "\n",
    "# Drop all records with NaN values\n",
    "income_grouping_2019.dropna(inplace=True)\n",
    "income_grouping_2019.reset_index(inplace=True, drop=True)\n",
    "\n",
    "income_grouping_2019.info()"
   ]
  },
  {
   "cell_type": "code",
   "execution_count": 1213,
   "metadata": {},
   "outputs": [
    {
     "name": "stdout",
     "output_type": "stream",
     "text": [
      "<class 'pandas.core.frame.DataFrame'>\n",
      "RangeIndex: 296604 entries, 0 to 296603\n",
      "Data columns (total 12 columns):\n",
      " #   Column                                                Non-Null Count   Dtype  \n",
      "---  ------                                                --------------   -----  \n",
      " 0   region_code                                           296604 non-null  object \n",
      " 1   region_name                                           296604 non-null  object \n",
      " 2   country_code                                          296604 non-null  object \n",
      " 3   country_name                                          296604 non-null  object \n",
      " 4   year                                                  296604 non-null  int64  \n",
      " 5   sex                                                   296604 non-null  object \n",
      " 6   age_group_code                                        296604 non-null  object \n",
      " 7   age_group                                             296604 non-null  object \n",
      " 8   num_of_death                                          295011 non-null  float64\n",
      " 9   percentage_cause_specific_deaths_out_of_total_deaths  287231 non-null  float64\n",
      " 10  age_standardized_death_rate_per_100000                13725 non-null   float64\n",
      " 11  death_rate_per_100000                                 272046 non-null  float64\n",
      "dtypes: float64(4), int64(1), object(7)\n",
      "memory usage: 27.2+ MB\n"
     ]
    }
   ],
   "source": [
    "ihd_df = pd.read_csv('./datasets/Ischaemic Heart Disease.csv')\n",
    "ihd_df.info()"
   ]
  },
  {
   "cell_type": "code",
   "execution_count": 1214,
   "metadata": {},
   "outputs": [
    {
     "name": "stdout",
     "output_type": "stream",
     "text": [
      "<class 'pandas.core.frame.DataFrame'>\n",
      "Int64Index: 119826 entries, 26 to 296540\n",
      "Data columns (total 12 columns):\n",
      " #   Column                                                Non-Null Count   Dtype  \n",
      "---  ------                                                --------------   -----  \n",
      " 0   region_code                                           119826 non-null  object \n",
      " 1   region_name                                           119826 non-null  object \n",
      " 2   country_code                                          119826 non-null  object \n",
      " 3   country_name                                          119826 non-null  object \n",
      " 4   year                                                  119826 non-null  int64  \n",
      " 5   sex                                                   119826 non-null  object \n",
      " 6   age_group_code                                        119826 non-null  object \n",
      " 7   age_group                                             119826 non-null  object \n",
      " 8   num_of_death                                          119826 non-null  float64\n",
      " 9   percentage_cause_specific_deaths_out_of_total_deaths  119826 non-null  float64\n",
      " 10  age_standardized_death_rate_per_100000                119826 non-null  float64\n",
      " 11  death_rate_per_100000                                 119826 non-null  float64\n",
      "dtypes: float64(4), int64(1), object(7)\n",
      "memory usage: 11.9+ MB\n"
     ]
    }
   ],
   "source": [
    "ihd_df = pd.read_csv('./datasets/Ischaemic Heart Disease.csv')\n",
    "\n",
    "# Remove all records with zero (0) number of deaths\n",
    "# ihd_df_filtered = ihd_df[ihd_df['num_of_death'].notna()]\n",
    "\n",
    "# NOTE: Records before 1963 were removed due to missing data for Low Middle Income\n",
    "# ihd_df_filtered = ihd_df_filtered.query(\"sex == ['Male', 'Female'] and age_group != ['[All]', '[Unknown]'] and (year >= 1963 and year < 2020) and num_of_death != 0\")\n",
    "ihd_df_filtered = ihd_df.query(\"sex == ['Male', 'Female'] and age_group != ['[All]', '[Unknown]'] and (year >= 1963 and year < 2020)\")\n",
    "\n",
    "# Fill all NaN cells with 0\n",
    "ihd_df_filtered = ihd_df_filtered.fillna(0)\n",
    "\n",
    "ihd_df_filtered.info()"
   ]
  },
  {
   "cell_type": "code",
   "execution_count": 1215,
   "metadata": {},
   "outputs": [
    {
     "name": "stdout",
     "output_type": "stream",
     "text": [
      "<class 'pandas.core.frame.DataFrame'>\n",
      "Int64Index: 118436 entries, 0 to 118435\n",
      "Data columns (total 8 columns):\n",
      " #   Column                 Non-Null Count   Dtype  \n",
      "---  ------                 --------------   -----  \n",
      " 0   country_code           118436 non-null  object \n",
      " 1   country_name           118436 non-null  object \n",
      " 2   year                   118436 non-null  int64  \n",
      " 3   sex                    118436 non-null  object \n",
      " 4   age_group              118436 non-null  object \n",
      " 5   num_of_death           118436 non-null  float64\n",
      " 6   death_rate_per_100000  118436 non-null  float64\n",
      " 7   income_grouping        118436 non-null  object \n",
      "dtypes: float64(2), int64(1), object(5)\n",
      "memory usage: 8.1+ MB\n"
     ]
    }
   ],
   "source": [
    "# Merge the selected fields from Ischeamic Heart Disease and Income Grouping 2019 tables\n",
    "ihd_with_ig_df = ihd_df_filtered[['country_code', 'country_name', 'year', 'sex', 'age_group', 'num_of_death', 'death_rate_per_100000']].merge(income_grouping_2019[['country_code', 'income_grouping']], on='country_code')\n",
    "ihd_with_ig_df.info()"
   ]
  },
  {
   "attachments": {},
   "cell_type": "markdown",
   "metadata": {},
   "source": [
    "### Method Declaration"
   ]
  },
  {
   "cell_type": "code",
   "execution_count": 1216,
   "metadata": {},
   "outputs": [],
   "source": [
    "def groupByIncomeGroupingAndYear(df, income_grouping):\n",
    "    # Group the records, then aggregate the records by Year\n",
    "    df_grp_by_income = df.get_group(income_grouping)\n",
    "    df_grp_by_income_and_year = df_grp_by_income[['year', 'death_rate_per_100000']].groupby('year', as_index=False).agg(death_rate_per_100000 = ('death_rate_per_100000', 'mean'))\n",
    "\n",
    "    #print(f\"Income Grouping: {income_grouping}\\n\")\n",
    "    #print(df_grp_by_income_and_year)\n",
    "    \n",
    "    return df_grp_by_income_and_year\n",
    "\n",
    "\n",
    "def groupByIncomeGroupingAndSex(df, sex):\n",
    "    # Group the records, then aggregate the records by Year\n",
    "    df_grp_by_sex = df.get_group(sex)\n",
    "    df_grp_by_sex_and_year = df_grp_by_sex[['year', 'death_rate_per_100000']].groupby('year', as_index=False).agg(death_rate_per_100000 = ('death_rate_per_100000', 'mean'))\n",
    "\n",
    "    #print(f\"Sex: {sex}\\n\")\n",
    "    #print(df_grp_by_sex_and_year)\n",
    "    \n",
    "    return df_grp_by_sex_and_year"
   ]
  },
  {
   "attachments": {},
   "cell_type": "markdown",
   "metadata": {},
   "source": [
    "### Data Analysis on Income Grouping"
   ]
  },
  {
   "cell_type": "code",
   "execution_count": 1217,
   "metadata": {},
   "outputs": [
    {
     "data": {
      "text/html": [
       "<div>\n",
       "<style scoped>\n",
       "    .dataframe tbody tr th:only-of-type {\n",
       "        vertical-align: middle;\n",
       "    }\n",
       "\n",
       "    .dataframe tbody tr th {\n",
       "        vertical-align: top;\n",
       "    }\n",
       "\n",
       "    .dataframe thead th {\n",
       "        text-align: right;\n",
       "    }\n",
       "</style>\n",
       "<table border=\"1\" class=\"dataframe\">\n",
       "  <thead>\n",
       "    <tr style=\"text-align: right;\">\n",
       "      <th></th>\n",
       "      <th>count</th>\n",
       "      <th>mean</th>\n",
       "      <th>std</th>\n",
       "      <th>min</th>\n",
       "      <th>25%</th>\n",
       "      <th>50%</th>\n",
       "      <th>75%</th>\n",
       "      <th>max</th>\n",
       "    </tr>\n",
       "    <tr>\n",
       "      <th>income_grouping</th>\n",
       "      <th></th>\n",
       "      <th></th>\n",
       "      <th></th>\n",
       "      <th></th>\n",
       "      <th></th>\n",
       "      <th></th>\n",
       "      <th></th>\n",
       "      <th></th>\n",
       "    </tr>\n",
       "  </thead>\n",
       "  <tbody>\n",
       "    <tr>\n",
       "      <th>High Income</th>\n",
       "      <td>63220.0</td>\n",
       "      <td>603.834396</td>\n",
       "      <td>1301.872259</td>\n",
       "      <td>0.0</td>\n",
       "      <td>4.856543</td>\n",
       "      <td>73.367973</td>\n",
       "      <td>570.819128</td>\n",
       "      <td>26000.00000</td>\n",
       "    </tr>\n",
       "    <tr>\n",
       "      <th>Low Middle Income</th>\n",
       "      <td>12606.0</td>\n",
       "      <td>840.988384</td>\n",
       "      <td>2081.221246</td>\n",
       "      <td>0.0</td>\n",
       "      <td>4.325224</td>\n",
       "      <td>48.726672</td>\n",
       "      <td>476.574560</td>\n",
       "      <td>20608.95823</td>\n",
       "    </tr>\n",
       "    <tr>\n",
       "      <th>Upper Middle Income</th>\n",
       "      <td>42610.0</td>\n",
       "      <td>494.445236</td>\n",
       "      <td>1192.770590</td>\n",
       "      <td>0.0</td>\n",
       "      <td>4.332249</td>\n",
       "      <td>59.019088</td>\n",
       "      <td>409.224867</td>\n",
       "      <td>19016.29073</td>\n",
       "    </tr>\n",
       "  </tbody>\n",
       "</table>\n",
       "</div>"
      ],
      "text/plain": [
       "                       count        mean          std  min       25%  \\\n",
       "income_grouping                                                        \n",
       "High Income          63220.0  603.834396  1301.872259  0.0  4.856543   \n",
       "Low Middle Income    12606.0  840.988384  2081.221246  0.0  4.325224   \n",
       "Upper Middle Income  42610.0  494.445236  1192.770590  0.0  4.332249   \n",
       "\n",
       "                           50%         75%          max  \n",
       "income_grouping                                          \n",
       "High Income          73.367973  570.819128  26000.00000  \n",
       "Low Middle Income    48.726672  476.574560  20608.95823  \n",
       "Upper Middle Income  59.019088  409.224867  19016.29073  "
      ]
     },
     "execution_count": 1217,
     "metadata": {},
     "output_type": "execute_result"
    }
   ],
   "source": [
    "# Group data by income_grouping\n",
    "ihd_with_ig_grp_income = ihd_with_ig_df.groupby(['income_grouping']) \n",
    "\n",
    "# Display summary statistics of 'death_rate_per_100000' for each income group   \n",
    "ihd_with_ig_grp_income['death_rate_per_100000'].describe()  "
   ]
  },
  {
   "cell_type": "code",
   "execution_count": 1218,
   "metadata": {},
   "outputs": [],
   "source": [
    "# Group the records by 'High Income' bracket, then aggregate the records by Year\n",
    "ihd_with_ig_grp_high_income_and_year = groupByIncomeGroupingAndYear(ihd_with_ig_grp_income, 'High Income')\n",
    "\n",
    "year_by_high_income = ihd_with_ig_grp_high_income_and_year['year']\n",
    "death_rate_per_100000_by_high_income = ihd_with_ig_grp_high_income_and_year['death_rate_per_100000']"
   ]
  },
  {
   "cell_type": "code",
   "execution_count": 1219,
   "metadata": {},
   "outputs": [],
   "source": [
    "# Group the records by 'Upper Middle Income' bracket, then aggregate the records by Year\n",
    "ihd_with_ig_grp_upper_mid_income_and_year = groupByIncomeGroupingAndYear(ihd_with_ig_grp_income, 'Upper Middle Income')\n",
    "\n",
    "year_by_upper_mid_income = ihd_with_ig_grp_upper_mid_income_and_year['year']\n",
    "death_rate_per_100000_by_upper_mid_income = ihd_with_ig_grp_upper_mid_income_and_year['death_rate_per_100000']"
   ]
  },
  {
   "cell_type": "code",
   "execution_count": 1220,
   "metadata": {},
   "outputs": [],
   "source": [
    "# Group the records by 'Low Middle Income' bracket, then aggregate the records by Year\n",
    "ihd_with_ig_grp_low_mid_income_and_year = groupByIncomeGroupingAndYear(ihd_with_ig_grp_income, 'Low Middle Income')\n",
    "\n",
    "year_by_low_mid_income = ihd_with_ig_grp_low_mid_income_and_year['year']\n",
    "death_rate_per_100000_by_low_mid_income = ihd_with_ig_grp_low_mid_income_and_year['death_rate_per_100000']"
   ]
  },
  {
   "cell_type": "code",
   "execution_count": 1221,
   "metadata": {},
   "outputs": [
    {
     "data": {
      "image/png": "[encoded data removed]",
      "text/plain": [
       "<Figure size 1000x600 with 1 Axes>"
      ]
     },
     "metadata": {},
     "output_type": "display_data"
    }
   ],
   "source": [
    "# Plot the graph of Death Rate per 100000 for each Year based on Income Grouping\n",
    "fig = plt.figure(figsize=(10, 6))\n",
    "ax1 = fig.add_subplot(111)\n",
    "ax1.set_xmargin(0)\n",
    "ax1.set_ymargin(0)\n",
    "ax1.set_xlabel(\"Year\", fontdict={'weight':'bold'})\n",
    "ax1.set_ylabel(\"Death Rate per 100,000\", fontdict={'weight':'bold'})\n",
    "ax1.set_title(\"Death Rate per 100000 from Year 1965-2019 by Income Grouping\", fontdict={'size':'large', 'weight':'bold'})\n",
    "\n",
    "ax1.scatter(year_by_high_income, death_rate_per_100000_by_high_income, s=10, c='b', label='High Income')\n",
    "ax1.scatter(year_by_upper_mid_income, death_rate_per_100000_by_upper_mid_income, s=10, c='r', label='Upper Middle Income')\n",
    "ax1.scatter(year_by_low_mid_income, death_rate_per_100000_by_low_mid_income, s=10, c='g', label='Low Middle Income')\n",
    "plt.legend(loc='upper left')\n",
    "plt.show()"
   ]
  },
  {
   "attachments": {},
   "cell_type": "markdown",
   "metadata": {},
   "source": [
    "### Data Analysis on Sex"
   ]
  },
  {
   "cell_type": "code",
   "execution_count": 1222,
   "metadata": {},
   "outputs": [
    {
     "data": {
      "text/html": [
       "<div>\n",
       "<style scoped>\n",
       "    .dataframe tbody tr th:only-of-type {\n",
       "        vertical-align: middle;\n",
       "    }\n",
       "\n",
       "    .dataframe tbody tr th {\n",
       "        vertical-align: top;\n",
       "    }\n",
       "\n",
       "    .dataframe thead th {\n",
       "        text-align: right;\n",
       "    }\n",
       "</style>\n",
       "<table border=\"1\" class=\"dataframe\">\n",
       "  <thead>\n",
       "    <tr style=\"text-align: right;\">\n",
       "      <th></th>\n",
       "      <th>count</th>\n",
       "      <th>mean</th>\n",
       "      <th>std</th>\n",
       "      <th>min</th>\n",
       "      <th>25%</th>\n",
       "      <th>50%</th>\n",
       "      <th>75%</th>\n",
       "      <th>max</th>\n",
       "    </tr>\n",
       "    <tr>\n",
       "      <th>sex</th>\n",
       "      <th></th>\n",
       "      <th></th>\n",
       "      <th></th>\n",
       "      <th></th>\n",
       "      <th></th>\n",
       "      <th></th>\n",
       "      <th></th>\n",
       "      <th></th>\n",
       "    </tr>\n",
       "  </thead>\n",
       "  <tbody>\n",
       "    <tr>\n",
       "      <th>Female</th>\n",
       "      <td>57495.0</td>\n",
       "      <td>499.593275</td>\n",
       "      <td>1269.409402</td>\n",
       "      <td>0.0</td>\n",
       "      <td>3.114258</td>\n",
       "      <td>38.030872</td>\n",
       "      <td>354.089993</td>\n",
       "      <td>22333.33333</td>\n",
       "    </tr>\n",
       "    <tr>\n",
       "      <th>Male</th>\n",
       "      <td>60941.0</td>\n",
       "      <td>674.752732</td>\n",
       "      <td>1460.608811</td>\n",
       "      <td>0.0</td>\n",
       "      <td>6.956038</td>\n",
       "      <td>103.960396</td>\n",
       "      <td>633.888048</td>\n",
       "      <td>26000.00000</td>\n",
       "    </tr>\n",
       "  </tbody>\n",
       "</table>\n",
       "</div>"
      ],
      "text/plain": [
       "          count        mean          std  min       25%         50%  \\\n",
       "sex                                                                   \n",
       "Female  57495.0  499.593275  1269.409402  0.0  3.114258   38.030872   \n",
       "Male    60941.0  674.752732  1460.608811  0.0  6.956038  103.960396   \n",
       "\n",
       "               75%          max  \n",
       "sex                              \n",
       "Female  354.089993  22333.33333  \n",
       "Male    633.888048  26000.00000  "
      ]
     },
     "execution_count": 1222,
     "metadata": {},
     "output_type": "execute_result"
    }
   ],
   "source": [
    "# Group data by income_grouping\n",
    "ihd_with_ig_grp_sex = ihd_with_ig_df.groupby(['sex']) \n",
    "\n",
    "# Display summary statistics of 'death_rate_per_100000' for each income group   \n",
    "ihd_with_ig_grp_sex['death_rate_per_100000'].describe()  "
   ]
  },
  {
   "cell_type": "code",
   "execution_count": 1223,
   "metadata": {},
   "outputs": [],
   "source": [
    "# Group the records by Male, then aggregate the records by Year\n",
    "ihd_with_ig_grp_male_and_year = groupByIncomeGroupingAndSex(ihd_with_ig_grp_sex, 'Male')\n",
    "\n",
    "year_by_male = ihd_with_ig_grp_male_and_year['year']\n",
    "death_rate_per_100000_by_male = ihd_with_ig_grp_male_and_year['death_rate_per_100000']"
   ]
  },
  {
   "cell_type": "code",
   "execution_count": 1224,
   "metadata": {},
   "outputs": [],
   "source": [
    "# Group the records by Female, then aggregate the records by Year\n",
    "ihd_with_ig_grp_female_and_year = groupByIncomeGroupingAndSex(ihd_with_ig_grp_sex, 'Female')\n",
    "\n",
    "year_by_female = ihd_with_ig_grp_female_and_year['year']\n",
    "death_rate_per_100000_by_female = ihd_with_ig_grp_female_and_year['death_rate_per_100000']"
   ]
  },
  {
   "cell_type": "code",
   "execution_count": 1225,
   "metadata": {},
   "outputs": [
    {
     "data": {
      "image/png": "[encoded data removed]",
      "text/plain": [
       "<Figure size 1000x600 with 1 Axes>"
      ]
     },
     "metadata": {},
     "output_type": "display_data"
    }
   ],
   "source": [
    "# Plot the graph of Death Rate per 100000 for each Year based on Sex\n",
    "fig = plt.figure(figsize=(10, 6))\n",
    "ax1 = fig.add_subplot(111)\n",
    "ax1.set_xmargin(0)\n",
    "ax1.set_ymargin(0)\n",
    "ax1.set_xlabel(\"Year\", fontdict={'weight':'bold'})\n",
    "ax1.set_ylabel(\"Death Rate per 100,000\", fontdict={'weight':'bold'})\n",
    "ax1.set_title(\"Death Rate per 100000 from Year 1965-2019 by Sex\", fontdict={'size':'large', 'weight':'bold'})\n",
    "\n",
    "ax1.scatter(year_by_male, death_rate_per_100000_by_male, s=10, c='b', label='Male')\n",
    "ax1.scatter(year_by_female, death_rate_per_100000_by_female, s=10, c='r', label='Female')\n",
    "plt.legend(loc='upper left')\n",
    "plt.show()"
   ]
  },
  {
   "attachments": {},
   "cell_type": "markdown",
   "metadata": {},
   "source": [
    "### Data Analysis on Age Group"
   ]
  },
  {
   "cell_type": "code",
   "execution_count": 1226,
   "metadata": {},
   "outputs": [
    {
     "data": {
      "text/html": [
       "<div>\n",
       "<style scoped>\n",
       "    .dataframe tbody tr th:only-of-type {\n",
       "        vertical-align: middle;\n",
       "    }\n",
       "\n",
       "    .dataframe tbody tr th {\n",
       "        vertical-align: top;\n",
       "    }\n",
       "\n",
       "    .dataframe thead th {\n",
       "        text-align: right;\n",
       "    }\n",
       "</style>\n",
       "<table border=\"1\" class=\"dataframe\">\n",
       "  <thead>\n",
       "    <tr style=\"text-align: right;\">\n",
       "      <th></th>\n",
       "      <th>count</th>\n",
       "      <th>mean</th>\n",
       "      <th>std</th>\n",
       "      <th>min</th>\n",
       "      <th>25%</th>\n",
       "      <th>50%</th>\n",
       "      <th>75%</th>\n",
       "      <th>max</th>\n",
       "    </tr>\n",
       "    <tr>\n",
       "      <th>age_group</th>\n",
       "      <th></th>\n",
       "      <th></th>\n",
       "      <th></th>\n",
       "      <th></th>\n",
       "      <th></th>\n",
       "      <th></th>\n",
       "      <th></th>\n",
       "      <th></th>\n",
       "    </tr>\n",
       "  </thead>\n",
       "  <tbody>\n",
       "    <tr>\n",
       "      <th>Adults</th>\n",
       "      <td>60797.0</td>\n",
       "      <td>85.845599</td>\n",
       "      <td>152.748290</td>\n",
       "      <td>0.0</td>\n",
       "      <td>5.820854</td>\n",
       "      <td>25.274098</td>\n",
       "      <td>94.481949</td>\n",
       "      <td>1711.553829</td>\n",
       "    </tr>\n",
       "    <tr>\n",
       "      <th>Children</th>\n",
       "      <td>7056.0</td>\n",
       "      <td>1.534775</td>\n",
       "      <td>8.196260</td>\n",
       "      <td>0.0</td>\n",
       "      <td>0.113150</td>\n",
       "      <td>0.303107</td>\n",
       "      <td>0.852576</td>\n",
       "      <td>420.609884</td>\n",
       "    </tr>\n",
       "    <tr>\n",
       "      <th>Seniors</th>\n",
       "      <td>41159.0</td>\n",
       "      <td>1569.567071</td>\n",
       "      <td>1980.799974</td>\n",
       "      <td>0.0</td>\n",
       "      <td>372.407542</td>\n",
       "      <td>868.928057</td>\n",
       "      <td>1943.845816</td>\n",
       "      <td>26000.000000</td>\n",
       "    </tr>\n",
       "    <tr>\n",
       "      <th>Youth</th>\n",
       "      <td>9424.0</td>\n",
       "      <td>1.318576</td>\n",
       "      <td>1.861419</td>\n",
       "      <td>0.0</td>\n",
       "      <td>0.365452</td>\n",
       "      <td>0.775607</td>\n",
       "      <td>1.635553</td>\n",
       "      <td>60.168472</td>\n",
       "    </tr>\n",
       "  </tbody>\n",
       "</table>\n",
       "</div>"
      ],
      "text/plain": [
       "             count         mean          std  min         25%         50%  \\\n",
       "age_group                                                                   \n",
       "Adults     60797.0    85.845599   152.748290  0.0    5.820854   25.274098   \n",
       "Children    7056.0     1.534775     8.196260  0.0    0.113150    0.303107   \n",
       "Seniors    41159.0  1569.567071  1980.799974  0.0  372.407542  868.928057   \n",
       "Youth       9424.0     1.318576     1.861419  0.0    0.365452    0.775607   \n",
       "\n",
       "                   75%           max  \n",
       "age_group                             \n",
       "Adults       94.481949   1711.553829  \n",
       "Children      0.852576    420.609884  \n",
       "Seniors    1943.845816  26000.000000  \n",
       "Youth         1.635553     60.168472  "
      ]
     },
     "execution_count": 1226,
     "metadata": {},
     "output_type": "execute_result"
    }
   ],
   "source": [
    "# Regroup the category of the previous age group\n",
    "# Reference for age grouping: https://www.statcan.gc.ca/en/concepts/definitions/age2\n",
    "\n",
    "ihd_with_ig_df['age_group'] = np.where(ihd_with_ig_df['age_group'] == '[0]', 'Children', ihd_with_ig_df['age_group'])\n",
    "ihd_with_ig_df['age_group'] = np.where(ihd_with_ig_df['age_group'] == '[1-4]', 'Children', ihd_with_ig_df['age_group'])\n",
    "ihd_with_ig_df['age_group'] = np.where(ihd_with_ig_df['age_group'] == '[5-9]', 'Children', ihd_with_ig_df['age_group'])\n",
    "ihd_with_ig_df['age_group'] = np.where(ihd_with_ig_df['age_group'] == '[10-14]', 'Children', ihd_with_ig_df['age_group'])\n",
    "\n",
    "ihd_with_ig_df['age_group'] = np.where(ihd_with_ig_df['age_group'] == '[15-19]', 'Youth', ihd_with_ig_df['age_group'])\n",
    "ihd_with_ig_df['age_group'] = np.where(ihd_with_ig_df['age_group'] == '[20-24]', 'Youth', ihd_with_ig_df['age_group'])\n",
    "\n",
    "ihd_with_ig_df['age_group'] = np.where(ihd_with_ig_df['age_group'] == '[25-29]', 'Adults', ihd_with_ig_df['age_group'])\n",
    "ihd_with_ig_df['age_group'] = np.where(ihd_with_ig_df['age_group'] == '[30-34]', 'Adults', ihd_with_ig_df['age_group'])\n",
    "ihd_with_ig_df['age_group'] = np.where(ihd_with_ig_df['age_group'] == '[35-39]', 'Adults', ihd_with_ig_df['age_group'])\n",
    "ihd_with_ig_df['age_group'] = np.where(ihd_with_ig_df['age_group'] == '[40-44]', 'Adults', ihd_with_ig_df['age_group'])\n",
    "ihd_with_ig_df['age_group'] = np.where(ihd_with_ig_df['age_group'] == '[45-49]', 'Adults', ihd_with_ig_df['age_group'])\n",
    "ihd_with_ig_df['age_group'] = np.where(ihd_with_ig_df['age_group'] == '[50-54]', 'Adults', ihd_with_ig_df['age_group'])\n",
    "ihd_with_ig_df['age_group'] = np.where(ihd_with_ig_df['age_group'] == '[55-59]', 'Adults', ihd_with_ig_df['age_group'])\n",
    "ihd_with_ig_df['age_group'] = np.where(ihd_with_ig_df['age_group'] == '[60-64]', 'Adults', ihd_with_ig_df['age_group'])\n",
    "\n",
    "ihd_with_ig_df['age_group'] = np.where(ihd_with_ig_df['age_group'] == '[65-69]', 'Seniors', ihd_with_ig_df['age_group'])\n",
    "ihd_with_ig_df['age_group'] = np.where(ihd_with_ig_df['age_group'] == '[70-74]', 'Seniors', ihd_with_ig_df['age_group'])\n",
    "ihd_with_ig_df['age_group'] = np.where(ihd_with_ig_df['age_group'] == '[75-79]', 'Seniors', ihd_with_ig_df['age_group'])\n",
    "ihd_with_ig_df['age_group'] = np.where(ihd_with_ig_df['age_group'] == '[80-84]', 'Seniors', ihd_with_ig_df['age_group'])\n",
    "ihd_with_ig_df['age_group'] = np.where(ihd_with_ig_df['age_group'] == '[85+]', 'Seniors', ihd_with_ig_df['age_group'])\n",
    "\n",
    "\n",
    "# Group data by income_grouping\n",
    "ihd_with_ig_df.groupby(['age_group'])['death_rate_per_100000'].describe()"
   ]
  },
  {
   "attachments": {},
   "cell_type": "markdown",
   "metadata": {},
   "source": [
    "### Logistic Regression\n",
    "Get the probability that Ishaemic Heart Disease is the cause of death for each income group \n",
    "\n",
    "##### Data Preparation: Converting Categorical Features"
   ]
  },
  {
   "cell_type": "code",
   "execution_count": 1227,
   "metadata": {},
   "outputs": [
    {
     "name": "stdout",
     "output_type": "stream",
     "text": [
      "<class 'pandas.core.frame.DataFrame'>\n",
      "Int64Index: 118436 entries, 0 to 118435\n",
      "Data columns (total 8 columns):\n",
      " #   Column                 Non-Null Count   Dtype  \n",
      "---  ------                 --------------   -----  \n",
      " 0   country_code           118436 non-null  object \n",
      " 1   country_name           118436 non-null  object \n",
      " 2   year                   118436 non-null  int64  \n",
      " 3   sex                    118436 non-null  object \n",
      " 4   age_group              118436 non-null  object \n",
      " 5   num_of_death           118436 non-null  float64\n",
      " 6   death_rate_per_100000  118436 non-null  float64\n",
      " 7   income_grouping        118436 non-null  object \n",
      "dtypes: float64(2), int64(1), object(5)\n",
      "memory usage: 8.1+ MB\n"
     ]
    }
   ],
   "source": [
    "# Check the data types of the fields\n",
    "ihd_with_ig_df.info()"
   ]
  },
  {
   "cell_type": "code",
   "execution_count": 1228,
   "metadata": {},
   "outputs": [
    {
     "data": {
      "text/html": [
       "<div>\n",
       "<style scoped>\n",
       "    .dataframe tbody tr th:only-of-type {\n",
       "        vertical-align: middle;\n",
       "    }\n",
       "\n",
       "    .dataframe tbody tr th {\n",
       "        vertical-align: top;\n",
       "    }\n",
       "\n",
       "    .dataframe thead th {\n",
       "        text-align: right;\n",
       "    }\n",
       "</style>\n",
       "<table border=\"1\" class=\"dataframe\">\n",
       "  <thead>\n",
       "    <tr style=\"text-align: right;\">\n",
       "      <th></th>\n",
       "      <th>num_of_death</th>\n",
       "      <th>male_gender</th>\n",
       "      <th>adults</th>\n",
       "      <th>children</th>\n",
       "      <th>seniors</th>\n",
       "      <th>youth</th>\n",
       "      <th>high_income</th>\n",
       "      <th>low_middle_income</th>\n",
       "      <th>upper_middle_income</th>\n",
       "    </tr>\n",
       "  </thead>\n",
       "  <tbody>\n",
       "    <tr>\n",
       "      <th>0</th>\n",
       "      <td>1.0</td>\n",
       "      <td>1</td>\n",
       "      <td>0</td>\n",
       "      <td>0</td>\n",
       "      <td>0</td>\n",
       "      <td>1</td>\n",
       "      <td>0</td>\n",
       "      <td>0</td>\n",
       "      <td>1</td>\n",
       "    </tr>\n",
       "    <tr>\n",
       "      <th>1</th>\n",
       "      <td>1.0</td>\n",
       "      <td>1</td>\n",
       "      <td>0</td>\n",
       "      <td>0</td>\n",
       "      <td>0</td>\n",
       "      <td>1</td>\n",
       "      <td>0</td>\n",
       "      <td>0</td>\n",
       "      <td>1</td>\n",
       "    </tr>\n",
       "    <tr>\n",
       "      <th>2</th>\n",
       "      <td>6.0</td>\n",
       "      <td>1</td>\n",
       "      <td>1</td>\n",
       "      <td>0</td>\n",
       "      <td>0</td>\n",
       "      <td>0</td>\n",
       "      <td>0</td>\n",
       "      <td>0</td>\n",
       "      <td>1</td>\n",
       "    </tr>\n",
       "    <tr>\n",
       "      <th>3</th>\n",
       "      <td>7.0</td>\n",
       "      <td>1</td>\n",
       "      <td>1</td>\n",
       "      <td>0</td>\n",
       "      <td>0</td>\n",
       "      <td>0</td>\n",
       "      <td>0</td>\n",
       "      <td>0</td>\n",
       "      <td>1</td>\n",
       "    </tr>\n",
       "    <tr>\n",
       "      <th>4</th>\n",
       "      <td>5.0</td>\n",
       "      <td>1</td>\n",
       "      <td>1</td>\n",
       "      <td>0</td>\n",
       "      <td>0</td>\n",
       "      <td>0</td>\n",
       "      <td>0</td>\n",
       "      <td>0</td>\n",
       "      <td>1</td>\n",
       "    </tr>\n",
       "  </tbody>\n",
       "</table>\n",
       "</div>"
      ],
      "text/plain": [
       "   num_of_death  male_gender  adults  children  seniors  youth  high_income  \\\n",
       "0           1.0            1       0         0        0      1            0   \n",
       "1           1.0            1       0         0        0      1            0   \n",
       "2           6.0            1       1         0        0      0            0   \n",
       "3           7.0            1       1         0        0      0            0   \n",
       "4           5.0            1       1         0        0      0            0   \n",
       "\n",
       "   low_middle_income  upper_middle_income  \n",
       "0                  0                    1  \n",
       "1                  0                    1  \n",
       "2                  0                    1  \n",
       "3                  0                    1  \n",
       "4                  0                    1  "
      ]
     },
     "execution_count": 1228,
     "metadata": {},
     "output_type": "execute_result"
    }
   ],
   "source": [
    "# Convert income grouping to dummy variables\n",
    "income_grouping_df = pd.get_dummies(ihd_with_ig_df['income_grouping'])\n",
    "income_grouping_df.columns = ['high_income', 'low_middle_income', 'upper_middle_income']\n",
    "\n",
    "# Convert sex to dummy variables\n",
    "male_gender_df = pd.get_dummies(ihd_with_ig_df['sex'], drop_first=True)\n",
    "male_gender_df.columns = ['male_gender']\n",
    "\n",
    "# Convert age grouping to dummy variables\n",
    "age_grouping_df = pd.get_dummies(ihd_with_ig_df['age_group'])\n",
    "age_grouping_df.columns = ['adults', 'children', 'seniors', 'youth']\n",
    "\n",
    "# Drop sex, age grouping and income grouping, and other unnecessary columns\n",
    "ihd_with_ig_df_dummy = ihd_with_ig_df.copy()\n",
    "ihd_with_ig_df_dummy.drop(['country_code', 'country_name', 'sex', 'income_grouping', 'year', 'age_group', 'death_rate_per_100000'], axis=1, inplace=True)\n",
    "\n",
    "# Add the dummy columns\n",
    "ihd_with_ig_df_dummy = pd.concat([ihd_with_ig_df_dummy, male_gender_df, age_grouping_df, income_grouping_df], axis=1, verify_integrity=True)\n",
    "ihd_with_ig_df_dummy.head(5)"
   ]
  },
  {
   "cell_type": "code",
   "execution_count": 1229,
   "metadata": {},
   "outputs": [
    {
     "data": {
      "text/plain": [
       "<AxesSubplot: >"
      ]
     },
     "execution_count": 1229,
     "metadata": {},
     "output_type": "execute_result"
    },
    {
     "data": {
      "image/png": "[encoded data removed]",
      "text/plain": [
       "<Figure size 640x480 with 2 Axes>"
      ]
     },
     "metadata": {},
     "output_type": "display_data"
    }
   ],
   "source": [
    "# Check independence between features (Dark -> Data are more correlated)\n",
    "# NOTE: In Logistic Regression, the features are assumed to be independent from one another\n",
    "sb.heatmap(ihd_with_ig_df_dummy.corr())"
   ]
  },
  {
   "attachments": {},
   "cell_type": "markdown",
   "metadata": {},
   "source": [
    "### Method Declaration"
   ]
  },
  {
   "cell_type": "code",
   "execution_count": 1230,
   "metadata": {},
   "outputs": [],
   "source": [
    "def evaluateModel(LogReg, x_train, x_test, y_train, y_test):\n",
    "    y_pred = LogReg.predict(x_test)\n",
    "    print(f\"Score: {LogReg.score(x_test, y_test)}\\n\")\n",
    "\n",
    "    # Classification report without cross-validation\n",
    "    print(\"Classification Report\")\n",
    "    print(classification_report(y_test, y_pred))\n",
    "\n",
    "    # k-fold cross-validation and confusion matrices\n",
    "    y_train_pred = cross_val_predict(LogReg, x_train, y_train, cv=5)\n",
    "    print(\"Confusion Matrix\")\n",
    "    print(confusion_matrix(y_train, y_train_pred), \"\\n\")\n",
    "\n",
    "    print(f\"Precision Score: {precision_score(y_train, y_train_pred)}\")\n",
    "\n",
    "    "
   ]
  },
  {
   "attachments": {},
   "cell_type": "markdown",
   "metadata": {},
   "source": [
    "### Model Creation for High Income Group\n",
    "##### Generate Train, Test, Split Datasets. Build the model."
   ]
  },
  {
   "cell_type": "code",
   "execution_count": 1231,
   "metadata": {},
   "outputs": [
    {
     "name": "stdout",
     "output_type": "stream",
     "text": [
      "Train:  (82905, 6) (82905,)\n",
      "Test:  (35531, 6) (35531,)\n"
     ]
    },
    {
     "data": {
      "text/html": [
       "<style>#sk-container-id-34 {color: black;background-color: white;}#sk-container-id-34 pre{padding: 0;}#sk-container-id-34 div.sk-toggleable {background-color: white;}#sk-container-id-34 label.sk-toggleable__label {cursor: pointer;display: block;width: 100%;margin-bottom: 0;padding: 0.3em;box-sizing: border-box;text-align: center;}#sk-container-id-34 label.sk-toggleable__label-arrow:before {content: \"▸\";float: left;margin-right: 0.25em;color: #696969;}#sk-container-id-34 label.sk-toggleable__label-arrow:hover:before {color: black;}#sk-container-id-34 div.sk-estimator:hover label.sk-toggleable__label-arrow:before {color: black;}#sk-container-id-34 div.sk-toggleable__content {max-height: 0;max-width: 0;overflow: hidden;text-align: left;background-color: #f0f8ff;}#sk-container-id-34 div.sk-toggleable__content pre {margin: 0.2em;color: black;border-radius: 0.25em;background-color: #f0f8ff;}#sk-container-id-34 input.sk-toggleable__control:checked~div.sk-toggleable__content {max-height: 200px;max-width: 100%;overflow: auto;}#sk-container-id-34 input.sk-toggleable__control:checked~label.sk-toggleable__label-arrow:before {content: \"▾\";}#sk-container-id-34 div.sk-estimator input.sk-toggleable__control:checked~label.sk-toggleable__label {background-color: #d4ebff;}#sk-container-id-34 div.sk-label input.sk-toggleable__control:checked~label.sk-toggleable__label {background-color: #d4ebff;}#sk-container-id-34 input.sk-hidden--visually {border: 0;clip: rect(1px 1px 1px 1px);clip: rect(1px, 1px, 1px, 1px);height: 1px;margin: -1px;overflow: hidden;padding: 0;position: absolute;width: 1px;}#sk-container-id-34 div.sk-estimator {font-family: monospace;background-color: #f0f8ff;border: 1px dotted black;border-radius: 0.25em;box-sizing: border-box;margin-bottom: 0.5em;}#sk-container-id-34 div.sk-estimator:hover {background-color: #d4ebff;}#sk-container-id-34 div.sk-parallel-item::after {content: \"\";width: 100%;border-bottom: 1px solid gray;flex-grow: 1;}#sk-container-id-34 div.sk-label:hover label.sk-toggleable__label {background-color: #d4ebff;}#sk-container-id-34 div.sk-serial::before {content: \"\";position: absolute;border-left: 1px solid gray;box-sizing: border-box;top: 0;bottom: 0;left: 50%;z-index: 0;}#sk-container-id-34 div.sk-serial {display: flex;flex-direction: column;align-items: center;background-color: white;padding-right: 0.2em;padding-left: 0.2em;position: relative;}#sk-container-id-34 div.sk-item {position: relative;z-index: 1;}#sk-container-id-34 div.sk-parallel {display: flex;align-items: stretch;justify-content: center;background-color: white;position: relative;}#sk-container-id-34 div.sk-item::before, #sk-container-id-34 div.sk-parallel-item::before {content: \"\";position: absolute;border-left: 1px solid gray;box-sizing: border-box;top: 0;bottom: 0;left: 50%;z-index: -1;}#sk-container-id-34 div.sk-parallel-item {display: flex;flex-direction: column;z-index: 1;position: relative;background-color: white;}#sk-container-id-34 div.sk-parallel-item:first-child::after {align-self: flex-end;width: 50%;}#sk-container-id-34 div.sk-parallel-item:last-child::after {align-self: flex-start;width: 50%;}#sk-container-id-34 div.sk-parallel-item:only-child::after {width: 0;}#sk-container-id-34 div.sk-dashed-wrapped {border: 1px dashed gray;margin: 0 0.4em 0.5em 0.4em;box-sizing: border-box;padding-bottom: 0.4em;background-color: white;}#sk-container-id-34 div.sk-label label {font-family: monospace;font-weight: bold;display: inline-block;line-height: 1.2em;}#sk-container-id-34 div.sk-label-container {text-align: center;}#sk-container-id-34 div.sk-container {/* jupyter's `normalize.less` sets `[hidden] { display: none; }` but bootstrap.min.css set `[hidden] { display: none !important; }` so we also need the `!important` here to be able to override the default hidden behavior on the sphinx rendered scikit-learn.org. See: https://github.com/scikit-learn/scikit-learn/issues/21755 */display: inline-block !important;position: relative;}#sk-container-id-34 div.sk-text-repr-fallback {display: none;}</style><div id=\"sk-container-id-34\" class=\"sk-top-container\"><div class=\"sk-text-repr-fallback\"><pre>LogisticRegression()</pre><b>In a Jupyter environment, please rerun this cell to show the HTML representation or trust the notebook. <br />On GitHub, the HTML representation is unable to render, please try loading this page with nbviewer.org.</b></div><div class=\"sk-container\" hidden><div class=\"sk-item\"><div class=\"sk-estimator sk-toggleable\"><input class=\"sk-toggleable__control sk-hidden--visually\" id=\"sk-estimator-id-34\" type=\"checkbox\" checked><label for=\"sk-estimator-id-34\" class=\"sk-toggleable__label sk-toggleable__label-arrow\">LogisticRegression</label><div class=\"sk-toggleable__content\"><pre>LogisticRegression()</pre></div></div></div></div></div>"
      ],
      "text/plain": [
       "LogisticRegression()"
      ]
     },
     "execution_count": 1231,
     "metadata": {},
     "output_type": "execute_result"
    }
   ],
   "source": [
    "# Split data into training data sets and test data sets\n",
    "x_train, x_test, y_train, y_test = train_test_split(ihd_with_ig_df_dummy.drop(['high_income', 'upper_middle_income', 'low_middle_income'], axis=1), ihd_with_ig_df_dummy['high_income'], test_size=0.3, random_state=0)\n",
    "\n",
    "print(\"Train: \", x_train.shape, y_train.shape)\n",
    "print(\"Test: \", x_test.shape, y_test.shape)\n",
    "\n",
    "LogReg = LogisticRegression(solver='lbfgs')\n",
    "LogReg.fit(x_train, y_train)"
   ]
  },
  {
   "attachments": {},
   "cell_type": "markdown",
   "metadata": {},
   "source": [
    "##### Model Evaluation"
   ]
  },
  {
   "cell_type": "code",
   "execution_count": 1232,
   "metadata": {},
   "outputs": [
    {
     "name": "stdout",
     "output_type": "stream",
     "text": [
      "Score: 0.5494357040330978\n",
      "\n",
      "Classification Report\n",
      "              precision    recall  f1-score   support\n",
      "\n",
      "           0       0.55      0.17      0.26     16551\n",
      "           1       0.55      0.88      0.68     18980\n",
      "\n",
      "    accuracy                           0.55     35531\n",
      "   macro avg       0.55      0.53      0.47     35531\n",
      "weighted avg       0.55      0.55      0.48     35531\n",
      "\n",
      "Confusion Matrix\n",
      "[[ 1268 37397]\n",
      " [  998 43242]] \n",
      "\n",
      "Precision Score: 0.5362417688711417\n"
     ]
    }
   ],
   "source": [
    "evaluateModel(LogReg, x_train, x_test, y_train, y_test)"
   ]
  },
  {
   "attachments": {},
   "cell_type": "markdown",
   "metadata": {},
   "source": [
    "### Model Creation for Upper Middle Income Group\n",
    "##### Generate Train and Test Datasets. Build the model."
   ]
  },
  {
   "cell_type": "code",
   "execution_count": 1233,
   "metadata": {},
   "outputs": [
    {
     "name": "stdout",
     "output_type": "stream",
     "text": [
      "Train:  (82905, 6) (82905,)\n",
      "Test:  (35531, 6) (35531,)\n"
     ]
    },
    {
     "data": {
      "text/html": [
       "<style>#sk-container-id-35 {color: black;background-color: white;}#sk-container-id-35 pre{padding: 0;}#sk-container-id-35 div.sk-toggleable {background-color: white;}#sk-container-id-35 label.sk-toggleable__label {cursor: pointer;display: block;width: 100%;margin-bottom: 0;padding: 0.3em;box-sizing: border-box;text-align: center;}#sk-container-id-35 label.sk-toggleable__label-arrow:before {content: \"▸\";float: left;margin-right: 0.25em;color: #696969;}#sk-container-id-35 label.sk-toggleable__label-arrow:hover:before {color: black;}#sk-container-id-35 div.sk-estimator:hover label.sk-toggleable__label-arrow:before {color: black;}#sk-container-id-35 div.sk-toggleable__content {max-height: 0;max-width: 0;overflow: hidden;text-align: left;background-color: #f0f8ff;}#sk-container-id-35 div.sk-toggleable__content pre {margin: 0.2em;color: black;border-radius: 0.25em;background-color: #f0f8ff;}#sk-container-id-35 input.sk-toggleable__control:checked~div.sk-toggleable__content {max-height: 200px;max-width: 100%;overflow: auto;}#sk-container-id-35 input.sk-toggleable__control:checked~label.sk-toggleable__label-arrow:before {content: \"▾\";}#sk-container-id-35 div.sk-estimator input.sk-toggleable__control:checked~label.sk-toggleable__label {background-color: #d4ebff;}#sk-container-id-35 div.sk-label input.sk-toggleable__control:checked~label.sk-toggleable__label {background-color: #d4ebff;}#sk-container-id-35 input.sk-hidden--visually {border: 0;clip: rect(1px 1px 1px 1px);clip: rect(1px, 1px, 1px, 1px);height: 1px;margin: -1px;overflow: hidden;padding: 0;position: absolute;width: 1px;}#sk-container-id-35 div.sk-estimator {font-family: monospace;background-color: #f0f8ff;border: 1px dotted black;border-radius: 0.25em;box-sizing: border-box;margin-bottom: 0.5em;}#sk-container-id-35 div.sk-estimator:hover {background-color: #d4ebff;}#sk-container-id-35 div.sk-parallel-item::after {content: \"\";width: 100%;border-bottom: 1px solid gray;flex-grow: 1;}#sk-container-id-35 div.sk-label:hover label.sk-toggleable__label {background-color: #d4ebff;}#sk-container-id-35 div.sk-serial::before {content: \"\";position: absolute;border-left: 1px solid gray;box-sizing: border-box;top: 0;bottom: 0;left: 50%;z-index: 0;}#sk-container-id-35 div.sk-serial {display: flex;flex-direction: column;align-items: center;background-color: white;padding-right: 0.2em;padding-left: 0.2em;position: relative;}#sk-container-id-35 div.sk-item {position: relative;z-index: 1;}#sk-container-id-35 div.sk-parallel {display: flex;align-items: stretch;justify-content: center;background-color: white;position: relative;}#sk-container-id-35 div.sk-item::before, #sk-container-id-35 div.sk-parallel-item::before {content: \"\";position: absolute;border-left: 1px solid gray;box-sizing: border-box;top: 0;bottom: 0;left: 50%;z-index: -1;}#sk-container-id-35 div.sk-parallel-item {display: flex;flex-direction: column;z-index: 1;position: relative;background-color: white;}#sk-container-id-35 div.sk-parallel-item:first-child::after {align-self: flex-end;width: 50%;}#sk-container-id-35 div.sk-parallel-item:last-child::after {align-self: flex-start;width: 50%;}#sk-container-id-35 div.sk-parallel-item:only-child::after {width: 0;}#sk-container-id-35 div.sk-dashed-wrapped {border: 1px dashed gray;margin: 0 0.4em 0.5em 0.4em;box-sizing: border-box;padding-bottom: 0.4em;background-color: white;}#sk-container-id-35 div.sk-label label {font-family: monospace;font-weight: bold;display: inline-block;line-height: 1.2em;}#sk-container-id-35 div.sk-label-container {text-align: center;}#sk-container-id-35 div.sk-container {/* jupyter's `normalize.less` sets `[hidden] { display: none; }` but bootstrap.min.css set `[hidden] { display: none !important; }` so we also need the `!important` here to be able to override the default hidden behavior on the sphinx rendered scikit-learn.org. See: https://github.com/scikit-learn/scikit-learn/issues/21755 */display: inline-block !important;position: relative;}#sk-container-id-35 div.sk-text-repr-fallback {display: none;}</style><div id=\"sk-container-id-35\" class=\"sk-top-container\"><div class=\"sk-text-repr-fallback\"><pre>LogisticRegression()</pre><b>In a Jupyter environment, please rerun this cell to show the HTML representation or trust the notebook. <br />On GitHub, the HTML representation is unable to render, please try loading this page with nbviewer.org.</b></div><div class=\"sk-container\" hidden><div class=\"sk-item\"><div class=\"sk-estimator sk-toggleable\"><input class=\"sk-toggleable__control sk-hidden--visually\" id=\"sk-estimator-id-35\" type=\"checkbox\" checked><label for=\"sk-estimator-id-35\" class=\"sk-toggleable__label sk-toggleable__label-arrow\">LogisticRegression</label><div class=\"sk-toggleable__content\"><pre>LogisticRegression()</pre></div></div></div></div></div>"
      ],
      "text/plain": [
       "LogisticRegression()"
      ]
     },
     "execution_count": 1233,
     "metadata": {},
     "output_type": "execute_result"
    }
   ],
   "source": [
    "# Split data into training data sets and test data sets\n",
    "x_train, x_test, y_train, y_test = train_test_split(ihd_with_ig_df_dummy.drop(['high_income', 'upper_middle_income', 'low_middle_income'], axis=1), ihd_with_ig_df_dummy['upper_middle_income'], test_size=0.3, random_state=0)\n",
    "\n",
    "print(\"Train: \", x_train.shape, y_train.shape)\n",
    "print(\"Test: \", x_test.shape, y_test.shape)\n",
    "\n",
    "LogReg = LogisticRegression(solver='lbfgs')\n",
    "LogReg.fit(x_train, y_train)"
   ]
  },
  {
   "attachments": {},
   "cell_type": "markdown",
   "metadata": {},
   "source": [
    "##### Model Evaluation"
   ]
  },
  {
   "cell_type": "code",
   "execution_count": 1234,
   "metadata": {},
   "outputs": [
    {
     "name": "stdout",
     "output_type": "stream",
     "text": [
      "Score: 0.6424249247136303\n",
      "\n",
      "Classification Report\n",
      "              precision    recall  f1-score   support\n",
      "\n",
      "           0       0.64      1.00      0.78     22826\n",
      "           1       0.00      0.00      0.00     12705\n",
      "\n",
      "    accuracy                           0.64     35531\n",
      "   macro avg       0.32      0.50      0.39     35531\n",
      "weighted avg       0.41      0.64      0.50     35531\n",
      "\n",
      "Confusion Matrix\n",
      "[[53000     0]\n",
      " [29905     0]] \n",
      "\n",
      "Precision Score: 0.0\n"
     ]
    }
   ],
   "source": [
    "evaluateModel(LogReg, x_train, x_test, y_train, y_test)"
   ]
  },
  {
   "attachments": {},
   "cell_type": "markdown",
   "metadata": {},
   "source": [
    "### Model Creation for Low Middle Income Group\n",
    "##### Generate Train and Test Datasets. Build the model."
   ]
  },
  {
   "cell_type": "code",
   "execution_count": 1235,
   "metadata": {},
   "outputs": [
    {
     "name": "stdout",
     "output_type": "stream",
     "text": [
      "Train:  (82905, 6) (82905,)\n",
      "Test:  (35531, 6) (35531,)\n"
     ]
    },
    {
     "data": {
      "text/html": [
       "<style>#sk-container-id-36 {color: black;background-color: white;}#sk-container-id-36 pre{padding: 0;}#sk-container-id-36 div.sk-toggleable {background-color: white;}#sk-container-id-36 label.sk-toggleable__label {cursor: pointer;display: block;width: 100%;margin-bottom: 0;padding: 0.3em;box-sizing: border-box;text-align: center;}#sk-container-id-36 label.sk-toggleable__label-arrow:before {content: \"▸\";float: left;margin-right: 0.25em;color: #696969;}#sk-container-id-36 label.sk-toggleable__label-arrow:hover:before {color: black;}#sk-container-id-36 div.sk-estimator:hover label.sk-toggleable__label-arrow:before {color: black;}#sk-container-id-36 div.sk-toggleable__content {max-height: 0;max-width: 0;overflow: hidden;text-align: left;background-color: #f0f8ff;}#sk-container-id-36 div.sk-toggleable__content pre {margin: 0.2em;color: black;border-radius: 0.25em;background-color: #f0f8ff;}#sk-container-id-36 input.sk-toggleable__control:checked~div.sk-toggleable__content {max-height: 200px;max-width: 100%;overflow: auto;}#sk-container-id-36 input.sk-toggleable__control:checked~label.sk-toggleable__label-arrow:before {content: \"▾\";}#sk-container-id-36 div.sk-estimator input.sk-toggleable__control:checked~label.sk-toggleable__label {background-color: #d4ebff;}#sk-container-id-36 div.sk-label input.sk-toggleable__control:checked~label.sk-toggleable__label {background-color: #d4ebff;}#sk-container-id-36 input.sk-hidden--visually {border: 0;clip: rect(1px 1px 1px 1px);clip: rect(1px, 1px, 1px, 1px);height: 1px;margin: -1px;overflow: hidden;padding: 0;position: absolute;width: 1px;}#sk-container-id-36 div.sk-estimator {font-family: monospace;background-color: #f0f8ff;border: 1px dotted black;border-radius: 0.25em;box-sizing: border-box;margin-bottom: 0.5em;}#sk-container-id-36 div.sk-estimator:hover {background-color: #d4ebff;}#sk-container-id-36 div.sk-parallel-item::after {content: \"\";width: 100%;border-bottom: 1px solid gray;flex-grow: 1;}#sk-container-id-36 div.sk-label:hover label.sk-toggleable__label {background-color: #d4ebff;}#sk-container-id-36 div.sk-serial::before {content: \"\";position: absolute;border-left: 1px solid gray;box-sizing: border-box;top: 0;bottom: 0;left: 50%;z-index: 0;}#sk-container-id-36 div.sk-serial {display: flex;flex-direction: column;align-items: center;background-color: white;padding-right: 0.2em;padding-left: 0.2em;position: relative;}#sk-container-id-36 div.sk-item {position: relative;z-index: 1;}#sk-container-id-36 div.sk-parallel {display: flex;align-items: stretch;justify-content: center;background-color: white;position: relative;}#sk-container-id-36 div.sk-item::before, #sk-container-id-36 div.sk-parallel-item::before {content: \"\";position: absolute;border-left: 1px solid gray;box-sizing: border-box;top: 0;bottom: 0;left: 50%;z-index: -1;}#sk-container-id-36 div.sk-parallel-item {display: flex;flex-direction: column;z-index: 1;position: relative;background-color: white;}#sk-container-id-36 div.sk-parallel-item:first-child::after {align-self: flex-end;width: 50%;}#sk-container-id-36 div.sk-parallel-item:last-child::after {align-self: flex-start;width: 50%;}#sk-container-id-36 div.sk-parallel-item:only-child::after {width: 0;}#sk-container-id-36 div.sk-dashed-wrapped {border: 1px dashed gray;margin: 0 0.4em 0.5em 0.4em;box-sizing: border-box;padding-bottom: 0.4em;background-color: white;}#sk-container-id-36 div.sk-label label {font-family: monospace;font-weight: bold;display: inline-block;line-height: 1.2em;}#sk-container-id-36 div.sk-label-container {text-align: center;}#sk-container-id-36 div.sk-container {/* jupyter's `normalize.less` sets `[hidden] { display: none; }` but bootstrap.min.css set `[hidden] { display: none !important; }` so we also need the `!important` here to be able to override the default hidden behavior on the sphinx rendered scikit-learn.org. See: https://github.com/scikit-learn/scikit-learn/issues/21755 */display: inline-block !important;position: relative;}#sk-container-id-36 div.sk-text-repr-fallback {display: none;}</style><div id=\"sk-container-id-36\" class=\"sk-top-container\"><div class=\"sk-text-repr-fallback\"><pre>LogisticRegression()</pre><b>In a Jupyter environment, please rerun this cell to show the HTML representation or trust the notebook. <br />On GitHub, the HTML representation is unable to render, please try loading this page with nbviewer.org.</b></div><div class=\"sk-container\" hidden><div class=\"sk-item\"><div class=\"sk-estimator sk-toggleable\"><input class=\"sk-toggleable__control sk-hidden--visually\" id=\"sk-estimator-id-36\" type=\"checkbox\" checked><label for=\"sk-estimator-id-36\" class=\"sk-toggleable__label sk-toggleable__label-arrow\">LogisticRegression</label><div class=\"sk-toggleable__content\"><pre>LogisticRegression()</pre></div></div></div></div></div>"
      ],
      "text/plain": [
       "LogisticRegression()"
      ]
     },
     "execution_count": 1235,
     "metadata": {},
     "output_type": "execute_result"
    }
   ],
   "source": [
    "# Split data into training data sets and test data sets\n",
    "x_train, x_test, y_train, y_test = train_test_split(ihd_with_ig_df_dummy.drop(['high_income', 'upper_middle_income', 'low_middle_income'], axis=1), ihd_with_ig_df_dummy['low_middle_income'], test_size=0.3, random_state=0)\n",
    "\n",
    "print(\"Train: \", x_train.shape, y_train.shape)\n",
    "print(\"Test: \", x_test.shape, y_test.shape)\n",
    "\n",
    "LogReg = LogisticRegression(solver='lbfgs')\n",
    "LogReg.fit(x_train, y_train)"
   ]
  },
  {
   "attachments": {},
   "cell_type": "markdown",
   "metadata": {},
   "source": [
    "##### Model Evaluation"
   ]
  },
  {
   "cell_type": "code",
   "execution_count": 1236,
   "metadata": {},
   "outputs": [
    {
     "name": "stdout",
     "output_type": "stream",
     "text": [
      "Score: 0.8917564943288959\n",
      "\n",
      "Classification Report\n",
      "              precision    recall  f1-score   support\n",
      "\n",
      "           0       0.89      1.00      0.94     31685\n",
      "           1       0.00      0.00      0.00      3846\n",
      "\n",
      "    accuracy                           0.89     35531\n",
      "   macro avg       0.45      0.50      0.47     35531\n",
      "weighted avg       0.80      0.89      0.84     35531\n",
      "\n",
      "Confusion Matrix\n",
      "[[74145     0]\n",
      " [ 8760     0]] \n",
      "\n",
      "Precision Score: 0.0\n"
     ]
    }
   ],
   "source": [
    "evaluateModel(LogReg, x_train, x_test, y_train, y_test)"
   ]
  },
  {
   "attachments": {},
   "cell_type": "markdown",
   "metadata": {},
   "source": [
    "### Make test prediction"
   ]
  }
 ],
 "metadata": {
  "kernelspec": {
   "display_name": "Python 3",
   "language": "python",
   "name": "python3"
  },
  "language_info": {
   "codemirror_mode": {
    "name": "ipython",
    "version": 3
   },
   "file_extension": ".py",
   "mimetype": "text/x-python",
   "name": "python",
   "nbconvert_exporter": "python",
   "pygments_lexer": "ipython3",
   "version": "3.10.7"
  },
  "orig_nbformat": 4,
  "vscode": {
   "interpreter": {
    "hash": "006ceec57082682d3b909e056014cfb3f67146c2ee1293d561029ad71ca64256"
   }
  }
 },
 "nbformat": 4,
 "nbformat_minor": 2
}
