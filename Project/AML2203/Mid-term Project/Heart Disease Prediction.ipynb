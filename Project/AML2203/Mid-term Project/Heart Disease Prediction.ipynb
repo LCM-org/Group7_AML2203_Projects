{
 "cells": [
  {
   "attachments": {},
   "cell_type": "markdown",
   "metadata": {},
   "source": [
    "## **Data Analysis on Ischaemic Heart Disease**"
   ]
  },
  {
   "attachments": {},
   "cell_type": "markdown",
   "metadata": {},
   "source": [
    "### Importing and Transforming Dataset"
   ]
  },
  {
   "cell_type": "code",
   "execution_count": 656,
   "metadata": {},
   "outputs": [],
   "source": [
    "import numpy as np\n",
    "import pandas as pd\n",
    "import matplotlib.pyplot as plt\n",
    "import seaborn as sb\n",
    "import category_encoders as ce\n",
    "\n",
    "from sklearn.linear_model import LogisticRegression\n",
    "from sklearn.model_selection import train_test_split\n",
    "from sklearn.metrics import classification_report\n",
    "from sklearn.metrics import confusion_matrix\n",
    "\n",
    "from imblearn.over_sampling import SMOTE\n",
    "\n",
    "import warnings\n",
    "warnings.filterwarnings(\"ignore\")\n",
    "\n",
    "from matplotlib import rcParams\n",
    "rcParams['figure.figsize'] = 5,4"
   ]
  },
  {
   "attachments": {},
   "cell_type": "markdown",
   "metadata": {},
   "source": [
    "The dataset was taken from <a href=\"https://www.kaggle.com/datasets/kamilpytlak/personal-key-indicators-of-heart-disease\">Personal Key Indicators</a> in Kaggle."
   ]
  },
  {
   "cell_type": "code",
   "execution_count": 657,
   "metadata": {},
   "outputs": [
    {
     "data": {
      "text/html": [
       "<div>\n",
       "<style scoped>\n",
       "    .dataframe tbody tr th:only-of-type {\n",
       "        vertical-align: middle;\n",
       "    }\n",
       "\n",
       "    .dataframe tbody tr th {\n",
       "        vertical-align: top;\n",
       "    }\n",
       "\n",
       "    .dataframe thead th {\n",
       "        text-align: right;\n",
       "    }\n",
       "</style>\n",
       "<table border=\"1\" class=\"dataframe\">\n",
       "  <thead>\n",
       "    <tr style=\"text-align: right;\">\n",
       "      <th></th>\n",
       "      <th>HeartDisease</th>\n",
       "      <th>BMI</th>\n",
       "      <th>Smoking</th>\n",
       "      <th>AlcoholDrinking</th>\n",
       "      <th>Stroke</th>\n",
       "      <th>PhysicalHealth</th>\n",
       "      <th>MentalHealth</th>\n",
       "      <th>DiffWalking</th>\n",
       "      <th>Sex</th>\n",
       "      <th>AgeCategory</th>\n",
       "      <th>Race</th>\n",
       "      <th>Diabetic</th>\n",
       "      <th>PhysicalActivity</th>\n",
       "      <th>GenHealth</th>\n",
       "      <th>SleepTime</th>\n",
       "      <th>Asthma</th>\n",
       "      <th>KidneyDisease</th>\n",
       "      <th>SkinCancer</th>\n",
       "    </tr>\n",
       "  </thead>\n",
       "  <tbody>\n",
       "    <tr>\n",
       "      <th>0</th>\n",
       "      <td>No</td>\n",
       "      <td>16.60</td>\n",
       "      <td>Yes</td>\n",
       "      <td>No</td>\n",
       "      <td>No</td>\n",
       "      <td>3.0</td>\n",
       "      <td>30.0</td>\n",
       "      <td>No</td>\n",
       "      <td>Female</td>\n",
       "      <td>55-59</td>\n",
       "      <td>White</td>\n",
       "      <td>Yes</td>\n",
       "      <td>Yes</td>\n",
       "      <td>Very good</td>\n",
       "      <td>5.0</td>\n",
       "      <td>Yes</td>\n",
       "      <td>No</td>\n",
       "      <td>Yes</td>\n",
       "    </tr>\n",
       "    <tr>\n",
       "      <th>1</th>\n",
       "      <td>No</td>\n",
       "      <td>20.34</td>\n",
       "      <td>No</td>\n",
       "      <td>No</td>\n",
       "      <td>Yes</td>\n",
       "      <td>0.0</td>\n",
       "      <td>0.0</td>\n",
       "      <td>No</td>\n",
       "      <td>Female</td>\n",
       "      <td>80 or older</td>\n",
       "      <td>White</td>\n",
       "      <td>No</td>\n",
       "      <td>Yes</td>\n",
       "      <td>Very good</td>\n",
       "      <td>7.0</td>\n",
       "      <td>No</td>\n",
       "      <td>No</td>\n",
       "      <td>No</td>\n",
       "    </tr>\n",
       "    <tr>\n",
       "      <th>2</th>\n",
       "      <td>No</td>\n",
       "      <td>26.58</td>\n",
       "      <td>Yes</td>\n",
       "      <td>No</td>\n",
       "      <td>No</td>\n",
       "      <td>20.0</td>\n",
       "      <td>30.0</td>\n",
       "      <td>No</td>\n",
       "      <td>Male</td>\n",
       "      <td>65-69</td>\n",
       "      <td>White</td>\n",
       "      <td>Yes</td>\n",
       "      <td>Yes</td>\n",
       "      <td>Fair</td>\n",
       "      <td>8.0</td>\n",
       "      <td>Yes</td>\n",
       "      <td>No</td>\n",
       "      <td>No</td>\n",
       "    </tr>\n",
       "    <tr>\n",
       "      <th>3</th>\n",
       "      <td>No</td>\n",
       "      <td>24.21</td>\n",
       "      <td>No</td>\n",
       "      <td>No</td>\n",
       "      <td>No</td>\n",
       "      <td>0.0</td>\n",
       "      <td>0.0</td>\n",
       "      <td>No</td>\n",
       "      <td>Female</td>\n",
       "      <td>75-79</td>\n",
       "      <td>White</td>\n",
       "      <td>No</td>\n",
       "      <td>No</td>\n",
       "      <td>Good</td>\n",
       "      <td>6.0</td>\n",
       "      <td>No</td>\n",
       "      <td>No</td>\n",
       "      <td>Yes</td>\n",
       "    </tr>\n",
       "    <tr>\n",
       "      <th>4</th>\n",
       "      <td>No</td>\n",
       "      <td>23.71</td>\n",
       "      <td>No</td>\n",
       "      <td>No</td>\n",
       "      <td>No</td>\n",
       "      <td>28.0</td>\n",
       "      <td>0.0</td>\n",
       "      <td>Yes</td>\n",
       "      <td>Female</td>\n",
       "      <td>40-44</td>\n",
       "      <td>White</td>\n",
       "      <td>No</td>\n",
       "      <td>Yes</td>\n",
       "      <td>Very good</td>\n",
       "      <td>8.0</td>\n",
       "      <td>No</td>\n",
       "      <td>No</td>\n",
       "      <td>No</td>\n",
       "    </tr>\n",
       "  </tbody>\n",
       "</table>\n",
       "</div>"
      ],
      "text/plain": [
       "  HeartDisease    BMI Smoking AlcoholDrinking Stroke  PhysicalHealth  \\\n",
       "0           No  16.60     Yes              No     No             3.0   \n",
       "1           No  20.34      No              No    Yes             0.0   \n",
       "2           No  26.58     Yes              No     No            20.0   \n",
       "3           No  24.21      No              No     No             0.0   \n",
       "4           No  23.71      No              No     No            28.0   \n",
       "\n",
       "   MentalHealth DiffWalking     Sex  AgeCategory   Race Diabetic  \\\n",
       "0          30.0          No  Female        55-59  White      Yes   \n",
       "1           0.0          No  Female  80 or older  White       No   \n",
       "2          30.0          No    Male        65-69  White      Yes   \n",
       "3           0.0          No  Female        75-79  White       No   \n",
       "4           0.0         Yes  Female        40-44  White       No   \n",
       "\n",
       "  PhysicalActivity  GenHealth  SleepTime Asthma KidneyDisease SkinCancer  \n",
       "0              Yes  Very good        5.0    Yes            No        Yes  \n",
       "1              Yes  Very good        7.0     No            No         No  \n",
       "2              Yes       Fair        8.0    Yes            No         No  \n",
       "3               No       Good        6.0     No            No        Yes  \n",
       "4              Yes  Very good        8.0     No            No         No  "
      ]
     },
     "execution_count": 657,
     "metadata": {},
     "output_type": "execute_result"
    }
   ],
   "source": [
    "heart_disease_df = pd.read_csv('./datasets/Key Indicators of Heart Disease.csv')\n",
    "heart_disease_df.head(5)"
   ]
  },
  {
   "attachments": {},
   "cell_type": "markdown",
   "metadata": {},
   "source": [
    "In a new dataframe, pass only the columns necessary when training a model."
   ]
  },
  {
   "cell_type": "code",
   "execution_count": 658,
   "metadata": {},
   "outputs": [
    {
     "name": "stdout",
     "output_type": "stream",
     "text": [
      "<class 'pandas.core.frame.DataFrame'>\n",
      "RangeIndex: 319795 entries, 0 to 319794\n",
      "Data columns (total 11 columns):\n",
      " #   Column            Non-Null Count   Dtype  \n",
      "---  ------            --------------   -----  \n",
      " 0   HeartDisease      319795 non-null  object \n",
      " 1   Sex               319795 non-null  object \n",
      " 2   AgeCategory       319795 non-null  object \n",
      " 3   Race              319795 non-null  object \n",
      " 4   BMI               319795 non-null  float64\n",
      " 5   Smoking           319795 non-null  object \n",
      " 6   AlcoholDrinking   319795 non-null  object \n",
      " 7   Stroke            319795 non-null  object \n",
      " 8   Diabetic          319795 non-null  object \n",
      " 9   PhysicalActivity  319795 non-null  object \n",
      " 10  GenHealth         319795 non-null  object \n",
      "dtypes: float64(1), object(10)\n",
      "memory usage: 26.8+ MB\n"
     ]
    }
   ],
   "source": [
    "heart_disease_df_filtered = heart_disease_df[['HeartDisease', 'Sex', 'AgeCategory', 'Race', 'BMI', 'Smoking', 'AlcoholDrinking', 'Stroke', 'Diabetic', 'PhysicalActivity', 'GenHealth']]\n",
    "heart_disease_df_filtered.info()"
   ]
  },
  {
   "attachments": {},
   "cell_type": "markdown",
   "metadata": {},
   "source": [
    "Check if there are missing values"
   ]
  },
  {
   "cell_type": "code",
   "execution_count": 659,
   "metadata": {},
   "outputs": [
    {
     "data": {
      "text/plain": [
       "HeartDisease        0\n",
       "Sex                 0\n",
       "AgeCategory         0\n",
       "Race                0\n",
       "BMI                 0\n",
       "Smoking             0\n",
       "AlcoholDrinking     0\n",
       "Stroke              0\n",
       "Diabetic            0\n",
       "PhysicalActivity    0\n",
       "GenHealth           0\n",
       "dtype: int64"
      ]
     },
     "execution_count": 659,
     "metadata": {},
     "output_type": "execute_result"
    }
   ],
   "source": [
    "heart_disease_df_filtered.isna().sum()"
   ]
  },
  {
   "cell_type": "code",
   "execution_count": 660,
   "metadata": {},
   "outputs": [
    {
     "data": {
      "text/html": [
       "<div>\n",
       "<style scoped>\n",
       "    .dataframe tbody tr th:only-of-type {\n",
       "        vertical-align: middle;\n",
       "    }\n",
       "\n",
       "    .dataframe tbody tr th {\n",
       "        vertical-align: top;\n",
       "    }\n",
       "\n",
       "    .dataframe thead th {\n",
       "        text-align: right;\n",
       "    }\n",
       "</style>\n",
       "<table border=\"1\" class=\"dataframe\">\n",
       "  <thead>\n",
       "    <tr style=\"text-align: right;\">\n",
       "      <th></th>\n",
       "      <th>BMI</th>\n",
       "    </tr>\n",
       "  </thead>\n",
       "  <tbody>\n",
       "    <tr>\n",
       "      <th>count</th>\n",
       "      <td>319795.000000</td>\n",
       "    </tr>\n",
       "    <tr>\n",
       "      <th>mean</th>\n",
       "      <td>28.325399</td>\n",
       "    </tr>\n",
       "    <tr>\n",
       "      <th>std</th>\n",
       "      <td>6.356100</td>\n",
       "    </tr>\n",
       "    <tr>\n",
       "      <th>min</th>\n",
       "      <td>12.020000</td>\n",
       "    </tr>\n",
       "    <tr>\n",
       "      <th>25%</th>\n",
       "      <td>24.030000</td>\n",
       "    </tr>\n",
       "    <tr>\n",
       "      <th>50%</th>\n",
       "      <td>27.340000</td>\n",
       "    </tr>\n",
       "    <tr>\n",
       "      <th>75%</th>\n",
       "      <td>31.420000</td>\n",
       "    </tr>\n",
       "    <tr>\n",
       "      <th>max</th>\n",
       "      <td>94.850000</td>\n",
       "    </tr>\n",
       "  </tbody>\n",
       "</table>\n",
       "</div>"
      ],
      "text/plain": [
       "                 BMI\n",
       "count  319795.000000\n",
       "mean       28.325399\n",
       "std         6.356100\n",
       "min        12.020000\n",
       "25%        24.030000\n",
       "50%        27.340000\n",
       "75%        31.420000\n",
       "max        94.850000"
      ]
     },
     "execution_count": 660,
     "metadata": {},
     "output_type": "execute_result"
    }
   ],
   "source": [
    "heart_disease_df_filtered.describe()"
   ]
  },
  {
   "attachments": {},
   "cell_type": "markdown",
   "metadata": {},
   "source": [
    "### Checking If Target Variable is Binary\n",
    "\n",
    "The `HeartDisease` column is the target variable. It should only contain two unique values. In this case, it is `Yes` and `No` values."
   ]
  },
  {
   "cell_type": "code",
   "execution_count": 661,
   "metadata": {},
   "outputs": [
    {
     "data": {
      "text/plain": [
       "<AxesSubplot: xlabel='HeartDisease', ylabel='count'>"
      ]
     },
     "execution_count": 661,
     "metadata": {},
     "output_type": "execute_result"
    },
    {
     "data": {
      "image/png": "[encoded data removed]",
      "text/plain": [
       "<Figure size 500x400 with 1 Axes>"
      ]
     },
     "metadata": {},
     "output_type": "display_data"
    }
   ],
   "source": [
    "sb.countplot(x='HeartDisease', data=heart_disease_df_filtered)"
   ]
  },
  {
   "attachments": {},
   "cell_type": "markdown",
   "metadata": {},
   "source": [
    "There is an imbalance between two classes, indicating that the distribution of data is not uniform across the classes. When predicting heart disease, this can significantly skew the results of the trained model. To equalize the class distribution, we'll use SMOTE (Synthetic Minority Oversampling Method). For SMOTE to function properly, all categorical data must first be converted into binary (using dummy indications).\n",
    "\n",
    "<em>The <b>SMOTE</b> algorithm takes in the closest minority class data entries and creates new combinations based on those entries.<sup>2</sup></em>\n"
   ]
  },
  {
   "attachments": {},
   "cell_type": "markdown",
   "metadata": {},
   "source": [
    "### Converting Categorical Features to Dummy Indicators\n",
    "\n",
    "Get all the categorical variables"
   ]
  },
  {
   "cell_type": "code",
   "execution_count": 662,
   "metadata": {},
   "outputs": [
    {
     "name": "stdout",
     "output_type": "stream",
     "text": [
      "There are 10 categorical variables:\n",
      "\n",
      "HeartDisease, Sex, AgeCategory, Race, Smoking, AlcoholDrinking, Stroke, Diabetic, PhysicalActivity, GenHealth\n"
     ]
    }
   ],
   "source": [
    "categorical = [var for var in heart_disease_df_filtered.columns if heart_disease_df_filtered[var].dtype=='O']\n",
    "\n",
    "print(f'There are {len(categorical)} categorical variables:\\n')\n",
    "print(\", \".join(categorical))"
   ]
  },
  {
   "attachments": {},
   "cell_type": "markdown",
   "metadata": {},
   "source": [
    "View frequency distribution of all categorical features. Check for any questionable values."
   ]
  },
  {
   "cell_type": "code",
   "execution_count": 663,
   "metadata": {},
   "outputs": [
    {
     "name": "stdout",
     "output_type": "stream",
     "text": [
      "No     0.914405\n",
      "Yes    0.085595\n",
      "Name: HeartDisease, dtype: float64\n",
      "--------------------------------------------------------\n",
      "Female    0.524727\n",
      "Male      0.475273\n",
      "Name: Sex, dtype: float64\n",
      "--------------------------------------------------------\n",
      "65-69          0.106790\n",
      "60-64          0.105336\n",
      "70-74          0.097140\n",
      "55-59          0.093050\n",
      "50-54          0.079370\n",
      "80 or older    0.075527\n",
      "45-49          0.068141\n",
      "75-79          0.067174\n",
      "18-24          0.065867\n",
      "40-44          0.065686\n",
      "35-39          0.064260\n",
      "30-34          0.058641\n",
      "25-29          0.053018\n",
      "Name: AgeCategory, dtype: float64\n",
      "--------------------------------------------------------\n",
      "White                             0.766779\n",
      "Hispanic                          0.085824\n",
      "Black                             0.071730\n",
      "Other                             0.034172\n",
      "Asian                             0.025229\n",
      "American Indian/Alaskan Native    0.016267\n",
      "Name: Race, dtype: float64\n",
      "--------------------------------------------------------\n",
      "No     0.587523\n",
      "Yes    0.412477\n",
      "Name: Smoking, dtype: float64\n",
      "--------------------------------------------------------\n",
      "No     0.931903\n",
      "Yes    0.068097\n",
      "Name: AlcoholDrinking, dtype: float64\n",
      "--------------------------------------------------------\n",
      "No     0.96226\n",
      "Yes    0.03774\n",
      "Name: Stroke, dtype: float64\n",
      "--------------------------------------------------------\n",
      "No                         0.843206\n",
      "Yes                        0.127588\n",
      "No, borderline diabetes    0.021204\n",
      "Yes (during pregnancy)     0.008002\n",
      "Name: Diabetic, dtype: float64\n",
      "--------------------------------------------------------\n",
      "Yes    0.775362\n",
      "No     0.224638\n",
      "Name: PhysicalActivity, dtype: float64\n",
      "--------------------------------------------------------\n",
      "Very good    0.356034\n",
      "Good         0.291215\n",
      "Excellent    0.209015\n",
      "Fair         0.108435\n",
      "Poor         0.035301\n",
      "Name: GenHealth, dtype: float64\n",
      "--------------------------------------------------------\n"
     ]
    }
   ],
   "source": [
    "for var in categorical: \n",
    "    print(heart_disease_df_filtered[var].value_counts()/np.float(len(heart_disease_df_filtered)))\n",
    "    print(\"--------------------------------------------------------\")"
   ]
  },
  {
   "cell_type": "code",
   "execution_count": 664,
   "metadata": {},
   "outputs": [],
   "source": [
    "categorical_drop_first = [elem for elem in categorical if elem not in ['AgeCategory', 'Race', 'GenHealth']]\n",
    "categorical_no_drop = [elem for elem in categorical if elem in ['AgeCategory', 'Race', 'GenHealth']]"
   ]
  },
  {
   "attachments": {},
   "cell_type": "markdown",
   "metadata": {},
   "source": [
    "Convert all categorical features to dummy indicators with 0 (No) or 1 (Yes) as the value."
   ]
  },
  {
   "cell_type": "code",
   "execution_count": 665,
   "metadata": {},
   "outputs": [
    {
     "data": {
      "text/html": [
       "<div>\n",
       "<style scoped>\n",
       "    .dataframe tbody tr th:only-of-type {\n",
       "        vertical-align: middle;\n",
       "    }\n",
       "\n",
       "    .dataframe tbody tr th {\n",
       "        vertical-align: top;\n",
       "    }\n",
       "\n",
       "    .dataframe thead th {\n",
       "        text-align: right;\n",
       "    }\n",
       "</style>\n",
       "<table border=\"1\" class=\"dataframe\">\n",
       "  <thead>\n",
       "    <tr style=\"text-align: right;\">\n",
       "      <th></th>\n",
       "      <th>AgeCategory</th>\n",
       "      <th>Race</th>\n",
       "      <th>BMI</th>\n",
       "      <th>GenHealth</th>\n",
       "      <th>HeartDisease_Yes</th>\n",
       "      <th>Sex_Male</th>\n",
       "      <th>Smoking_Yes</th>\n",
       "      <th>AlcoholDrinking_Yes</th>\n",
       "      <th>Stroke_Yes</th>\n",
       "      <th>Diabetic_No, borderline diabetes</th>\n",
       "      <th>Diabetic_Yes</th>\n",
       "      <th>Diabetic_Yes (during pregnancy)</th>\n",
       "      <th>PhysicalActivity_Yes</th>\n",
       "    </tr>\n",
       "  </thead>\n",
       "  <tbody>\n",
       "    <tr>\n",
       "      <th>0</th>\n",
       "      <td>55-59</td>\n",
       "      <td>White</td>\n",
       "      <td>16.60</td>\n",
       "      <td>Very good</td>\n",
       "      <td>0</td>\n",
       "      <td>0</td>\n",
       "      <td>1</td>\n",
       "      <td>0</td>\n",
       "      <td>0</td>\n",
       "      <td>0</td>\n",
       "      <td>1</td>\n",
       "      <td>0</td>\n",
       "      <td>1</td>\n",
       "    </tr>\n",
       "    <tr>\n",
       "      <th>1</th>\n",
       "      <td>80 or older</td>\n",
       "      <td>White</td>\n",
       "      <td>20.34</td>\n",
       "      <td>Very good</td>\n",
       "      <td>0</td>\n",
       "      <td>0</td>\n",
       "      <td>0</td>\n",
       "      <td>0</td>\n",
       "      <td>1</td>\n",
       "      <td>0</td>\n",
       "      <td>0</td>\n",
       "      <td>0</td>\n",
       "      <td>1</td>\n",
       "    </tr>\n",
       "    <tr>\n",
       "      <th>2</th>\n",
       "      <td>65-69</td>\n",
       "      <td>White</td>\n",
       "      <td>26.58</td>\n",
       "      <td>Fair</td>\n",
       "      <td>0</td>\n",
       "      <td>1</td>\n",
       "      <td>1</td>\n",
       "      <td>0</td>\n",
       "      <td>0</td>\n",
       "      <td>0</td>\n",
       "      <td>1</td>\n",
       "      <td>0</td>\n",
       "      <td>1</td>\n",
       "    </tr>\n",
       "    <tr>\n",
       "      <th>3</th>\n",
       "      <td>75-79</td>\n",
       "      <td>White</td>\n",
       "      <td>24.21</td>\n",
       "      <td>Good</td>\n",
       "      <td>0</td>\n",
       "      <td>0</td>\n",
       "      <td>0</td>\n",
       "      <td>0</td>\n",
       "      <td>0</td>\n",
       "      <td>0</td>\n",
       "      <td>0</td>\n",
       "      <td>0</td>\n",
       "      <td>0</td>\n",
       "    </tr>\n",
       "    <tr>\n",
       "      <th>4</th>\n",
       "      <td>40-44</td>\n",
       "      <td>White</td>\n",
       "      <td>23.71</td>\n",
       "      <td>Very good</td>\n",
       "      <td>0</td>\n",
       "      <td>0</td>\n",
       "      <td>0</td>\n",
       "      <td>0</td>\n",
       "      <td>0</td>\n",
       "      <td>0</td>\n",
       "      <td>0</td>\n",
       "      <td>0</td>\n",
       "      <td>1</td>\n",
       "    </tr>\n",
       "  </tbody>\n",
       "</table>\n",
       "</div>"
      ],
      "text/plain": [
       "   AgeCategory   Race    BMI  GenHealth  HeartDisease_Yes  Sex_Male  \\\n",
       "0        55-59  White  16.60  Very good                 0         0   \n",
       "1  80 or older  White  20.34  Very good                 0         0   \n",
       "2        65-69  White  26.58       Fair                 0         1   \n",
       "3        75-79  White  24.21       Good                 0         0   \n",
       "4        40-44  White  23.71  Very good                 0         0   \n",
       "\n",
       "   Smoking_Yes  AlcoholDrinking_Yes  Stroke_Yes  \\\n",
       "0            1                    0           0   \n",
       "1            0                    0           1   \n",
       "2            1                    0           0   \n",
       "3            0                    0           0   \n",
       "4            0                    0           0   \n",
       "\n",
       "   Diabetic_No, borderline diabetes  Diabetic_Yes  \\\n",
       "0                                 0             1   \n",
       "1                                 0             0   \n",
       "2                                 0             1   \n",
       "3                                 0             0   \n",
       "4                                 0             0   \n",
       "\n",
       "   Diabetic_Yes (during pregnancy)  PhysicalActivity_Yes  \n",
       "0                                0                     1  \n",
       "1                                0                     1  \n",
       "2                                0                     1  \n",
       "3                                0                     0  \n",
       "4                                0                     1  "
      ]
     },
     "execution_count": 665,
     "metadata": {},
     "output_type": "execute_result"
    }
   ],
   "source": [
    "# convert all categorical features excluding AgeCategory\n",
    "heart_disease_df_dummy = pd.get_dummies(data=heart_disease_df_filtered, columns=categorical_drop_first, drop_first=True)\n",
    "heart_disease_df_dummy.head(5)"
   ]
  },
  {
   "cell_type": "code",
   "execution_count": 666,
   "metadata": {},
   "outputs": [
    {
     "data": {
      "text/html": [
       "<div>\n",
       "<style scoped>\n",
       "    .dataframe tbody tr th:only-of-type {\n",
       "        vertical-align: middle;\n",
       "    }\n",
       "\n",
       "    .dataframe tbody tr th {\n",
       "        vertical-align: top;\n",
       "    }\n",
       "\n",
       "    .dataframe thead th {\n",
       "        text-align: right;\n",
       "    }\n",
       "</style>\n",
       "<table border=\"1\" class=\"dataframe\">\n",
       "  <thead>\n",
       "    <tr style=\"text-align: right;\">\n",
       "      <th></th>\n",
       "      <th>BMI</th>\n",
       "      <th>HeartDisease_Yes</th>\n",
       "      <th>Sex_Male</th>\n",
       "      <th>Smoking_Yes</th>\n",
       "      <th>AlcoholDrinking_Yes</th>\n",
       "      <th>Stroke_Yes</th>\n",
       "      <th>Diabetic_No, borderline diabetes</th>\n",
       "      <th>Diabetic_Yes</th>\n",
       "      <th>Diabetic_Yes (during pregnancy)</th>\n",
       "      <th>PhysicalActivity_Yes</th>\n",
       "      <th>...</th>\n",
       "      <th>Race_Asian</th>\n",
       "      <th>Race_Black</th>\n",
       "      <th>Race_Hispanic</th>\n",
       "      <th>Race_Other</th>\n",
       "      <th>Race_White</th>\n",
       "      <th>GenHealth_Excellent</th>\n",
       "      <th>GenHealth_Fair</th>\n",
       "      <th>GenHealth_Good</th>\n",
       "      <th>GenHealth_Poor</th>\n",
       "      <th>GenHealth_Very good</th>\n",
       "    </tr>\n",
       "  </thead>\n",
       "  <tbody>\n",
       "    <tr>\n",
       "      <th>0</th>\n",
       "      <td>16.60</td>\n",
       "      <td>0</td>\n",
       "      <td>0</td>\n",
       "      <td>1</td>\n",
       "      <td>0</td>\n",
       "      <td>0</td>\n",
       "      <td>0</td>\n",
       "      <td>1</td>\n",
       "      <td>0</td>\n",
       "      <td>1</td>\n",
       "      <td>...</td>\n",
       "      <td>0</td>\n",
       "      <td>0</td>\n",
       "      <td>0</td>\n",
       "      <td>0</td>\n",
       "      <td>1</td>\n",
       "      <td>0</td>\n",
       "      <td>0</td>\n",
       "      <td>0</td>\n",
       "      <td>0</td>\n",
       "      <td>1</td>\n",
       "    </tr>\n",
       "    <tr>\n",
       "      <th>1</th>\n",
       "      <td>20.34</td>\n",
       "      <td>0</td>\n",
       "      <td>0</td>\n",
       "      <td>0</td>\n",
       "      <td>0</td>\n",
       "      <td>1</td>\n",
       "      <td>0</td>\n",
       "      <td>0</td>\n",
       "      <td>0</td>\n",
       "      <td>1</td>\n",
       "      <td>...</td>\n",
       "      <td>0</td>\n",
       "      <td>0</td>\n",
       "      <td>0</td>\n",
       "      <td>0</td>\n",
       "      <td>1</td>\n",
       "      <td>0</td>\n",
       "      <td>0</td>\n",
       "      <td>0</td>\n",
       "      <td>0</td>\n",
       "      <td>1</td>\n",
       "    </tr>\n",
       "    <tr>\n",
       "      <th>2</th>\n",
       "      <td>26.58</td>\n",
       "      <td>0</td>\n",
       "      <td>1</td>\n",
       "      <td>1</td>\n",
       "      <td>0</td>\n",
       "      <td>0</td>\n",
       "      <td>0</td>\n",
       "      <td>1</td>\n",
       "      <td>0</td>\n",
       "      <td>1</td>\n",
       "      <td>...</td>\n",
       "      <td>0</td>\n",
       "      <td>0</td>\n",
       "      <td>0</td>\n",
       "      <td>0</td>\n",
       "      <td>1</td>\n",
       "      <td>0</td>\n",
       "      <td>1</td>\n",
       "      <td>0</td>\n",
       "      <td>0</td>\n",
       "      <td>0</td>\n",
       "    </tr>\n",
       "    <tr>\n",
       "      <th>3</th>\n",
       "      <td>24.21</td>\n",
       "      <td>0</td>\n",
       "      <td>0</td>\n",
       "      <td>0</td>\n",
       "      <td>0</td>\n",
       "      <td>0</td>\n",
       "      <td>0</td>\n",
       "      <td>0</td>\n",
       "      <td>0</td>\n",
       "      <td>0</td>\n",
       "      <td>...</td>\n",
       "      <td>0</td>\n",
       "      <td>0</td>\n",
       "      <td>0</td>\n",
       "      <td>0</td>\n",
       "      <td>1</td>\n",
       "      <td>0</td>\n",
       "      <td>0</td>\n",
       "      <td>1</td>\n",
       "      <td>0</td>\n",
       "      <td>0</td>\n",
       "    </tr>\n",
       "    <tr>\n",
       "      <th>4</th>\n",
       "      <td>23.71</td>\n",
       "      <td>0</td>\n",
       "      <td>0</td>\n",
       "      <td>0</td>\n",
       "      <td>0</td>\n",
       "      <td>0</td>\n",
       "      <td>0</td>\n",
       "      <td>0</td>\n",
       "      <td>0</td>\n",
       "      <td>1</td>\n",
       "      <td>...</td>\n",
       "      <td>0</td>\n",
       "      <td>0</td>\n",
       "      <td>0</td>\n",
       "      <td>0</td>\n",
       "      <td>1</td>\n",
       "      <td>0</td>\n",
       "      <td>0</td>\n",
       "      <td>0</td>\n",
       "      <td>0</td>\n",
       "      <td>1</td>\n",
       "    </tr>\n",
       "  </tbody>\n",
       "</table>\n",
       "<p>5 rows × 34 columns</p>\n",
       "</div>"
      ],
      "text/plain": [
       "     BMI  HeartDisease_Yes  Sex_Male  Smoking_Yes  AlcoholDrinking_Yes  \\\n",
       "0  16.60                 0         0            1                    0   \n",
       "1  20.34                 0         0            0                    0   \n",
       "2  26.58                 0         1            1                    0   \n",
       "3  24.21                 0         0            0                    0   \n",
       "4  23.71                 0         0            0                    0   \n",
       "\n",
       "   Stroke_Yes  Diabetic_No, borderline diabetes  Diabetic_Yes  \\\n",
       "0           0                                 0             1   \n",
       "1           1                                 0             0   \n",
       "2           0                                 0             1   \n",
       "3           0                                 0             0   \n",
       "4           0                                 0             0   \n",
       "\n",
       "   Diabetic_Yes (during pregnancy)  PhysicalActivity_Yes  ...  Race_Asian  \\\n",
       "0                                0                     1  ...           0   \n",
       "1                                0                     1  ...           0   \n",
       "2                                0                     1  ...           0   \n",
       "3                                0                     0  ...           0   \n",
       "4                                0                     1  ...           0   \n",
       "\n",
       "   Race_Black  Race_Hispanic  Race_Other  Race_White  GenHealth_Excellent  \\\n",
       "0           0              0           0           1                    0   \n",
       "1           0              0           0           1                    0   \n",
       "2           0              0           0           1                    0   \n",
       "3           0              0           0           1                    0   \n",
       "4           0              0           0           1                    0   \n",
       "\n",
       "   GenHealth_Fair  GenHealth_Good  GenHealth_Poor  GenHealth_Very good  \n",
       "0               0               0               0                    1  \n",
       "1               0               0               0                    1  \n",
       "2               1               0               0                    0  \n",
       "3               0               1               0                    0  \n",
       "4               0               0               0                    1  \n",
       "\n",
       "[5 rows x 34 columns]"
      ]
     },
     "execution_count": 666,
     "metadata": {},
     "output_type": "execute_result"
    }
   ],
   "source": [
    "# convert only AgeCategory\n",
    "heart_disease_df_dummy = pd.get_dummies(data=heart_disease_df_dummy, columns=categorical_no_drop)\n",
    "heart_disease_df_dummy.head(5)"
   ]
  },
  {
   "attachments": {},
   "cell_type": "markdown",
   "metadata": {},
   "source": [
    "From the initial 11 columns, we now have 33 columns for the target features."
   ]
  },
  {
   "cell_type": "code",
   "execution_count": 667,
   "metadata": {},
   "outputs": [
    {
     "name": "stdout",
     "output_type": "stream",
     "text": [
      "<class 'pandas.core.frame.DataFrame'>\n",
      "RangeIndex: 319795 entries, 0 to 319794\n",
      "Data columns (total 34 columns):\n",
      " #   Column                               Non-Null Count   Dtype  \n",
      "---  ------                               --------------   -----  \n",
      " 0   BMI                                  319795 non-null  float64\n",
      " 1   HeartDisease_Yes                     319795 non-null  uint8  \n",
      " 2   Sex_Male                             319795 non-null  uint8  \n",
      " 3   Smoking_Yes                          319795 non-null  uint8  \n",
      " 4   AlcoholDrinking_Yes                  319795 non-null  uint8  \n",
      " 5   Stroke_Yes                           319795 non-null  uint8  \n",
      " 6   Diabetic_No, borderline diabetes     319795 non-null  uint8  \n",
      " 7   Diabetic_Yes                         319795 non-null  uint8  \n",
      " 8   Diabetic_Yes (during pregnancy)      319795 non-null  uint8  \n",
      " 9   PhysicalActivity_Yes                 319795 non-null  uint8  \n",
      " 10  AgeCategory_18-24                    319795 non-null  uint8  \n",
      " 11  AgeCategory_25-29                    319795 non-null  uint8  \n",
      " 12  AgeCategory_30-34                    319795 non-null  uint8  \n",
      " 13  AgeCategory_35-39                    319795 non-null  uint8  \n",
      " 14  AgeCategory_40-44                    319795 non-null  uint8  \n",
      " 15  AgeCategory_45-49                    319795 non-null  uint8  \n",
      " 16  AgeCategory_50-54                    319795 non-null  uint8  \n",
      " 17  AgeCategory_55-59                    319795 non-null  uint8  \n",
      " 18  AgeCategory_60-64                    319795 non-null  uint8  \n",
      " 19  AgeCategory_65-69                    319795 non-null  uint8  \n",
      " 20  AgeCategory_70-74                    319795 non-null  uint8  \n",
      " 21  AgeCategory_75-79                    319795 non-null  uint8  \n",
      " 22  AgeCategory_80 or older              319795 non-null  uint8  \n",
      " 23  Race_American Indian/Alaskan Native  319795 non-null  uint8  \n",
      " 24  Race_Asian                           319795 non-null  uint8  \n",
      " 25  Race_Black                           319795 non-null  uint8  \n",
      " 26  Race_Hispanic                        319795 non-null  uint8  \n",
      " 27  Race_Other                           319795 non-null  uint8  \n",
      " 28  Race_White                           319795 non-null  uint8  \n",
      " 29  GenHealth_Excellent                  319795 non-null  uint8  \n",
      " 30  GenHealth_Fair                       319795 non-null  uint8  \n",
      " 31  GenHealth_Good                       319795 non-null  uint8  \n",
      " 32  GenHealth_Poor                       319795 non-null  uint8  \n",
      " 33  GenHealth_Very good                  319795 non-null  uint8  \n",
      "dtypes: float64(1), uint8(33)\n",
      "memory usage: 12.5 MB\n"
     ]
    }
   ],
   "source": [
    "heart_disease_df_dummy.info()"
   ]
  },
  {
   "attachments": {},
   "cell_type": "markdown",
   "metadata": {},
   "source": [
    "### Creating Synthetic Data using SMOTE"
   ]
  },
  {
   "cell_type": "code",
   "execution_count": 669,
   "metadata": {},
   "outputs": [
    {
     "data": {
      "text/plain": [
       "0    292422\n",
       "1     27373\n",
       "Name: HeartDisease_Yes, dtype: int64"
      ]
     },
     "execution_count": 669,
     "metadata": {},
     "output_type": "execute_result"
    }
   ],
   "source": [
    "X_features = heart_disease_df_dummy.drop(['HeartDisease_Yes'], axis=1)\n",
    "y_target = heart_disease_df_dummy['HeartDisease_Yes']\n",
    "y_target.value_counts()"
   ]
  },
  {
   "attachments": {},
   "cell_type": "markdown",
   "metadata": {},
   "source": [
    "From the initial 27,373 records for 'with Heart Disease', we now have an equal number of records for both classes, i.e. 292,422."
   ]
  },
  {
   "cell_type": "code",
   "execution_count": 670,
   "metadata": {},
   "outputs": [
    {
     "data": {
      "text/plain": [
       "0    292422\n",
       "1    292422\n",
       "Name: HeartDisease_Yes, dtype: int64"
      ]
     },
     "execution_count": 670,
     "metadata": {},
     "output_type": "execute_result"
    }
   ],
   "source": [
    "oversample = SMOTE()\n",
    "X_features_smoted, y_target_smoted = oversample.fit_resample(X_features, y_target)\n",
    "y_target_smoted = pd.Series(y_target_smoted)\n",
    "y_target_smoted.value_counts()"
   ]
  },
  {
   "attachments": {},
   "cell_type": "markdown",
   "metadata": {},
   "source": [
    "### Creating a Model\n",
    "\n",
    "We use Logistic Regression to create a model for predicting the Heart Disease. This model is trained by using 70% of our dataset."
   ]
  },
  {
   "cell_type": "code",
   "execution_count": 671,
   "metadata": {},
   "outputs": [
    {
     "name": "stdout",
     "output_type": "stream",
     "text": [
      "No. of train datasets: x=(409390, 33) y=(409390,)\n",
      "No. of test datasets: x=(175454, 33) y=(175454,)\n",
      "\n"
     ]
    }
   ],
   "source": [
    "X_train, X_test, y_train, y_test = train_test_split(X_features_smoted, y_target_smoted, test_size=0.3, random_state=0)\n",
    "\n",
    "print(f\"No. of train datasets: x={X_train.shape} y={y_train.shape}\")\n",
    "print(f\"No. of test datasets: x={X_test.shape} y={y_test.shape}\\n\")"
   ]
  },
  {
   "cell_type": "code",
   "execution_count": 672,
   "metadata": {},
   "outputs": [
    {
     "name": "stdout",
     "output_type": "stream",
     "text": [
      "Model type: LogisticRegression()\n"
     ]
    }
   ],
   "source": [
    "model = LogisticRegression(solver='lbfgs')\n",
    "model.fit(X_train, y_train)\n",
    "print(f\"Model type: {model}\")"
   ]
  },
  {
   "attachments": {},
   "cell_type": "markdown",
   "metadata": {},
   "source": [
    "### Evaluating the Model"
   ]
  },
  {
   "cell_type": "code",
   "execution_count": 673,
   "metadata": {},
   "outputs": [
    {
     "name": "stdout",
     "output_type": "stream",
     "text": [
      "Classification Report\n",
      "\n",
      "              precision    recall  f1-score   support\n",
      "\n",
      "          No       0.81      0.76      0.78     87481\n",
      "         Yes       0.77      0.82      0.80     87973\n",
      "\n",
      "    accuracy                           0.79    175454\n",
      "   macro avg       0.79      0.79      0.79    175454\n",
      "weighted avg       0.79      0.79      0.79    175454\n",
      "\n"
     ]
    },
    {
     "data": {
      "text/plain": [
       "Text(0.5, 1.0, 'Confusion Matrix')"
      ]
     },
     "execution_count": 673,
     "metadata": {},
     "output_type": "execute_result"
    },
    {
     "data": {
      "image/png": "[encoded data removed]",
      "text/plain": [
       "<Figure size 500x400 with 2 Axes>"
      ]
     },
     "metadata": {},
     "output_type": "display_data"
    }
   ],
   "source": [
    "y_pred_test = model.predict(X_test)\n",
    "\n",
    "print(\"Classification Report\\n\")\n",
    "print(classification_report(y_test, y_pred_test, target_names=['No', 'Yes']))\n",
    "\n",
    "cm = confusion_matrix(y_test, y_pred_test)\n",
    "TN, FP, FN, TP = cm.ravel()\n",
    "\n",
    "cm_matrix = pd.DataFrame(data=cm, columns=['Actual Positive:1', 'Actual Negative:0'], index=['Predict Positive:1', 'Predict Negative:0'])\n",
    "sb.heatmap(cm_matrix, annot=True, fmt='d')\n",
    "plt.title('Confusion Matrix')"
   ]
  },
  {
   "attachments": {},
   "cell_type": "markdown",
   "metadata": {},
   "source": [
    "The generated model for predicting the Heart Disease has an <b>accuracy score of 0.79</b>, which is the number of correct predictions out of the total number of predictions."
   ]
  },
  {
   "cell_type": "code",
   "execution_count": 674,
   "metadata": {},
   "outputs": [
    {
     "name": "stdout",
     "output_type": "stream",
     "text": [
      "Accuracy score: 0.79\n"
     ]
    }
   ],
   "source": [
    "accuracy_score = (TP + TN) / float(TP + TN + FP + FN)\n",
    "print(f'Accuracy score: {round(accuracy_score, 2)}')"
   ]
  },
  {
   "attachments": {},
   "cell_type": "markdown",
   "metadata": {},
   "source": [
    "The model has a <b>precision score of 0.77</b>, which tells us how many predictions are actually positive out of all the total positive predicted."
   ]
  },
  {
   "cell_type": "code",
   "execution_count": 675,
   "metadata": {},
   "outputs": [
    {
     "name": "stdout",
     "output_type": "stream",
     "text": [
      "Precision score: 0.77\n"
     ]
    }
   ],
   "source": [
    "precision_score = TP / float(TP + FP)\n",
    "print(f'Precision score: {round(precision_score, 2)}')"
   ]
  },
  {
   "attachments": {},
   "cell_type": "markdown",
   "metadata": {},
   "source": [
    "The model has a <b>recall score of 0.82</b>, which tells us how many predictions are actually positive out of all the positive classes."
   ]
  },
  {
   "cell_type": "code",
   "execution_count": 676,
   "metadata": {},
   "outputs": [
    {
     "name": "stdout",
     "output_type": "stream",
     "text": [
      "Recall score: 0.82\n"
     ]
    }
   ],
   "source": [
    "recall_score = TP / float(TP + FN)\n",
    "print(f'Recall score: {round(recall_score, 2)}')"
   ]
  },
  {
   "attachments": {},
   "cell_type": "markdown",
   "metadata": {},
   "source": [
    "### Make Test Prediction"
   ]
  },
  {
   "cell_type": "code",
   "execution_count": 677,
   "metadata": {},
   "outputs": [],
   "source": [
    "from enum import Enum\n",
    "\n",
    "class Field(Enum):\n",
    "\n",
    "    BMI = 0\n",
    "    Sex = 1\n",
    "    Smoking = 2\n",
    "    AlcoholDrinking = 3\n",
    "    Stroke = 4\n",
    "    DiabeticBorderline = 5\n",
    "    Diabetic = 6\n",
    "    DiabeticPregnancy= 7\n",
    "    PhysicalActivity = 8\n",
    "    AgeCategory_18_24 = 9  \n",
    "    AgeCategory_25_29 = 10\n",
    "    AgeCategory_30_34 = 11\n",
    "    AgeCategory_35_39 = 12\n",
    "    AgeCategory_40_44 = 13\n",
    "    AgeCategory_45_49 = 14\n",
    "    AgeCategory_50_54 = 15\n",
    "    AgeCategory_55_59 = 16\n",
    "    AgeCategory_60_64 = 17\n",
    "    AgeCategory_65_69 = 18\n",
    "    AgeCategory_70_74 = 19\n",
    "    AgeCategory_75_79 = 20\n",
    "    AgeCategory_80_older = 21\n",
    "    Race_American_Indian = 22\n",
    "    Race_Asian = 23\n",
    "    Race_Black = 24\n",
    "    Race_Hispanic = 25\n",
    "    Race_Other = 26\n",
    "    Race_White = 27\n",
    "    GenHealth_Excellent = 28\n",
    "    GenHealth_Fair = 29\n",
    "    GenHealth_Good = 30\n",
    "    GenHealth_Poor = 31\n",
    "    GenHealth_Very_Good = 32\n",
    "\n",
    "\n",
    "def getPrediction(input_data, model):\n",
    "    df = np.array(input_data).reshape(1,-1)\n",
    "    return round(model.predict_proba(df)[0][1] * 100, 2)\n",
    "\n",
    "\n",
    "def testPrediction(input_data, model):\n",
    "\n",
    "    print(\"PATIENT'S RECORD\")\n",
    "    print(\"--------------------------------------------\")\n",
    "    for key, value in input_data.items():\n",
    "        print(f\"{key}: {value}\")\n",
    "    print(\"--------------------------------------------\")\n",
    "    \n",
    "    upd_input_data = [0] * (heart_disease_df_dummy.columns.size - 1)\n",
    "\n",
    "    upd_input_data[Field.BMI.value] = input_data['BMI']\n",
    "    upd_input_data[Field.Sex.value] = 1 if input_data['Sex'].lower()  == 'male' else 0\n",
    "    upd_input_data[Field.AlcoholDrinking.value] = 1 if input_data['Alcohol Drinking'].lower() == 'yes' else 0\n",
    "    upd_input_data[Field.PhysicalActivity.value] = 1 if input_data['Physical Activity'].lower()  == 'yes' else 0\n",
    "    upd_input_data[Field.Smoking.value] = 1 if input_data['Smoking'].lower()  == 'yes' else 0\n",
    "    upd_input_data[Field.Stroke.value] = 1 if input_data['Stroke'].lower()  == 'yes' else 0\n",
    "    \n",
    "\n",
    "    race = input_data['Race'].lower()\n",
    "    if race in ['american indian', 'alaskan native']:\n",
    "        upd_input_data[Field.Race_American_Indian.value] = 1\n",
    "    elif race == 'asian':\n",
    "        upd_input_data[Field.Race_Asian.value] = 1\n",
    "    elif race == 'black':\n",
    "        upd_input_data[Field.Race_Black.value] = 1\n",
    "    elif race == 'hispanic':\n",
    "        upd_input_data[Field.Race_Hispanic.value] = 1\n",
    "    elif race == 'white':\n",
    "        upd_input_data[Field.Race_White.value] = 1\n",
    "    elif race == 'other':\n",
    "        upd_input_data[Field.Race_Other.value] = 1\n",
    "\n",
    "    \n",
    "    age = input_data['Age']\n",
    "    if 18 >= age <= 24:\n",
    "        upd_input_data[Field.AgeCategory_18_24.value] = 1\n",
    "    elif 25 >= age <= 29:\n",
    "        upd_input_data[Field.AgeCategory_25_29.value] = 1\n",
    "    elif 30 >= age <= 34:\n",
    "        upd_input_data[Field.AgeCategory_30_34.value] = 1\n",
    "    elif 35 >= age <= 39:\n",
    "        upd_input_data[Field.AgeCategory_35_39.value] = 1\n",
    "    elif 40 >= age <= 44:\n",
    "        upd_input_data[Field.AgeCategory_40_44.value] = 1\n",
    "    elif 45 >= age <= 49:\n",
    "        upd_input_data[Field.AgeCategory_45_49.value] = 1\n",
    "    elif 50 >= age <= 54:\n",
    "        upd_input_data[Field.AgeCategory_50_54.value] = 1\n",
    "    elif 55 >= age <= 59:\n",
    "        upd_input_data[Field.AgeCategory_55_59.value] = 1\n",
    "    elif 60 >= age <= 64:\n",
    "        upd_input_data[Field.AgeCategory_60_64.value] = 1\n",
    "    elif 65 >= age <= 69:\n",
    "        upd_input_data[Field.AgeCategory_65_69.value] = 1\n",
    "    elif 70 >= age <= 74:\n",
    "        upd_input_data[Field.AgeCategory_70_74.value] = 1\n",
    "    elif 75 >= age <= 79:\n",
    "        upd_input_data[Field.AgeCategory_75_79.value] = 1\n",
    "    elif age >= 80:\n",
    "        upd_input_data[Field.AgeCategory_80_older.value] = 1\n",
    "\n",
    "\n",
    "    diabetic = input_data['Diabetic'].lower()\n",
    "    if diabetic  == 'yes':\n",
    "        upd_input_data[Field.Diabetic.value] = 1\n",
    "    elif diabetic.endswith(\"borderline\"):\n",
    "        upd_input_data[Field.DiabeticBorderline.value] = 1\n",
    "    elif diabetic.endswith(\"during pregnancy\"):\n",
    "        upd_input_data[Field.DiabeticPregnancy.value] = 1\n",
    "    \n",
    "\n",
    "    general_health = input_data['General Health'].lower()\n",
    "    if general_health == 'poor':\n",
    "        upd_input_data[Field.GenHealth_Poor.value] = 1\n",
    "    elif general_health == 'fair':\n",
    "        upd_input_data[Field.GenHealth_Fair.value] = 1\n",
    "    elif general_health == 'good':\n",
    "        upd_input_data[Field.GenHealth_Good.value] = 1\n",
    "    elif general_health == 'very good':\n",
    "        upd_input_data[Field.GenHealth_Very_Good.value] = 1\n",
    "    elif general_health == 'excellent':\n",
    "        upd_input_data[Field.GenHealth_Excellent.value] = 1\n",
    "\n",
    "\n",
    "    prediction = getPrediction(upd_input_data, model)\n",
    "    print(f\"\\nProbability of {input_data['Name']} to get heart disease is {prediction}%\")\n"
   ]
  },
  {
   "attachments": {},
   "cell_type": "markdown",
   "metadata": {},
   "source": [
    "### Test data #1"
   ]
  },
  {
   "cell_type": "code",
   "execution_count": 678,
   "metadata": {},
   "outputs": [
    {
     "name": "stdout",
     "output_type": "stream",
     "text": [
      "PATIENT'S RECORD\n",
      "--------------------------------------------\n",
      "Name: Gino Cruz\n",
      "Sex: Male\n",
      "Age: 25\n",
      "Race: White\n",
      "BMI: 16.6\n",
      "Smoking: No\n",
      "Alcohol Drinking: No\n",
      "Stroke: No\n",
      "Diabetic: No\n",
      "Physical Activity: Yes\n",
      "General Health: Poor\n",
      "--------------------------------------------\n",
      "\n",
      "Probability of Gino Cruz to get heart disease is 2.64%\n"
     ]
    }
   ],
   "source": [
    "input_data = {\n",
    "    'Name' : 'Gino Cruz',\n",
    "    'Sex' : 'Male',\n",
    "    'Age' : 25,\n",
    "    'Race' : 'White',\n",
    "    'BMI' : 16.6,\n",
    "    'Smoking' : 'No',\n",
    "    'Alcohol Drinking' : 'No',\n",
    "    'Stroke' : 'No',\n",
    "    'Diabetic' : 'No',\n",
    "    'Physical Activity' : 'Yes',\n",
    "    'General Health' : 'Poor'\n",
    "}\n",
    "\n",
    "testPrediction(input_data, model)"
   ]
  },
  {
   "attachments": {},
   "cell_type": "markdown",
   "metadata": {},
   "source": [
    "### Test data #2"
   ]
  },
  {
   "cell_type": "code",
   "execution_count": 679,
   "metadata": {},
   "outputs": [
    {
     "name": "stdout",
     "output_type": "stream",
     "text": [
      "PATIENT'S RECORD\n",
      "--------------------------------------------\n",
      "Name: Nicole Santos\n",
      "Sex: Female\n",
      "Age: 60\n",
      "Race: White\n",
      "BMI: 46.6\n",
      "Smoking: No\n",
      "Alcohol Drinking: No\n",
      "Stroke: No\n",
      "Diabetic: Yes, during pregnancy\n",
      "Physical Activity: Yes\n",
      "General Health: Poor\n",
      "--------------------------------------------\n",
      "\n",
      "Probability of Nicole Santos to get heart disease is 10.21%\n"
     ]
    }
   ],
   "source": [
    "input_data = {\n",
    "    'Name' : 'Nicole Santos',\n",
    "    'Sex' : 'Female',\n",
    "    'Age' : 60,\n",
    "    'Race' : 'White',\n",
    "    'BMI' : 46.6,\n",
    "    'Smoking' : 'No',\n",
    "    'Alcohol Drinking' : 'No',\n",
    "    'Stroke' : 'No',\n",
    "    'Diabetic' : 'Yes, during pregnancy',\n",
    "    'Physical Activity' : 'Yes',\n",
    "    'General Health' : 'Poor'\n",
    "}\n",
    "\n",
    "testPrediction(input_data, model)"
   ]
  },
  {
   "attachments": {},
   "cell_type": "markdown",
   "metadata": {},
   "source": [
    "### Test data #3"
   ]
  },
  {
   "cell_type": "code",
   "execution_count": 680,
   "metadata": {},
   "outputs": [
    {
     "name": "stdout",
     "output_type": "stream",
     "text": [
      "PATIENT'S RECORD\n",
      "--------------------------------------------\n",
      "Name: Alfred Gomez\n",
      "Sex: Male\n",
      "Age: 60\n",
      "Race: White\n",
      "BMI: 94.6\n",
      "Smoking: Yes\n",
      "Alcohol Drinking: Yes\n",
      "Stroke: No\n",
      "Diabetic: Yes\n",
      "Physical Activity: No\n",
      "General Health: Poor\n",
      "--------------------------------------------\n",
      "\n",
      "Probability of Alfred Gomez to get heart disease is 79.23%\n"
     ]
    }
   ],
   "source": [
    "input_data = {\n",
    "    'Name' : 'Alfred Gomez',\n",
    "    'Sex' : 'Male',\n",
    "    'Age' : 60,\n",
    "    'Race' : 'White',\n",
    "    'BMI' : 94.6,\n",
    "    'Smoking' : 'Yes',\n",
    "    'Alcohol Drinking' : 'Yes',\n",
    "    'Stroke' : 'No',\n",
    "    'Diabetic' : 'Yes',\n",
    "    'Physical Activity' : 'No',\n",
    "    'General Health' : 'Poor'\n",
    "}\n",
    "\n",
    "testPrediction(input_data, model)"
   ]
  },
  {
   "cell_type": "code",
   "execution_count": 681,
   "metadata": {},
   "outputs": [
    {
     "name": "stdout",
     "output_type": "stream",
     "text": [
      "PATIENT'S RECORD\n",
      "--------------------------------------------\n",
      "Name: Erika de Leon\n",
      "Sex: Female\n",
      "Age: 80\n",
      "Race: Asian\n",
      "BMI: 94.6\n",
      "Smoking: Yes\n",
      "Alcohol Drinking: Yes\n",
      "Stroke: Yes\n",
      "Diabetic: Yes\n",
      "Physical Activity: No\n",
      "General Health: Poor\n",
      "--------------------------------------------\n",
      "\n",
      "Probability of Erika de Leon to get heart disease is 49.68%\n"
     ]
    }
   ],
   "source": [
    "input_data = {\n",
    "    'Name' : 'Erika de Leon',\n",
    "    'Sex' : 'Female',\n",
    "    'Age' : 80,\n",
    "    'Race' : 'Asian',\n",
    "    'BMI' : 94.6,\n",
    "    'Smoking' : 'Yes',\n",
    "    'Alcohol Drinking' : 'Yes',\n",
    "    'Stroke' : 'Yes',\n",
    "    'Diabetic' : 'Yes',\n",
    "    'Physical Activity' : 'No',\n",
    "    'General Health' : 'Poor'\n",
    "}\n",
    "\n",
    "testPrediction(input_data, model)"
   ]
  },
  {
   "attachments": {},
   "cell_type": "markdown",
   "metadata": {},
   "source": [
    "### References\n",
    "\n",
    "1. https://www.kaggle.com/datasets/kamilpytlak/personal-key-indicators-of-heart-disease\n",
    "2. https://medium.com/geekculture/how-to-deal-with-class-imbalances-in-python-960908fe0425\n",
    "3. https://medium.com/analytics-vidhya/what-is-a-confusion-matrix-d1c0f8feda5#:~:text=2.-,Classification%20Measure,our%20model%20and%20its%20performance.\n",
    "4. https://towardsdatascience.com/understanding-confusion-matrix-a9ad42dcfd62"
   ]
  },
  {
   "attachments": {},
   "cell_type": "markdown",
   "metadata": {},
   "source": [
    "> AML-2203 Winter 2023 Mid-Term Project (Group 7)"
   ]
  }
 ],
 "metadata": {
  "kernelspec": {
   "display_name": "Python 3",
   "language": "python",
   "name": "python3"
  },
  "language_info": {
   "codemirror_mode": {
    "name": "ipython",
    "version": 3
   },
   "file_extension": ".py",
   "mimetype": "text/x-python",
   "name": "python",
   "nbconvert_exporter": "python",
   "pygments_lexer": "ipython3",
   "version": "3.10.7"
  },
  "orig_nbformat": 4,
  "vscode": {
   "interpreter": {
    "hash": "006ceec57082682d3b909e056014cfb3f67146c2ee1293d561029ad71ca64256"
   }
  }
 },
 "nbformat": 4,
 "nbformat_minor": 2
}
